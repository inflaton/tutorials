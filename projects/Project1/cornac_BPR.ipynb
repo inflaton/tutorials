{
 "cells": [
  {
   "cell_type": "code",
   "execution_count": 5,
   "id": "0ddc845c-f740-4794-8b9e-9f18097c5402",
   "metadata": {},
   "outputs": [],
   "source": [
    "!pip install -q cornac==2.1 tensorflow"
   ]
  },
  {
   "cell_type": "code",
   "execution_count": 6,
   "id": "fac852af-bfc4-4c8d-9a78-3de0d4dcd96f",
   "metadata": {},
   "outputs": [
    {
     "name": "stdout",
     "output_type": "stream",
     "text": [
      "System version: 3.11.8 (main, Feb 26 2024, 15:36:12) [Clang 14.0.6 ]\n",
      "Cornac version: 2.1\n",
      "Tensorflow version: 2.16.1\n"
     ]
    }
   ],
   "source": [
    "import sys\n",
    "import cornac\n",
    "import tensorflow as tf\n",
    "\n",
    "print(f\"System version: {sys.version}\")\n",
    "print(f\"Cornac version: {cornac.__version__}\")\n",
    "print(f\"Tensorflow version: {tf.__version__}\")\n",
    "\n",
    "SEED = 20240514\n",
    "VERBOSE = True"
   ]
  },
  {
   "cell_type": "code",
   "execution_count": 8,
   "id": "217b78fa-7390-4287-8cb1-b407cf6ed5b6",
   "metadata": {},
   "outputs": [
    {
     "name": "stdout",
     "output_type": "stream",
     "text": [
      "rating_threshold = 1.0\n",
      "exclude_unknowns = True\n",
      "---\n",
      "Training data:\n",
      "Number of users = 21124\n",
      "Number of items = 30016\n",
      "Number of ratings = 169790\n",
      "Max rating = 5.0\n",
      "Min rating = 1.0\n",
      "Global mean = 4.3\n",
      "---\n",
      "Test data:\n",
      "Number of users = 21124\n",
      "Number of items = 30016\n",
      "Number of ratings = 17612\n",
      "Number of unknown users = 0\n",
      "Number of unknown items = 0\n",
      "---\n",
      "Total users = 21124\n",
      "Total items = 30016\n",
      "\n",
      "[BPR(K=500)] Training started!\n"
     ]
    },
    {
     "data": {
      "application/vnd.jupyter.widget-view+json": {
       "model_id": "06486be41ce94c1a9ef1a02217b6e310",
       "version_major": 2,
       "version_minor": 0
      },
      "text/plain": [
       "  0%|          | 0/1000 [00:00<?, ?it/s]"
      ]
     },
     "metadata": {},
     "output_type": "display_data"
    },
    {
     "name": "stdout",
     "output_type": "stream",
     "text": [
      "Optimization finished!\n",
      "\n",
      "[BPR(K=500)] Evaluation started!\n"
     ]
    },
    {
     "data": {
      "application/vnd.jupyter.widget-view+json": {
       "model_id": "b752a5f28696414c8de43d2682619669",
       "version_major": 2,
       "version_minor": 0
      },
      "text/plain": [
       "Ranking:   0%|          | 0/11672 [00:00<?, ?it/s]"
      ]
     },
     "metadata": {},
     "output_type": "display_data"
    },
    {
     "name": "stdout",
     "output_type": "stream",
     "text": [
      "\n",
      "TEST:\n",
      "...\n",
      "           | NCRR@50 | NDCG@50 | Recall@50 | Train (s) | Test (s)\n",
      "---------- + ------- + ------- + --------- + --------- + --------\n",
      "BPR(K=500) |  0.0189 |  0.0387 |    0.1139 |   93.0736 |  16.3079\n",
      "\n"
     ]
    }
   ],
   "source": [
    "from cornac.models import BPR\n",
    "from cornac.eval_methods import RatioSplit\n",
    "\n",
    "K = 500\n",
    "\n",
    "bpr = BPR(\n",
    "    k=K,\n",
    "    max_iter=1000,\n",
    "    learning_rate=0.01,\n",
    "    lambda_reg=0.008899,\n",
    "    verbose=VERBOSE,\n",
    "    seed=SEED,\n",
    "    name=f\"BPR(K={K})\",\n",
    ")\n",
    "\n",
    "eval_metrics = [\n",
    "    cornac.metrics.Recall(k=50),\n",
    "    cornac.metrics.NDCG(k=50),\n",
    "    cornac.metrics.NCRR(k=50),\n",
    "]\n",
    "\n",
    "df = pd.read_csv(\"./cs608_ip_train_v3.csv\")\n",
    "df1 = pd.read_csv(\"./cs608_ip_probe_v3.csv\")\n",
    "data_list = df.values.tolist()\n",
    "data_val = df1.values.tolist()\n",
    "\n",
    "rs = RatioSplit(data_list, test_size=0.1, seed=SEED, verbose=VERBOSE)\n",
    "\n",
    "cornac.Experiment(eval_method=rs, models=[bpr], metrics=eval_metrics).run()"
   ]
  },
  {
   "cell_type": "code",
   "execution_count": 11,
   "id": "267af5e3",
   "metadata": {},
   "outputs": [
    {
     "data": {
      "application/vnd.jupyter.widget-view+json": {
       "model_id": "d8a639bb75924156a8c03eb1130320eb",
       "version_major": 2,
       "version_minor": 0
      },
      "text/plain": [
       "  0%|          | 0/21124 [00:00<?, ?it/s]"
      ]
     },
     "metadata": {},
     "output_type": "display_data"
    },
    {
     "name": "stdout",
     "output_type": "stream",
     "text": [
      "CPU times: user 55.1 s, sys: 361 ms, total: 55.5 s\n",
      "Wall time: 55.6 s\n"
     ]
    }
   ],
   "source": [
    "%%time\n",
    "from tqdm.notebook import tqdm\n",
    "\n",
    "import zipfile\n",
    "\n",
    "# Sort the DataFrame by 'user_id' in ascending order\n",
    "df_sorted = df.sort_values(by='user_id')\n",
    "\n",
    "# Extract unique user IDs sorted in ascending order\n",
    "user_ids = df_sorted['user_id'].unique()\n",
    "\n",
    "# Generate recommendations for all users\n",
    "top_k_recommendations = []\n",
    "for user_id in tqdm(user_ids):\n",
    "    recs = bpr.recommend(user_id=user_id, k=50)\n",
    "    top_k_recommendations.append(recs)\n",
    "\n",
    "with open(\"submission.txt\", \"w\") as file:\n",
    "    for user_recommendations in top_k_recommendations:\n",
    "        file.write(\" \".join(map(str, user_recommendations)) + \"\\n\")\n",
    "\n",
    "# zip the submission file\n",
    "with zipfile.ZipFile('submission.zip', 'w') as file:\n",
    "    file.write('submission.txt')"
   ]
  }
 ],
 "metadata": {
  "kernelspec": {
   "display_name": "Python 3 (ipykernel)",
   "language": "python",
   "name": "python3"
  },
  "language_info": {
   "codemirror_mode": {
    "name": "ipython",
    "version": 3
   },
   "file_extension": ".py",
   "mimetype": "text/x-python",
   "name": "python",
   "nbconvert_exporter": "python",
   "pygments_lexer": "ipython3",
   "version": "3.11.8"
  }
 },
 "nbformat": 4,
 "nbformat_minor": 5
}

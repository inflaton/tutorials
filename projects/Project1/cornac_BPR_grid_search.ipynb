{
 "cells": [
  {
   "cell_type": "code",
   "execution_count": 1,
   "id": "0ddc845c-f740-4794-8b9e-9f18097c5402",
   "metadata": {},
   "outputs": [],
   "source": [
    "!pip install -q cornac==2.1 tensorflow"
   ]
  },
  {
   "cell_type": "code",
   "execution_count": 2,
   "id": "fac852af-bfc4-4c8d-9a78-3de0d4dcd96f",
   "metadata": {},
   "outputs": [
    {
     "name": "stdout",
     "output_type": "stream",
     "text": [
      "System version: 3.11.9 | packaged by Anaconda, Inc. | (main, Apr 19 2024, 16:40:41) [MSC v.1916 64 bit (AMD64)]\n",
      "Cornac version: 2.1\n",
      "Tensorflow version: 2.16.1\n"
     ]
    }
   ],
   "source": [
    "import sys\n",
    "import cornac\n",
    "import tensorflow as tf\n",
    "\n",
    "print(f\"System version: {sys.version}\")\n",
    "print(f\"Cornac version: {cornac.__version__}\")\n",
    "print(f\"Tensorflow version: {tf.__version__}\")\n",
    "\n",
    "SEED = 20240514\n",
    "VERBOSE = True"
   ]
  },
  {
   "cell_type": "code",
   "execution_count": 3,
   "id": "217b78fa-7390-4287-8cb1-b407cf6ed5b6",
   "metadata": {},
   "outputs": [
    {
     "name": "stdout",
     "output_type": "stream",
     "text": [
      "rating_threshold = 1.0\n",
      "exclude_unknowns = True\n",
      "---\n",
      "Training data:\n",
      "Number of users = 21124\n",
      "Number of items = 30016\n",
      "Number of ratings = 169790\n",
      "Max rating = 5.0\n",
      "Min rating = 1.0\n",
      "Global mean = 4.3\n",
      "---\n",
      "Test data:\n",
      "Number of users = 21124\n",
      "Number of items = 30016\n",
      "Number of ratings = 17612\n",
      "Number of unknown users = 0\n",
      "Number of unknown items = 0\n",
      "---\n",
      "Total users = 21124\n",
      "Total items = 30016\n",
      "\n",
      "[BPR(K=100, lr=0.001, reg=0.001, max_iter=100)] Training started!\n"
     ]
    },
    {
     "data": {
      "application/vnd.jupyter.widget-view+json": {
       "model_id": "9003df04974447f1898cd011c01c22c7",
       "version_major": 2,
       "version_minor": 0
      },
      "text/plain": [
       "  0%|          | 0/100 [00:00<?, ?it/s]"
      ]
     },
     "metadata": {},
     "output_type": "display_data"
    },
    {
     "name": "stdout",
     "output_type": "stream",
     "text": [
      "Optimization finished!\n",
      "\n",
      "[BPR(K=100, lr=0.001, reg=0.001, max_iter=100)] Evaluation started!\n"
     ]
    },
    {
     "data": {
      "application/vnd.jupyter.widget-view+json": {
       "model_id": "bb8bf12f247a4fef821bc94864261ca8",
       "version_major": 2,
       "version_minor": 0
      },
      "text/plain": [
       "Ranking:   0%|          | 0/11672 [00:00<?, ?it/s]"
      ]
     },
     "metadata": {},
     "output_type": "display_data"
    },
    {
     "name": "stdout",
     "output_type": "stream",
     "text": [
      "BPR(K=100, lr=0.001, reg=0.001, max_iter=100) model is saved to ./bpr_grid_search\\BPR(K=100, lr=0.001, reg=0.001, max_iter=100)\\2024-05-16_06-39-41-146474.pkl\n",
      "\n",
      "[BPR(K=100, lr=0.001, reg=0.001, max_iter=500)] Training started!\n"
     ]
    },
    {
     "data": {
      "application/vnd.jupyter.widget-view+json": {
       "model_id": "84b274e6a805482aaa93cef5395b5bde",
       "version_major": 2,
       "version_minor": 0
      },
      "text/plain": [
       "  0%|          | 0/500 [00:00<?, ?it/s]"
      ]
     },
     "metadata": {},
     "output_type": "display_data"
    },
    {
     "name": "stdout",
     "output_type": "stream",
     "text": [
      "Optimization finished!\n",
      "\n",
      "[BPR(K=100, lr=0.001, reg=0.001, max_iter=500)] Evaluation started!\n"
     ]
    },
    {
     "data": {
      "application/vnd.jupyter.widget-view+json": {
       "model_id": "85451ddc40e04331b660581c278b1fa2",
       "version_major": 2,
       "version_minor": 0
      },
      "text/plain": [
       "Ranking:   0%|          | 0/11672 [00:00<?, ?it/s]"
      ]
     },
     "metadata": {},
     "output_type": "display_data"
    },
    {
     "name": "stdout",
     "output_type": "stream",
     "text": [
      "BPR(K=100, lr=0.001, reg=0.001, max_iter=500) model is saved to ./bpr_grid_search\\BPR(K=100, lr=0.001, reg=0.001, max_iter=500)\\2024-05-16_06-40-28-465299.pkl\n",
      "\n",
      "[BPR(K=100, lr=0.001, reg=0.001, max_iter=1000)] Training started!\n"
     ]
    },
    {
     "data": {
      "application/vnd.jupyter.widget-view+json": {
       "model_id": "767bece59c7e4724814da623a19bf712",
       "version_major": 2,
       "version_minor": 0
      },
      "text/plain": [
       "  0%|          | 0/1000 [00:00<?, ?it/s]"
      ]
     },
     "metadata": {},
     "output_type": "display_data"
    },
    {
     "name": "stdout",
     "output_type": "stream",
     "text": [
      "Optimization finished!\n",
      "\n",
      "[BPR(K=100, lr=0.001, reg=0.001, max_iter=1000)] Evaluation started!\n"
     ]
    },
    {
     "data": {
      "application/vnd.jupyter.widget-view+json": {
       "model_id": "2ae6297b531444dbb0027085e5305088",
       "version_major": 2,
       "version_minor": 0
      },
      "text/plain": [
       "Ranking:   0%|          | 0/11672 [00:00<?, ?it/s]"
      ]
     },
     "metadata": {},
     "output_type": "display_data"
    },
    {
     "name": "stdout",
     "output_type": "stream",
     "text": [
      "BPR(K=100, lr=0.001, reg=0.001, max_iter=1000) model is saved to ./bpr_grid_search\\BPR(K=100, lr=0.001, reg=0.001, max_iter=1000)\\2024-05-16_06-41-46-099404.pkl\n",
      "\n",
      "[BPR(K=100, lr=0.001, reg=0.001, max_iter=2000)] Training started!\n"
     ]
    },
    {
     "data": {
      "application/vnd.jupyter.widget-view+json": {
       "model_id": "678aa7ab853f44c5acefc2faf24474dd",
       "version_major": 2,
       "version_minor": 0
      },
      "text/plain": [
       "  0%|          | 0/2000 [00:00<?, ?it/s]"
      ]
     },
     "metadata": {},
     "output_type": "display_data"
    },
    {
     "name": "stdout",
     "output_type": "stream",
     "text": [
      "Optimization finished!\n",
      "\n",
      "[BPR(K=100, lr=0.001, reg=0.001, max_iter=2000)] Evaluation started!\n"
     ]
    },
    {
     "data": {
      "application/vnd.jupyter.widget-view+json": {
       "model_id": "1660eb5884dc40dd846c45d61120c0ca",
       "version_major": 2,
       "version_minor": 0
      },
      "text/plain": [
       "Ranking:   0%|          | 0/11672 [00:00<?, ?it/s]"
      ]
     },
     "metadata": {},
     "output_type": "display_data"
    },
    {
     "name": "stdout",
     "output_type": "stream",
     "text": [
      "BPR(K=100, lr=0.001, reg=0.001, max_iter=2000) model is saved to ./bpr_grid_search\\BPR(K=100, lr=0.001, reg=0.001, max_iter=2000)\\2024-05-16_06-44-04-298936.pkl\n",
      "\n",
      "[BPR(K=100, lr=0.001, reg=0.01, max_iter=100)] Training started!\n"
     ]
    },
    {
     "data": {
      "application/vnd.jupyter.widget-view+json": {
       "model_id": "51cbe6cca52b4531bb413a94c7b021e1",
       "version_major": 2,
       "version_minor": 0
      },
      "text/plain": [
       "  0%|          | 0/100 [00:00<?, ?it/s]"
      ]
     },
     "metadata": {},
     "output_type": "display_data"
    },
    {
     "name": "stdout",
     "output_type": "stream",
     "text": [
      "Optimization finished!\n",
      "\n",
      "[BPR(K=100, lr=0.001, reg=0.01, max_iter=100)] Evaluation started!\n"
     ]
    },
    {
     "data": {
      "application/vnd.jupyter.widget-view+json": {
       "model_id": "2035b5dcfeac4904958b8e2a59693ace",
       "version_major": 2,
       "version_minor": 0
      },
      "text/plain": [
       "Ranking:   0%|          | 0/11672 [00:00<?, ?it/s]"
      ]
     },
     "metadata": {},
     "output_type": "display_data"
    },
    {
     "name": "stdout",
     "output_type": "stream",
     "text": [
      "BPR(K=100, lr=0.001, reg=0.01, max_iter=100) model is saved to ./bpr_grid_search\\BPR(K=100, lr=0.001, reg=0.01, max_iter=100)\\2024-05-16_06-44-27-046091.pkl\n",
      "\n",
      "[BPR(K=100, lr=0.001, reg=0.01, max_iter=500)] Training started!\n"
     ]
    },
    {
     "data": {
      "application/vnd.jupyter.widget-view+json": {
       "model_id": "16f51ce29d1c4a4bbaceed879163b4cc",
       "version_major": 2,
       "version_minor": 0
      },
      "text/plain": [
       "  0%|          | 0/500 [00:00<?, ?it/s]"
      ]
     },
     "metadata": {},
     "output_type": "display_data"
    },
    {
     "name": "stdout",
     "output_type": "stream",
     "text": [
      "Optimization finished!\n",
      "\n",
      "[BPR(K=100, lr=0.001, reg=0.01, max_iter=500)] Evaluation started!\n"
     ]
    },
    {
     "data": {
      "application/vnd.jupyter.widget-view+json": {
       "model_id": "bc58d24d68b44f2487e212fb51cfeb2e",
       "version_major": 2,
       "version_minor": 0
      },
      "text/plain": [
       "Ranking:   0%|          | 0/11672 [00:00<?, ?it/s]"
      ]
     },
     "metadata": {},
     "output_type": "display_data"
    },
    {
     "name": "stdout",
     "output_type": "stream",
     "text": [
      "BPR(K=100, lr=0.001, reg=0.01, max_iter=500) model is saved to ./bpr_grid_search\\BPR(K=100, lr=0.001, reg=0.01, max_iter=500)\\2024-05-16_06-45-17-825833.pkl\n",
      "\n",
      "[BPR(K=100, lr=0.001, reg=0.01, max_iter=1000)] Training started!\n"
     ]
    },
    {
     "data": {
      "application/vnd.jupyter.widget-view+json": {
       "model_id": "a9fc62a3c25a4202bb2cce79b54f4501",
       "version_major": 2,
       "version_minor": 0
      },
      "text/plain": [
       "  0%|          | 0/1000 [00:00<?, ?it/s]"
      ]
     },
     "metadata": {},
     "output_type": "display_data"
    },
    {
     "name": "stdout",
     "output_type": "stream",
     "text": [
      "Optimization finished!\n",
      "\n",
      "[BPR(K=100, lr=0.001, reg=0.01, max_iter=1000)] Evaluation started!\n"
     ]
    },
    {
     "data": {
      "application/vnd.jupyter.widget-view+json": {
       "model_id": "0017e45b709e40a88434b963079db65a",
       "version_major": 2,
       "version_minor": 0
      },
      "text/plain": [
       "Ranking:   0%|          | 0/11672 [00:00<?, ?it/s]"
      ]
     },
     "metadata": {},
     "output_type": "display_data"
    },
    {
     "name": "stdout",
     "output_type": "stream",
     "text": [
      "BPR(K=100, lr=0.001, reg=0.01, max_iter=1000) model is saved to ./bpr_grid_search\\BPR(K=100, lr=0.001, reg=0.01, max_iter=1000)\\2024-05-16_06-46-40-767183.pkl\n",
      "\n",
      "[BPR(K=100, lr=0.001, reg=0.01, max_iter=2000)] Training started!\n"
     ]
    },
    {
     "data": {
      "application/vnd.jupyter.widget-view+json": {
       "model_id": "f7c2f497b14b482faa4dea216a4133f2",
       "version_major": 2,
       "version_minor": 0
      },
      "text/plain": [
       "  0%|          | 0/2000 [00:00<?, ?it/s]"
      ]
     },
     "metadata": {},
     "output_type": "display_data"
    },
    {
     "name": "stdout",
     "output_type": "stream",
     "text": [
      "Optimization finished!\n",
      "\n",
      "[BPR(K=100, lr=0.001, reg=0.01, max_iter=2000)] Evaluation started!\n"
     ]
    },
    {
     "data": {
      "application/vnd.jupyter.widget-view+json": {
       "model_id": "9d55c39bf46a43d3a49b28f16c1557e2",
       "version_major": 2,
       "version_minor": 0
      },
      "text/plain": [
       "Ranking:   0%|          | 0/11672 [00:00<?, ?it/s]"
      ]
     },
     "metadata": {},
     "output_type": "display_data"
    },
    {
     "name": "stdout",
     "output_type": "stream",
     "text": [
      "BPR(K=100, lr=0.001, reg=0.01, max_iter=2000) model is saved to ./bpr_grid_search\\BPR(K=100, lr=0.001, reg=0.01, max_iter=2000)\\2024-05-16_06-49-10-081962.pkl\n",
      "\n",
      "[BPR(K=100, lr=0.001, reg=0.1, max_iter=100)] Training started!\n"
     ]
    },
    {
     "data": {
      "application/vnd.jupyter.widget-view+json": {
       "model_id": "f0f550a4d3674a98880d6c57e4b1c599",
       "version_major": 2,
       "version_minor": 0
      },
      "text/plain": [
       "  0%|          | 0/100 [00:00<?, ?it/s]"
      ]
     },
     "metadata": {},
     "output_type": "display_data"
    },
    {
     "name": "stdout",
     "output_type": "stream",
     "text": [
      "Optimization finished!\n",
      "\n",
      "[BPR(K=100, lr=0.001, reg=0.1, max_iter=100)] Evaluation started!\n"
     ]
    },
    {
     "data": {
      "application/vnd.jupyter.widget-view+json": {
       "model_id": "b126e4985ff84c16a8b6dc19ccb2382b",
       "version_major": 2,
       "version_minor": 0
      },
      "text/plain": [
       "Ranking:   0%|          | 0/11672 [00:00<?, ?it/s]"
      ]
     },
     "metadata": {},
     "output_type": "display_data"
    },
    {
     "name": "stdout",
     "output_type": "stream",
     "text": [
      "BPR(K=100, lr=0.001, reg=0.1, max_iter=100) model is saved to ./bpr_grid_search\\BPR(K=100, lr=0.001, reg=0.1, max_iter=100)\\2024-05-16_06-49-33-951005.pkl\n",
      "\n",
      "[BPR(K=100, lr=0.001, reg=0.1, max_iter=500)] Training started!\n"
     ]
    },
    {
     "data": {
      "application/vnd.jupyter.widget-view+json": {
       "model_id": "88a139a116de465ba9b22ccc1f848fff",
       "version_major": 2,
       "version_minor": 0
      },
      "text/plain": [
       "  0%|          | 0/500 [00:00<?, ?it/s]"
      ]
     },
     "metadata": {},
     "output_type": "display_data"
    },
    {
     "name": "stdout",
     "output_type": "stream",
     "text": [
      "Optimization finished!\n",
      "\n",
      "[BPR(K=100, lr=0.001, reg=0.1, max_iter=500)] Evaluation started!\n"
     ]
    },
    {
     "data": {
      "application/vnd.jupyter.widget-view+json": {
       "model_id": "a13c600852e9433f80bd24f8ee59c9d1",
       "version_major": 2,
       "version_minor": 0
      },
      "text/plain": [
       "Ranking:   0%|          | 0/11672 [00:00<?, ?it/s]"
      ]
     },
     "metadata": {},
     "output_type": "display_data"
    },
    {
     "name": "stdout",
     "output_type": "stream",
     "text": [
      "BPR(K=100, lr=0.001, reg=0.1, max_iter=500) model is saved to ./bpr_grid_search\\BPR(K=100, lr=0.001, reg=0.1, max_iter=500)\\2024-05-16_06-50-23-549686.pkl\n",
      "\n",
      "[BPR(K=100, lr=0.001, reg=0.1, max_iter=1000)] Training started!\n"
     ]
    },
    {
     "data": {
      "application/vnd.jupyter.widget-view+json": {
       "model_id": "5e99aa9ead634d879c3dbe696e985c92",
       "version_major": 2,
       "version_minor": 0
      },
      "text/plain": [
       "  0%|          | 0/1000 [00:00<?, ?it/s]"
      ]
     },
     "metadata": {},
     "output_type": "display_data"
    },
    {
     "name": "stdout",
     "output_type": "stream",
     "text": [
      "Optimization finished!\n",
      "\n",
      "[BPR(K=100, lr=0.001, reg=0.1, max_iter=1000)] Evaluation started!\n"
     ]
    },
    {
     "data": {
      "application/vnd.jupyter.widget-view+json": {
       "model_id": "731657fa34c5477fa5528629bcb15f19",
       "version_major": 2,
       "version_minor": 0
      },
      "text/plain": [
       "Ranking:   0%|          | 0/11672 [00:00<?, ?it/s]"
      ]
     },
     "metadata": {},
     "output_type": "display_data"
    },
    {
     "name": "stdout",
     "output_type": "stream",
     "text": [
      "BPR(K=100, lr=0.001, reg=0.1, max_iter=1000) model is saved to ./bpr_grid_search\\BPR(K=100, lr=0.001, reg=0.1, max_iter=1000)\\2024-05-16_06-51-41-111290.pkl\n",
      "\n",
      "[BPR(K=100, lr=0.001, reg=0.1, max_iter=2000)] Training started!\n"
     ]
    },
    {
     "data": {
      "application/vnd.jupyter.widget-view+json": {
       "model_id": "266cfaac39834d1f8312257f239d73e7",
       "version_major": 2,
       "version_minor": 0
      },
      "text/plain": [
       "  0%|          | 0/2000 [00:00<?, ?it/s]"
      ]
     },
     "metadata": {},
     "output_type": "display_data"
    },
    {
     "name": "stdout",
     "output_type": "stream",
     "text": [
      "Optimization finished!\n",
      "\n",
      "[BPR(K=100, lr=0.001, reg=0.1, max_iter=2000)] Evaluation started!\n"
     ]
    },
    {
     "data": {
      "application/vnd.jupyter.widget-view+json": {
       "model_id": "53efee3640544edeadd675daef3e0abb",
       "version_major": 2,
       "version_minor": 0
      },
      "text/plain": [
       "Ranking:   0%|          | 0/11672 [00:00<?, ?it/s]"
      ]
     },
     "metadata": {},
     "output_type": "display_data"
    },
    {
     "name": "stdout",
     "output_type": "stream",
     "text": [
      "BPR(K=100, lr=0.001, reg=0.1, max_iter=2000) model is saved to ./bpr_grid_search\\BPR(K=100, lr=0.001, reg=0.1, max_iter=2000)\\2024-05-16_06-54-08-053317.pkl\n",
      "\n",
      "[BPR(K=100, lr=0.001, reg=1.0, max_iter=100)] Training started!\n"
     ]
    },
    {
     "data": {
      "application/vnd.jupyter.widget-view+json": {
       "model_id": "4412d8a5197c411b9bdbba20e47137a9",
       "version_major": 2,
       "version_minor": 0
      },
      "text/plain": [
       "  0%|          | 0/100 [00:00<?, ?it/s]"
      ]
     },
     "metadata": {},
     "output_type": "display_data"
    },
    {
     "name": "stdout",
     "output_type": "stream",
     "text": [
      "Optimization finished!\n",
      "\n",
      "[BPR(K=100, lr=0.001, reg=1.0, max_iter=100)] Evaluation started!\n"
     ]
    },
    {
     "data": {
      "application/vnd.jupyter.widget-view+json": {
       "model_id": "2f8de3f3ee1a437a9c26df91969975ec",
       "version_major": 2,
       "version_minor": 0
      },
      "text/plain": [
       "Ranking:   0%|          | 0/11672 [00:00<?, ?it/s]"
      ]
     },
     "metadata": {},
     "output_type": "display_data"
    },
    {
     "name": "stdout",
     "output_type": "stream",
     "text": [
      "BPR(K=100, lr=0.001, reg=1.0, max_iter=100) model is saved to ./bpr_grid_search\\BPR(K=100, lr=0.001, reg=1.0, max_iter=100)\\2024-05-16_06-54-31-655996.pkl\n",
      "\n",
      "[BPR(K=100, lr=0.001, reg=1.0, max_iter=500)] Training started!\n"
     ]
    },
    {
     "data": {
      "application/vnd.jupyter.widget-view+json": {
       "model_id": "070b06ecdc05465fb1caa09ffa8106b9",
       "version_major": 2,
       "version_minor": 0
      },
      "text/plain": [
       "  0%|          | 0/500 [00:00<?, ?it/s]"
      ]
     },
     "metadata": {},
     "output_type": "display_data"
    },
    {
     "name": "stdout",
     "output_type": "stream",
     "text": [
      "Optimization finished!\n",
      "\n",
      "[BPR(K=100, lr=0.001, reg=1.0, max_iter=500)] Evaluation started!\n"
     ]
    },
    {
     "data": {
      "application/vnd.jupyter.widget-view+json": {
       "model_id": "a74a92afd9674b818f4db9262bd8a52b",
       "version_major": 2,
       "version_minor": 0
      },
      "text/plain": [
       "Ranking:   0%|          | 0/11672 [00:00<?, ?it/s]"
      ]
     },
     "metadata": {},
     "output_type": "display_data"
    },
    {
     "name": "stdout",
     "output_type": "stream",
     "text": [
      "BPR(K=100, lr=0.001, reg=1.0, max_iter=500) model is saved to ./bpr_grid_search\\BPR(K=100, lr=0.001, reg=1.0, max_iter=500)\\2024-05-16_06-55-20-616890.pkl\n",
      "\n",
      "[BPR(K=100, lr=0.001, reg=1.0, max_iter=1000)] Training started!\n"
     ]
    },
    {
     "data": {
      "application/vnd.jupyter.widget-view+json": {
       "model_id": "a3fa99342f794b32a366d939877ac912",
       "version_major": 2,
       "version_minor": 0
      },
      "text/plain": [
       "  0%|          | 0/1000 [00:00<?, ?it/s]"
      ]
     },
     "metadata": {},
     "output_type": "display_data"
    },
    {
     "name": "stdout",
     "output_type": "stream",
     "text": [
      "Optimization finished!\n",
      "\n",
      "[BPR(K=100, lr=0.001, reg=1.0, max_iter=1000)] Evaluation started!\n"
     ]
    },
    {
     "data": {
      "application/vnd.jupyter.widget-view+json": {
       "model_id": "128090297f1843ad900f830adbfe45fc",
       "version_major": 2,
       "version_minor": 0
      },
      "text/plain": [
       "Ranking:   0%|          | 0/11672 [00:00<?, ?it/s]"
      ]
     },
     "metadata": {},
     "output_type": "display_data"
    },
    {
     "name": "stdout",
     "output_type": "stream",
     "text": [
      "BPR(K=100, lr=0.001, reg=1.0, max_iter=1000) model is saved to ./bpr_grid_search\\BPR(K=100, lr=0.001, reg=1.0, max_iter=1000)\\2024-05-16_06-56-42-038198.pkl\n",
      "\n",
      "[BPR(K=100, lr=0.001, reg=1.0, max_iter=2000)] Training started!\n"
     ]
    },
    {
     "data": {
      "application/vnd.jupyter.widget-view+json": {
       "model_id": "3357d35425b747fc8f4e0c140aac06b6",
       "version_major": 2,
       "version_minor": 0
      },
      "text/plain": [
       "  0%|          | 0/2000 [00:00<?, ?it/s]"
      ]
     },
     "metadata": {},
     "output_type": "display_data"
    },
    {
     "name": "stdout",
     "output_type": "stream",
     "text": [
      "Optimization finished!\n",
      "\n",
      "[BPR(K=100, lr=0.001, reg=1.0, max_iter=2000)] Evaluation started!\n"
     ]
    },
    {
     "data": {
      "application/vnd.jupyter.widget-view+json": {
       "model_id": "c20ef931b340432b971ee30fc8408723",
       "version_major": 2,
       "version_minor": 0
      },
      "text/plain": [
       "Ranking:   0%|          | 0/11672 [00:00<?, ?it/s]"
      ]
     },
     "metadata": {},
     "output_type": "display_data"
    },
    {
     "name": "stdout",
     "output_type": "stream",
     "text": [
      "BPR(K=100, lr=0.001, reg=1.0, max_iter=2000) model is saved to ./bpr_grid_search\\BPR(K=100, lr=0.001, reg=1.0, max_iter=2000)\\2024-05-16_06-59-05-104650.pkl\n",
      "\n",
      "[BPR(K=100, lr=0.01, reg=0.001, max_iter=100)] Training started!\n"
     ]
    },
    {
     "data": {
      "application/vnd.jupyter.widget-view+json": {
       "model_id": "c12842da27f14582a918c60d050c3fa6",
       "version_major": 2,
       "version_minor": 0
      },
      "text/plain": [
       "  0%|          | 0/100 [00:00<?, ?it/s]"
      ]
     },
     "metadata": {},
     "output_type": "display_data"
    },
    {
     "name": "stdout",
     "output_type": "stream",
     "text": [
      "Optimization finished!\n",
      "\n",
      "[BPR(K=100, lr=0.01, reg=0.001, max_iter=100)] Evaluation started!\n"
     ]
    },
    {
     "data": {
      "application/vnd.jupyter.widget-view+json": {
       "model_id": "0f7a11ee91f249849d23e367a40504fd",
       "version_major": 2,
       "version_minor": 0
      },
      "text/plain": [
       "Ranking:   0%|          | 0/11672 [00:00<?, ?it/s]"
      ]
     },
     "metadata": {},
     "output_type": "display_data"
    },
    {
     "name": "stdout",
     "output_type": "stream",
     "text": [
      "BPR(K=100, lr=0.01, reg=0.001, max_iter=100) model is saved to ./bpr_grid_search\\BPR(K=100, lr=0.01, reg=0.001, max_iter=100)\\2024-05-16_06-59-28-637432.pkl\n",
      "\n",
      "[BPR(K=100, lr=0.01, reg=0.001, max_iter=500)] Training started!\n"
     ]
    },
    {
     "data": {
      "application/vnd.jupyter.widget-view+json": {
       "model_id": "6fcaf447ca504e11b0ddc4908d0c2898",
       "version_major": 2,
       "version_minor": 0
      },
      "text/plain": [
       "  0%|          | 0/500 [00:00<?, ?it/s]"
      ]
     },
     "metadata": {},
     "output_type": "display_data"
    },
    {
     "name": "stdout",
     "output_type": "stream",
     "text": [
      "Optimization finished!\n",
      "\n",
      "[BPR(K=100, lr=0.01, reg=0.001, max_iter=500)] Evaluation started!\n"
     ]
    },
    {
     "data": {
      "application/vnd.jupyter.widget-view+json": {
       "model_id": "347edee529af451aa5cdd43f8c46ff0b",
       "version_major": 2,
       "version_minor": 0
      },
      "text/plain": [
       "Ranking:   0%|          | 0/11672 [00:00<?, ?it/s]"
      ]
     },
     "metadata": {},
     "output_type": "display_data"
    },
    {
     "name": "stdout",
     "output_type": "stream",
     "text": [
      "BPR(K=100, lr=0.01, reg=0.001, max_iter=500) model is saved to ./bpr_grid_search\\BPR(K=100, lr=0.01, reg=0.001, max_iter=500)\\2024-05-16_07-00-17-658032.pkl\n",
      "\n",
      "[BPR(K=100, lr=0.01, reg=0.001, max_iter=1000)] Training started!\n"
     ]
    },
    {
     "data": {
      "application/vnd.jupyter.widget-view+json": {
       "model_id": "384e36339a4e480a9ccae3d05742940c",
       "version_major": 2,
       "version_minor": 0
      },
      "text/plain": [
       "  0%|          | 0/1000 [00:00<?, ?it/s]"
      ]
     },
     "metadata": {},
     "output_type": "display_data"
    },
    {
     "name": "stdout",
     "output_type": "stream",
     "text": [
      "Optimization finished!\n",
      "\n",
      "[BPR(K=100, lr=0.01, reg=0.001, max_iter=1000)] Evaluation started!\n"
     ]
    },
    {
     "data": {
      "application/vnd.jupyter.widget-view+json": {
       "model_id": "4962b39364734ddeae8dfa0c1ca18342",
       "version_major": 2,
       "version_minor": 0
      },
      "text/plain": [
       "Ranking:   0%|          | 0/11672 [00:00<?, ?it/s]"
      ]
     },
     "metadata": {},
     "output_type": "display_data"
    },
    {
     "name": "stdout",
     "output_type": "stream",
     "text": [
      "BPR(K=100, lr=0.01, reg=0.001, max_iter=1000) model is saved to ./bpr_grid_search\\BPR(K=100, lr=0.01, reg=0.001, max_iter=1000)\\2024-05-16_07-01-38-121185.pkl\n",
      "\n",
      "[BPR(K=100, lr=0.01, reg=0.001, max_iter=2000)] Training started!\n"
     ]
    },
    {
     "data": {
      "application/vnd.jupyter.widget-view+json": {
       "model_id": "3779bfb4c6b4462ab9fe97ec7cd2f5d8",
       "version_major": 2,
       "version_minor": 0
      },
      "text/plain": [
       "  0%|          | 0/2000 [00:00<?, ?it/s]"
      ]
     },
     "metadata": {},
     "output_type": "display_data"
    },
    {
     "name": "stdout",
     "output_type": "stream",
     "text": [
      "Optimization finished!\n",
      "\n",
      "[BPR(K=100, lr=0.01, reg=0.001, max_iter=2000)] Evaluation started!\n"
     ]
    },
    {
     "data": {
      "application/vnd.jupyter.widget-view+json": {
       "model_id": "8407e81b61c24abc848b981b1933f718",
       "version_major": 2,
       "version_minor": 0
      },
      "text/plain": [
       "Ranking:   0%|          | 0/11672 [00:00<?, ?it/s]"
      ]
     },
     "metadata": {},
     "output_type": "display_data"
    },
    {
     "name": "stdout",
     "output_type": "stream",
     "text": [
      "BPR(K=100, lr=0.01, reg=0.001, max_iter=2000) model is saved to ./bpr_grid_search\\BPR(K=100, lr=0.01, reg=0.001, max_iter=2000)\\2024-05-16_07-03-59-949458.pkl\n",
      "\n",
      "[BPR(K=100, lr=0.01, reg=0.01, max_iter=100)] Training started!\n"
     ]
    },
    {
     "data": {
      "application/vnd.jupyter.widget-view+json": {
       "model_id": "0f20824e97e245a5b0421fda888d6e6f",
       "version_major": 2,
       "version_minor": 0
      },
      "text/plain": [
       "  0%|          | 0/100 [00:00<?, ?it/s]"
      ]
     },
     "metadata": {},
     "output_type": "display_data"
    },
    {
     "name": "stdout",
     "output_type": "stream",
     "text": [
      "Optimization finished!\n",
      "\n",
      "[BPR(K=100, lr=0.01, reg=0.01, max_iter=100)] Evaluation started!\n"
     ]
    },
    {
     "data": {
      "application/vnd.jupyter.widget-view+json": {
       "model_id": "fb066647ac844cfaa4ceb5f8bc09fbf6",
       "version_major": 2,
       "version_minor": 0
      },
      "text/plain": [
       "Ranking:   0%|          | 0/11672 [00:00<?, ?it/s]"
      ]
     },
     "metadata": {},
     "output_type": "display_data"
    },
    {
     "name": "stdout",
     "output_type": "stream",
     "text": [
      "BPR(K=100, lr=0.01, reg=0.01, max_iter=100) model is saved to ./bpr_grid_search\\BPR(K=100, lr=0.01, reg=0.01, max_iter=100)\\2024-05-16_07-04-21-487874.pkl\n",
      "\n",
      "[BPR(K=100, lr=0.01, reg=0.01, max_iter=500)] Training started!\n"
     ]
    },
    {
     "data": {
      "application/vnd.jupyter.widget-view+json": {
       "model_id": "049cf33567764f71814071afa8517f2b",
       "version_major": 2,
       "version_minor": 0
      },
      "text/plain": [
       "  0%|          | 0/500 [00:00<?, ?it/s]"
      ]
     },
     "metadata": {},
     "output_type": "display_data"
    },
    {
     "name": "stdout",
     "output_type": "stream",
     "text": [
      "Optimization finished!\n",
      "\n",
      "[BPR(K=100, lr=0.01, reg=0.01, max_iter=500)] Evaluation started!\n"
     ]
    },
    {
     "data": {
      "application/vnd.jupyter.widget-view+json": {
       "model_id": "e7eceb421c7e4ed99ee778c518bb9110",
       "version_major": 2,
       "version_minor": 0
      },
      "text/plain": [
       "Ranking:   0%|          | 0/11672 [00:00<?, ?it/s]"
      ]
     },
     "metadata": {},
     "output_type": "display_data"
    },
    {
     "name": "stdout",
     "output_type": "stream",
     "text": [
      "BPR(K=100, lr=0.01, reg=0.01, max_iter=500) model is saved to ./bpr_grid_search\\BPR(K=100, lr=0.01, reg=0.01, max_iter=500)\\2024-05-16_07-05-03-918733.pkl\n",
      "\n",
      "[BPR(K=100, lr=0.01, reg=0.01, max_iter=1000)] Training started!\n"
     ]
    },
    {
     "data": {
      "application/vnd.jupyter.widget-view+json": {
       "model_id": "8c269121427c475ca84fd20e137009f4",
       "version_major": 2,
       "version_minor": 0
      },
      "text/plain": [
       "  0%|          | 0/1000 [00:00<?, ?it/s]"
      ]
     },
     "metadata": {},
     "output_type": "display_data"
    },
    {
     "name": "stdout",
     "output_type": "stream",
     "text": [
      "Optimization finished!\n",
      "\n",
      "[BPR(K=100, lr=0.01, reg=0.01, max_iter=1000)] Evaluation started!\n"
     ]
    },
    {
     "data": {
      "application/vnd.jupyter.widget-view+json": {
       "model_id": "e2228368675145628dc18128d9949b8d",
       "version_major": 2,
       "version_minor": 0
      },
      "text/plain": [
       "Ranking:   0%|          | 0/11672 [00:00<?, ?it/s]"
      ]
     },
     "metadata": {},
     "output_type": "display_data"
    },
    {
     "name": "stdout",
     "output_type": "stream",
     "text": [
      "BPR(K=100, lr=0.01, reg=0.01, max_iter=1000) model is saved to ./bpr_grid_search\\BPR(K=100, lr=0.01, reg=0.01, max_iter=1000)\\2024-05-16_07-06-11-940639.pkl\n",
      "\n",
      "[BPR(K=100, lr=0.01, reg=0.01, max_iter=2000)] Training started!\n"
     ]
    },
    {
     "data": {
      "application/vnd.jupyter.widget-view+json": {
       "model_id": "7390d5a156ad47869ad7a86da33d7c4f",
       "version_major": 2,
       "version_minor": 0
      },
      "text/plain": [
       "  0%|          | 0/2000 [00:00<?, ?it/s]"
      ]
     },
     "metadata": {},
     "output_type": "display_data"
    },
    {
     "name": "stdout",
     "output_type": "stream",
     "text": [
      "Optimization finished!\n",
      "\n",
      "[BPR(K=100, lr=0.01, reg=0.01, max_iter=2000)] Evaluation started!\n"
     ]
    },
    {
     "data": {
      "application/vnd.jupyter.widget-view+json": {
       "model_id": "3fc42333d87f4c5eacfe69ff5eb9f8b7",
       "version_major": 2,
       "version_minor": 0
      },
      "text/plain": [
       "Ranking:   0%|          | 0/11672 [00:00<?, ?it/s]"
      ]
     },
     "metadata": {},
     "output_type": "display_data"
    },
    {
     "name": "stdout",
     "output_type": "stream",
     "text": [
      "BPR(K=100, lr=0.01, reg=0.01, max_iter=2000) model is saved to ./bpr_grid_search\\BPR(K=100, lr=0.01, reg=0.01, max_iter=2000)\\2024-05-16_07-08-08-977388.pkl\n",
      "\n",
      "[BPR(K=100, lr=0.01, reg=0.1, max_iter=100)] Training started!\n"
     ]
    },
    {
     "data": {
      "application/vnd.jupyter.widget-view+json": {
       "model_id": "cb7708ae40e641c0aea1f4a316bf9b3d",
       "version_major": 2,
       "version_minor": 0
      },
      "text/plain": [
       "  0%|          | 0/100 [00:00<?, ?it/s]"
      ]
     },
     "metadata": {},
     "output_type": "display_data"
    },
    {
     "name": "stdout",
     "output_type": "stream",
     "text": [
      "Optimization finished!\n",
      "\n",
      "[BPR(K=100, lr=0.01, reg=0.1, max_iter=100)] Evaluation started!\n"
     ]
    },
    {
     "data": {
      "application/vnd.jupyter.widget-view+json": {
       "model_id": "791ab63f9aad4fc0b0be17e862c49749",
       "version_major": 2,
       "version_minor": 0
      },
      "text/plain": [
       "Ranking:   0%|          | 0/11672 [00:00<?, ?it/s]"
      ]
     },
     "metadata": {},
     "output_type": "display_data"
    },
    {
     "name": "stdout",
     "output_type": "stream",
     "text": [
      "BPR(K=100, lr=0.01, reg=0.1, max_iter=100) model is saved to ./bpr_grid_search\\BPR(K=100, lr=0.01, reg=0.1, max_iter=100)\\2024-05-16_07-08-30-780454.pkl\n",
      "\n",
      "[BPR(K=100, lr=0.01, reg=0.1, max_iter=500)] Training started!\n"
     ]
    },
    {
     "data": {
      "application/vnd.jupyter.widget-view+json": {
       "model_id": "fbee76d379ce4c6f8b894e469d9adfb4",
       "version_major": 2,
       "version_minor": 0
      },
      "text/plain": [
       "  0%|          | 0/500 [00:00<?, ?it/s]"
      ]
     },
     "metadata": {},
     "output_type": "display_data"
    },
    {
     "name": "stdout",
     "output_type": "stream",
     "text": [
      "Optimization finished!\n",
      "\n",
      "[BPR(K=100, lr=0.01, reg=0.1, max_iter=500)] Evaluation started!\n"
     ]
    },
    {
     "data": {
      "application/vnd.jupyter.widget-view+json": {
       "model_id": "88f704763244467087963d6c94b863fd",
       "version_major": 2,
       "version_minor": 0
      },
      "text/plain": [
       "Ranking:   0%|          | 0/11672 [00:00<?, ?it/s]"
      ]
     },
     "metadata": {},
     "output_type": "display_data"
    },
    {
     "name": "stdout",
     "output_type": "stream",
     "text": [
      "BPR(K=100, lr=0.01, reg=0.1, max_iter=500) model is saved to ./bpr_grid_search\\BPR(K=100, lr=0.01, reg=0.1, max_iter=500)\\2024-05-16_07-09-11-929977.pkl\n",
      "\n",
      "[BPR(K=100, lr=0.01, reg=0.1, max_iter=1000)] Training started!\n"
     ]
    },
    {
     "data": {
      "application/vnd.jupyter.widget-view+json": {
       "model_id": "368d3c82cc9f4914a6f8175319065f5f",
       "version_major": 2,
       "version_minor": 0
      },
      "text/plain": [
       "  0%|          | 0/1000 [00:00<?, ?it/s]"
      ]
     },
     "metadata": {},
     "output_type": "display_data"
    },
    {
     "name": "stdout",
     "output_type": "stream",
     "text": [
      "Optimization finished!\n",
      "\n",
      "[BPR(K=100, lr=0.01, reg=0.1, max_iter=1000)] Evaluation started!\n"
     ]
    },
    {
     "data": {
      "application/vnd.jupyter.widget-view+json": {
       "model_id": "5fd2d1a483904b09b010c5e2a2f6070d",
       "version_major": 2,
       "version_minor": 0
      },
      "text/plain": [
       "Ranking:   0%|          | 0/11672 [00:00<?, ?it/s]"
      ]
     },
     "metadata": {},
     "output_type": "display_data"
    },
    {
     "name": "stdout",
     "output_type": "stream",
     "text": [
      "BPR(K=100, lr=0.01, reg=0.1, max_iter=1000) model is saved to ./bpr_grid_search\\BPR(K=100, lr=0.01, reg=0.1, max_iter=1000)\\2024-05-16_07-10-17-553661.pkl\n",
      "\n",
      "[BPR(K=100, lr=0.01, reg=0.1, max_iter=2000)] Training started!\n"
     ]
    },
    {
     "data": {
      "application/vnd.jupyter.widget-view+json": {
       "model_id": "9e0a995c7c41453d953cb05f216410c4",
       "version_major": 2,
       "version_minor": 0
      },
      "text/plain": [
       "  0%|          | 0/2000 [00:00<?, ?it/s]"
      ]
     },
     "metadata": {},
     "output_type": "display_data"
    },
    {
     "name": "stdout",
     "output_type": "stream",
     "text": [
      "Optimization finished!\n",
      "\n",
      "[BPR(K=100, lr=0.01, reg=0.1, max_iter=2000)] Evaluation started!\n"
     ]
    },
    {
     "data": {
      "application/vnd.jupyter.widget-view+json": {
       "model_id": "e9c0853b07c74b269314c0a31772bb5a",
       "version_major": 2,
       "version_minor": 0
      },
      "text/plain": [
       "Ranking:   0%|          | 0/11672 [00:00<?, ?it/s]"
      ]
     },
     "metadata": {},
     "output_type": "display_data"
    },
    {
     "name": "stdout",
     "output_type": "stream",
     "text": [
      "BPR(K=100, lr=0.01, reg=0.1, max_iter=2000) model is saved to ./bpr_grid_search\\BPR(K=100, lr=0.01, reg=0.1, max_iter=2000)\\2024-05-16_07-12-11-180946.pkl\n",
      "\n",
      "[BPR(K=100, lr=0.01, reg=1.0, max_iter=100)] Training started!\n"
     ]
    },
    {
     "data": {
      "application/vnd.jupyter.widget-view+json": {
       "model_id": "6cbd0f1bcffc48b1962a0a393ead2e47",
       "version_major": 2,
       "version_minor": 0
      },
      "text/plain": [
       "  0%|          | 0/100 [00:00<?, ?it/s]"
      ]
     },
     "metadata": {},
     "output_type": "display_data"
    },
    {
     "name": "stdout",
     "output_type": "stream",
     "text": [
      "Optimization finished!\n",
      "\n",
      "[BPR(K=100, lr=0.01, reg=1.0, max_iter=100)] Evaluation started!\n"
     ]
    },
    {
     "data": {
      "application/vnd.jupyter.widget-view+json": {
       "model_id": "ef456ca380094b0a8aa1ec768bd5fe91",
       "version_major": 2,
       "version_minor": 0
      },
      "text/plain": [
       "Ranking:   0%|          | 0/11672 [00:00<?, ?it/s]"
      ]
     },
     "metadata": {},
     "output_type": "display_data"
    },
    {
     "name": "stdout",
     "output_type": "stream",
     "text": [
      "BPR(K=100, lr=0.01, reg=1.0, max_iter=100) model is saved to ./bpr_grid_search\\BPR(K=100, lr=0.01, reg=1.0, max_iter=100)\\2024-05-16_07-12-31-665273.pkl\n",
      "\n",
      "[BPR(K=100, lr=0.01, reg=1.0, max_iter=500)] Training started!\n"
     ]
    },
    {
     "data": {
      "application/vnd.jupyter.widget-view+json": {
       "model_id": "cb1e7327df1b4ac3aad8bf4276664b27",
       "version_major": 2,
       "version_minor": 0
      },
      "text/plain": [
       "  0%|          | 0/500 [00:00<?, ?it/s]"
      ]
     },
     "metadata": {},
     "output_type": "display_data"
    },
    {
     "name": "stdout",
     "output_type": "stream",
     "text": [
      "Optimization finished!\n",
      "\n",
      "[BPR(K=100, lr=0.01, reg=1.0, max_iter=500)] Evaluation started!\n"
     ]
    },
    {
     "data": {
      "application/vnd.jupyter.widget-view+json": {
       "model_id": "63a4ffa64be54d9f89fead1763ca4907",
       "version_major": 2,
       "version_minor": 0
      },
      "text/plain": [
       "Ranking:   0%|          | 0/11672 [00:00<?, ?it/s]"
      ]
     },
     "metadata": {},
     "output_type": "display_data"
    },
    {
     "name": "stdout",
     "output_type": "stream",
     "text": [
      "BPR(K=100, lr=0.01, reg=1.0, max_iter=500) model is saved to ./bpr_grid_search\\BPR(K=100, lr=0.01, reg=1.0, max_iter=500)\\2024-05-16_07-13-12-142393.pkl\n",
      "\n",
      "[BPR(K=100, lr=0.01, reg=1.0, max_iter=1000)] Training started!\n"
     ]
    },
    {
     "data": {
      "application/vnd.jupyter.widget-view+json": {
       "model_id": "76d26b49a99e4d61a2cb3220b73a595d",
       "version_major": 2,
       "version_minor": 0
      },
      "text/plain": [
       "  0%|          | 0/1000 [00:00<?, ?it/s]"
      ]
     },
     "metadata": {},
     "output_type": "display_data"
    },
    {
     "name": "stdout",
     "output_type": "stream",
     "text": [
      "Optimization finished!\n",
      "\n",
      "[BPR(K=100, lr=0.01, reg=1.0, max_iter=1000)] Evaluation started!\n"
     ]
    },
    {
     "data": {
      "application/vnd.jupyter.widget-view+json": {
       "model_id": "476aa4ca429a44d7875724bb86d4c829",
       "version_major": 2,
       "version_minor": 0
      },
      "text/plain": [
       "Ranking:   0%|          | 0/11672 [00:00<?, ?it/s]"
      ]
     },
     "metadata": {},
     "output_type": "display_data"
    },
    {
     "name": "stdout",
     "output_type": "stream",
     "text": [
      "BPR(K=100, lr=0.01, reg=1.0, max_iter=1000) model is saved to ./bpr_grid_search\\BPR(K=100, lr=0.01, reg=1.0, max_iter=1000)\\2024-05-16_07-14-17-709092.pkl\n",
      "\n",
      "[BPR(K=100, lr=0.01, reg=1.0, max_iter=2000)] Training started!\n"
     ]
    },
    {
     "data": {
      "application/vnd.jupyter.widget-view+json": {
       "model_id": "34268e316bdd49749f2897817f76b4cc",
       "version_major": 2,
       "version_minor": 0
      },
      "text/plain": [
       "  0%|          | 0/2000 [00:00<?, ?it/s]"
      ]
     },
     "metadata": {},
     "output_type": "display_data"
    },
    {
     "name": "stdout",
     "output_type": "stream",
     "text": [
      "Optimization finished!\n",
      "\n",
      "[BPR(K=100, lr=0.01, reg=1.0, max_iter=2000)] Evaluation started!\n"
     ]
    },
    {
     "data": {
      "application/vnd.jupyter.widget-view+json": {
       "model_id": "1fbf17d2d386456d8797726191d584a4",
       "version_major": 2,
       "version_minor": 0
      },
      "text/plain": [
       "Ranking:   0%|          | 0/11672 [00:00<?, ?it/s]"
      ]
     },
     "metadata": {},
     "output_type": "display_data"
    },
    {
     "name": "stdout",
     "output_type": "stream",
     "text": [
      "BPR(K=100, lr=0.01, reg=1.0, max_iter=2000) model is saved to ./bpr_grid_search\\BPR(K=100, lr=0.01, reg=1.0, max_iter=2000)\\2024-05-16_07-21-34-173142.pkl\n",
      "\n",
      "[BPR(K=100, lr=0.1, reg=0.001, max_iter=100)] Training started!\n"
     ]
    },
    {
     "data": {
      "application/vnd.jupyter.widget-view+json": {
       "model_id": "71c6876879df40eaafd6685179188d6b",
       "version_major": 2,
       "version_minor": 0
      },
      "text/plain": [
       "  0%|          | 0/100 [00:00<?, ?it/s]"
      ]
     },
     "metadata": {},
     "output_type": "display_data"
    },
    {
     "name": "stdout",
     "output_type": "stream",
     "text": [
      "Optimization finished!\n",
      "\n",
      "[BPR(K=100, lr=0.1, reg=0.001, max_iter=100)] Evaluation started!\n"
     ]
    },
    {
     "data": {
      "application/vnd.jupyter.widget-view+json": {
       "model_id": "c09dfd19b7c54f4b9034550ed3a9e7d3",
       "version_major": 2,
       "version_minor": 0
      },
      "text/plain": [
       "Ranking:   0%|          | 0/11672 [00:00<?, ?it/s]"
      ]
     },
     "metadata": {},
     "output_type": "display_data"
    },
    {
     "name": "stdout",
     "output_type": "stream",
     "text": [
      "BPR(K=100, lr=0.1, reg=0.001, max_iter=100) model is saved to ./bpr_grid_search\\BPR(K=100, lr=0.1, reg=0.001, max_iter=100)\\2024-05-16_07-21-54-912896.pkl\n",
      "\n",
      "[BPR(K=100, lr=0.1, reg=0.001, max_iter=500)] Training started!\n"
     ]
    },
    {
     "data": {
      "application/vnd.jupyter.widget-view+json": {
       "model_id": "aa2e315021a3407e9a35d9a6c046cb00",
       "version_major": 2,
       "version_minor": 0
      },
      "text/plain": [
       "  0%|          | 0/500 [00:00<?, ?it/s]"
      ]
     },
     "metadata": {},
     "output_type": "display_data"
    },
    {
     "name": "stdout",
     "output_type": "stream",
     "text": [
      "Optimization finished!\n",
      "\n",
      "[BPR(K=100, lr=0.1, reg=0.001, max_iter=500)] Evaluation started!\n"
     ]
    },
    {
     "data": {
      "application/vnd.jupyter.widget-view+json": {
       "model_id": "4e25ca14ea674188bc208f788edc6813",
       "version_major": 2,
       "version_minor": 0
      },
      "text/plain": [
       "Ranking:   0%|          | 0/11672 [00:00<?, ?it/s]"
      ]
     },
     "metadata": {},
     "output_type": "display_data"
    },
    {
     "name": "stdout",
     "output_type": "stream",
     "text": [
      "BPR(K=100, lr=0.1, reg=0.001, max_iter=500) model is saved to ./bpr_grid_search\\BPR(K=100, lr=0.1, reg=0.001, max_iter=500)\\2024-05-16_07-22-34-856855.pkl\n",
      "\n",
      "[BPR(K=100, lr=0.1, reg=0.001, max_iter=1000)] Training started!\n"
     ]
    },
    {
     "data": {
      "application/vnd.jupyter.widget-view+json": {
       "model_id": "2395c694a6a04c36bf8ce5e400d6c3c7",
       "version_major": 2,
       "version_minor": 0
      },
      "text/plain": [
       "  0%|          | 0/1000 [00:00<?, ?it/s]"
      ]
     },
     "metadata": {},
     "output_type": "display_data"
    },
    {
     "name": "stdout",
     "output_type": "stream",
     "text": [
      "Optimization finished!\n",
      "\n",
      "[BPR(K=100, lr=0.1, reg=0.001, max_iter=1000)] Evaluation started!\n"
     ]
    },
    {
     "data": {
      "application/vnd.jupyter.widget-view+json": {
       "model_id": "f77a265dc144431f89431ff01a39a934",
       "version_major": 2,
       "version_minor": 0
      },
      "text/plain": [
       "Ranking:   0%|          | 0/11672 [00:00<?, ?it/s]"
      ]
     },
     "metadata": {},
     "output_type": "display_data"
    },
    {
     "name": "stdout",
     "output_type": "stream",
     "text": [
      "BPR(K=100, lr=0.1, reg=0.001, max_iter=1000) model is saved to ./bpr_grid_search\\BPR(K=100, lr=0.1, reg=0.001, max_iter=1000)\\2024-05-16_07-23-39-520610.pkl\n",
      "\n",
      "[BPR(K=100, lr=0.1, reg=0.001, max_iter=2000)] Training started!\n"
     ]
    },
    {
     "data": {
      "application/vnd.jupyter.widget-view+json": {
       "model_id": "6ab44aaddab44f389bc2321be6aeea7f",
       "version_major": 2,
       "version_minor": 0
      },
      "text/plain": [
       "  0%|          | 0/2000 [00:00<?, ?it/s]"
      ]
     },
     "metadata": {},
     "output_type": "display_data"
    },
    {
     "name": "stdout",
     "output_type": "stream",
     "text": [
      "Optimization finished!\n",
      "\n",
      "[BPR(K=100, lr=0.1, reg=0.001, max_iter=2000)] Evaluation started!\n"
     ]
    },
    {
     "data": {
      "application/vnd.jupyter.widget-view+json": {
       "model_id": "f5b45fb3bdfa439f97ad152496da55c2",
       "version_major": 2,
       "version_minor": 0
      },
      "text/plain": [
       "Ranking:   0%|          | 0/11672 [00:00<?, ?it/s]"
      ]
     },
     "metadata": {},
     "output_type": "display_data"
    },
    {
     "name": "stdout",
     "output_type": "stream",
     "text": [
      "BPR(K=100, lr=0.1, reg=0.001, max_iter=2000) model is saved to ./bpr_grid_search\\BPR(K=100, lr=0.1, reg=0.001, max_iter=2000)\\2024-05-16_07-25-31-878360.pkl\n",
      "\n",
      "[BPR(K=100, lr=0.1, reg=0.01, max_iter=100)] Training started!\n"
     ]
    },
    {
     "data": {
      "application/vnd.jupyter.widget-view+json": {
       "model_id": "7c448a451ce64fa8814cb2e036c106f6",
       "version_major": 2,
       "version_minor": 0
      },
      "text/plain": [
       "  0%|          | 0/100 [00:00<?, ?it/s]"
      ]
     },
     "metadata": {},
     "output_type": "display_data"
    },
    {
     "name": "stdout",
     "output_type": "stream",
     "text": [
      "Optimization finished!\n",
      "\n",
      "[BPR(K=100, lr=0.1, reg=0.01, max_iter=100)] Evaluation started!\n"
     ]
    },
    {
     "data": {
      "application/vnd.jupyter.widget-view+json": {
       "model_id": "50d38d18fff64d4ca7c6b08d50e2ff43",
       "version_major": 2,
       "version_minor": 0
      },
      "text/plain": [
       "Ranking:   0%|          | 0/11672 [00:00<?, ?it/s]"
      ]
     },
     "metadata": {},
     "output_type": "display_data"
    },
    {
     "name": "stdout",
     "output_type": "stream",
     "text": [
      "BPR(K=100, lr=0.1, reg=0.01, max_iter=100) model is saved to ./bpr_grid_search\\BPR(K=100, lr=0.1, reg=0.01, max_iter=100)\\2024-05-16_07-25-52-364808.pkl\n",
      "\n",
      "[BPR(K=100, lr=0.1, reg=0.01, max_iter=500)] Training started!\n"
     ]
    },
    {
     "data": {
      "application/vnd.jupyter.widget-view+json": {
       "model_id": "4cdcfea298ff43e3ae1615f7cfc66e57",
       "version_major": 2,
       "version_minor": 0
      },
      "text/plain": [
       "  0%|          | 0/500 [00:00<?, ?it/s]"
      ]
     },
     "metadata": {},
     "output_type": "display_data"
    },
    {
     "name": "stdout",
     "output_type": "stream",
     "text": [
      "Optimization finished!\n",
      "\n",
      "[BPR(K=100, lr=0.1, reg=0.01, max_iter=500)] Evaluation started!\n"
     ]
    },
    {
     "data": {
      "application/vnd.jupyter.widget-view+json": {
       "model_id": "d40054b9311943019624a2ad760c4a77",
       "version_major": 2,
       "version_minor": 0
      },
      "text/plain": [
       "Ranking:   0%|          | 0/11672 [00:00<?, ?it/s]"
      ]
     },
     "metadata": {},
     "output_type": "display_data"
    },
    {
     "name": "stdout",
     "output_type": "stream",
     "text": [
      "BPR(K=100, lr=0.1, reg=0.01, max_iter=500) model is saved to ./bpr_grid_search\\BPR(K=100, lr=0.1, reg=0.01, max_iter=500)\\2024-05-16_07-26-32-443880.pkl\n",
      "\n",
      "[BPR(K=100, lr=0.1, reg=0.01, max_iter=1000)] Training started!\n"
     ]
    },
    {
     "data": {
      "application/vnd.jupyter.widget-view+json": {
       "model_id": "73026a9b3dcc4ead82792c786b2ab9e4",
       "version_major": 2,
       "version_minor": 0
      },
      "text/plain": [
       "  0%|          | 0/1000 [00:00<?, ?it/s]"
      ]
     },
     "metadata": {},
     "output_type": "display_data"
    },
    {
     "name": "stdout",
     "output_type": "stream",
     "text": [
      "Optimization finished!\n",
      "\n",
      "[BPR(K=100, lr=0.1, reg=0.01, max_iter=1000)] Evaluation started!\n"
     ]
    },
    {
     "data": {
      "application/vnd.jupyter.widget-view+json": {
       "model_id": "6b81630f190a45c1970ad9ef9e257532",
       "version_major": 2,
       "version_minor": 0
      },
      "text/plain": [
       "Ranking:   0%|          | 0/11672 [00:00<?, ?it/s]"
      ]
     },
     "metadata": {},
     "output_type": "display_data"
    },
    {
     "name": "stdout",
     "output_type": "stream",
     "text": [
      "BPR(K=100, lr=0.1, reg=0.01, max_iter=1000) model is saved to ./bpr_grid_search\\BPR(K=100, lr=0.1, reg=0.01, max_iter=1000)\\2024-05-16_07-27-37-573478.pkl\n",
      "\n",
      "[BPR(K=100, lr=0.1, reg=0.01, max_iter=2000)] Training started!\n"
     ]
    },
    {
     "data": {
      "application/vnd.jupyter.widget-view+json": {
       "model_id": "5bc10616c98146e9a813fce8968a6077",
       "version_major": 2,
       "version_minor": 0
      },
      "text/plain": [
       "  0%|          | 0/2000 [00:00<?, ?it/s]"
      ]
     },
     "metadata": {},
     "output_type": "display_data"
    },
    {
     "name": "stdout",
     "output_type": "stream",
     "text": [
      "Optimization finished!\n",
      "\n",
      "[BPR(K=100, lr=0.1, reg=0.01, max_iter=2000)] Evaluation started!\n"
     ]
    },
    {
     "data": {
      "application/vnd.jupyter.widget-view+json": {
       "model_id": "3874e88c71b04d679ba3cb9a327951b0",
       "version_major": 2,
       "version_minor": 0
      },
      "text/plain": [
       "Ranking:   0%|          | 0/11672 [00:00<?, ?it/s]"
      ]
     },
     "metadata": {},
     "output_type": "display_data"
    },
    {
     "name": "stdout",
     "output_type": "stream",
     "text": [
      "BPR(K=100, lr=0.1, reg=0.01, max_iter=2000) model is saved to ./bpr_grid_search\\BPR(K=100, lr=0.1, reg=0.01, max_iter=2000)\\2024-05-16_07-29-33-811597.pkl\n",
      "\n",
      "[BPR(K=100, lr=0.1, reg=0.1, max_iter=100)] Training started!\n"
     ]
    },
    {
     "data": {
      "application/vnd.jupyter.widget-view+json": {
       "model_id": "977954ac1fc149a9b397edf938f4a3d0",
       "version_major": 2,
       "version_minor": 0
      },
      "text/plain": [
       "  0%|          | 0/100 [00:00<?, ?it/s]"
      ]
     },
     "metadata": {},
     "output_type": "display_data"
    },
    {
     "name": "stdout",
     "output_type": "stream",
     "text": [
      "Optimization finished!\n",
      "\n",
      "[BPR(K=100, lr=0.1, reg=0.1, max_iter=100)] Evaluation started!\n"
     ]
    },
    {
     "data": {
      "application/vnd.jupyter.widget-view+json": {
       "model_id": "a8de38a9cdcf44e3ad470fe6717e9c3f",
       "version_major": 2,
       "version_minor": 0
      },
      "text/plain": [
       "Ranking:   0%|          | 0/11672 [00:00<?, ?it/s]"
      ]
     },
     "metadata": {},
     "output_type": "display_data"
    },
    {
     "name": "stdout",
     "output_type": "stream",
     "text": [
      "BPR(K=100, lr=0.1, reg=0.1, max_iter=100) model is saved to ./bpr_grid_search\\BPR(K=100, lr=0.1, reg=0.1, max_iter=100)\\2024-05-16_07-29-54-391419.pkl\n",
      "\n",
      "[BPR(K=100, lr=0.1, reg=0.1, max_iter=500)] Training started!\n"
     ]
    },
    {
     "data": {
      "application/vnd.jupyter.widget-view+json": {
       "model_id": "d006b72b2038409ba466caecec3405f1",
       "version_major": 2,
       "version_minor": 0
      },
      "text/plain": [
       "  0%|          | 0/500 [00:00<?, ?it/s]"
      ]
     },
     "metadata": {},
     "output_type": "display_data"
    },
    {
     "name": "stdout",
     "output_type": "stream",
     "text": [
      "Optimization finished!\n",
      "\n",
      "[BPR(K=100, lr=0.1, reg=0.1, max_iter=500)] Evaluation started!\n"
     ]
    },
    {
     "data": {
      "application/vnd.jupyter.widget-view+json": {
       "model_id": "90b43d317dcc4c32baa23494da0bb341",
       "version_major": 2,
       "version_minor": 0
      },
      "text/plain": [
       "Ranking:   0%|          | 0/11672 [00:00<?, ?it/s]"
      ]
     },
     "metadata": {},
     "output_type": "display_data"
    },
    {
     "name": "stdout",
     "output_type": "stream",
     "text": [
      "BPR(K=100, lr=0.1, reg=0.1, max_iter=500) model is saved to ./bpr_grid_search\\BPR(K=100, lr=0.1, reg=0.1, max_iter=500)\\2024-05-16_07-30-34-639646.pkl\n",
      "\n",
      "[BPR(K=100, lr=0.1, reg=0.1, max_iter=1000)] Training started!\n"
     ]
    },
    {
     "data": {
      "application/vnd.jupyter.widget-view+json": {
       "model_id": "e3d790f6357b45a28c345da19d4b9434",
       "version_major": 2,
       "version_minor": 0
      },
      "text/plain": [
       "  0%|          | 0/1000 [00:00<?, ?it/s]"
      ]
     },
     "metadata": {},
     "output_type": "display_data"
    },
    {
     "name": "stdout",
     "output_type": "stream",
     "text": [
      "Optimization finished!\n",
      "\n",
      "[BPR(K=100, lr=0.1, reg=0.1, max_iter=1000)] Evaluation started!\n"
     ]
    },
    {
     "data": {
      "application/vnd.jupyter.widget-view+json": {
       "model_id": "30a2abf01454493ab90268d6b3048c40",
       "version_major": 2,
       "version_minor": 0
      },
      "text/plain": [
       "Ranking:   0%|          | 0/11672 [00:00<?, ?it/s]"
      ]
     },
     "metadata": {},
     "output_type": "display_data"
    },
    {
     "name": "stdout",
     "output_type": "stream",
     "text": [
      "BPR(K=100, lr=0.1, reg=0.1, max_iter=1000) model is saved to ./bpr_grid_search\\BPR(K=100, lr=0.1, reg=0.1, max_iter=1000)\\2024-05-16_07-31-41-318738.pkl\n",
      "\n",
      "[BPR(K=100, lr=0.1, reg=0.1, max_iter=2000)] Training started!\n"
     ]
    },
    {
     "data": {
      "application/vnd.jupyter.widget-view+json": {
       "model_id": "7130312dbc4c453399f1085db6526309",
       "version_major": 2,
       "version_minor": 0
      },
      "text/plain": [
       "  0%|          | 0/2000 [00:00<?, ?it/s]"
      ]
     },
     "metadata": {},
     "output_type": "display_data"
    },
    {
     "name": "stdout",
     "output_type": "stream",
     "text": [
      "Optimization finished!\n",
      "\n",
      "[BPR(K=100, lr=0.1, reg=0.1, max_iter=2000)] Evaluation started!\n"
     ]
    },
    {
     "data": {
      "application/vnd.jupyter.widget-view+json": {
       "model_id": "3b974db51a2047f3a3cbf6fbd37676b4",
       "version_major": 2,
       "version_minor": 0
      },
      "text/plain": [
       "Ranking:   0%|          | 0/11672 [00:00<?, ?it/s]"
      ]
     },
     "metadata": {},
     "output_type": "display_data"
    },
    {
     "name": "stdout",
     "output_type": "stream",
     "text": [
      "BPR(K=100, lr=0.1, reg=0.1, max_iter=2000) model is saved to ./bpr_grid_search\\BPR(K=100, lr=0.1, reg=0.1, max_iter=2000)\\2024-05-16_07-33-49-049215.pkl\n",
      "\n",
      "[BPR(K=100, lr=0.1, reg=1.0, max_iter=100)] Training started!\n"
     ]
    },
    {
     "data": {
      "application/vnd.jupyter.widget-view+json": {
       "model_id": "af547cb72cf149deaa889c5c7f917611",
       "version_major": 2,
       "version_minor": 0
      },
      "text/plain": [
       "  0%|          | 0/100 [00:00<?, ?it/s]"
      ]
     },
     "metadata": {},
     "output_type": "display_data"
    },
    {
     "name": "stdout",
     "output_type": "stream",
     "text": [
      "Optimization finished!\n",
      "\n",
      "[BPR(K=100, lr=0.1, reg=1.0, max_iter=100)] Evaluation started!\n"
     ]
    },
    {
     "data": {
      "application/vnd.jupyter.widget-view+json": {
       "model_id": "16a1f3d7467b4aaf81739b23864391e4",
       "version_major": 2,
       "version_minor": 0
      },
      "text/plain": [
       "Ranking:   0%|          | 0/11672 [00:00<?, ?it/s]"
      ]
     },
     "metadata": {},
     "output_type": "display_data"
    },
    {
     "name": "stdout",
     "output_type": "stream",
     "text": [
      "BPR(K=100, lr=0.1, reg=1.0, max_iter=100) model is saved to ./bpr_grid_search\\BPR(K=100, lr=0.1, reg=1.0, max_iter=100)\\2024-05-16_07-34-12-255724.pkl\n",
      "\n",
      "[BPR(K=100, lr=0.1, reg=1.0, max_iter=500)] Training started!\n"
     ]
    },
    {
     "data": {
      "application/vnd.jupyter.widget-view+json": {
       "model_id": "635aa1a7c9134eeeaf751f72d9a851ac",
       "version_major": 2,
       "version_minor": 0
      },
      "text/plain": [
       "  0%|          | 0/500 [00:00<?, ?it/s]"
      ]
     },
     "metadata": {},
     "output_type": "display_data"
    },
    {
     "name": "stdout",
     "output_type": "stream",
     "text": [
      "Optimization finished!\n",
      "\n",
      "[BPR(K=100, lr=0.1, reg=1.0, max_iter=500)] Evaluation started!\n"
     ]
    },
    {
     "data": {
      "application/vnd.jupyter.widget-view+json": {
       "model_id": "ad4779f70a7b410aaa9a739b4d182df2",
       "version_major": 2,
       "version_minor": 0
      },
      "text/plain": [
       "Ranking:   0%|          | 0/11672 [00:00<?, ?it/s]"
      ]
     },
     "metadata": {},
     "output_type": "display_data"
    },
    {
     "name": "stdout",
     "output_type": "stream",
     "text": [
      "BPR(K=100, lr=0.1, reg=1.0, max_iter=500) model is saved to ./bpr_grid_search\\BPR(K=100, lr=0.1, reg=1.0, max_iter=500)\\2024-05-16_07-45-48-790932.pkl\n",
      "\n",
      "[BPR(K=100, lr=0.1, reg=1.0, max_iter=1000)] Training started!\n"
     ]
    },
    {
     "data": {
      "application/vnd.jupyter.widget-view+json": {
       "model_id": "4258f0c046a348dbae2d6c8ed5d9dffd",
       "version_major": 2,
       "version_minor": 0
      },
      "text/plain": [
       "  0%|          | 0/1000 [00:00<?, ?it/s]"
      ]
     },
     "metadata": {},
     "output_type": "display_data"
    },
    {
     "name": "stdout",
     "output_type": "stream",
     "text": [
      "Optimization finished!\n",
      "\n",
      "[BPR(K=100, lr=0.1, reg=1.0, max_iter=1000)] Evaluation started!\n"
     ]
    },
    {
     "data": {
      "application/vnd.jupyter.widget-view+json": {
       "model_id": "45150923a79544bb981b0aaaff489965",
       "version_major": 2,
       "version_minor": 0
      },
      "text/plain": [
       "Ranking:   0%|          | 0/11672 [00:00<?, ?it/s]"
      ]
     },
     "metadata": {},
     "output_type": "display_data"
    },
    {
     "name": "stdout",
     "output_type": "stream",
     "text": [
      "BPR(K=100, lr=0.1, reg=1.0, max_iter=1000) model is saved to ./bpr_grid_search\\BPR(K=100, lr=0.1, reg=1.0, max_iter=1000)\\2024-05-16_08-23-26-810426.pkl\n",
      "\n",
      "[BPR(K=100, lr=0.1, reg=1.0, max_iter=2000)] Training started!\n"
     ]
    },
    {
     "data": {
      "application/vnd.jupyter.widget-view+json": {
       "model_id": "446dd55c3fbc4bbbac707267fe8c32a6",
       "version_major": 2,
       "version_minor": 0
      },
      "text/plain": [
       "  0%|          | 0/2000 [00:00<?, ?it/s]"
      ]
     },
     "metadata": {},
     "output_type": "display_data"
    },
    {
     "name": "stdout",
     "output_type": "stream",
     "text": [
      "Optimization finished!\n",
      "\n",
      "[BPR(K=100, lr=0.1, reg=1.0, max_iter=2000)] Evaluation started!\n"
     ]
    },
    {
     "data": {
      "application/vnd.jupyter.widget-view+json": {
       "model_id": "e97d412a1e2f44fd9b6e2b3fdae12cb5",
       "version_major": 2,
       "version_minor": 0
      },
      "text/plain": [
       "Ranking:   0%|          | 0/11672 [00:00<?, ?it/s]"
      ]
     },
     "metadata": {},
     "output_type": "display_data"
    },
    {
     "name": "stdout",
     "output_type": "stream",
     "text": [
      "BPR(K=100, lr=0.1, reg=1.0, max_iter=2000) model is saved to ./bpr_grid_search\\BPR(K=100, lr=0.1, reg=1.0, max_iter=2000)\\2024-05-16_14-06-27-618113.pkl\n",
      "\n",
      "[BPR(K=200, lr=0.001, reg=0.001, max_iter=100)] Training started!\n"
     ]
    },
    {
     "data": {
      "application/vnd.jupyter.widget-view+json": {
       "model_id": "865844d88dee47f98f9c56b7f2743e6f",
       "version_major": 2,
       "version_minor": 0
      },
      "text/plain": [
       "  0%|          | 0/100 [00:00<?, ?it/s]"
      ]
     },
     "metadata": {},
     "output_type": "display_data"
    },
    {
     "name": "stdout",
     "output_type": "stream",
     "text": [
      "Optimization finished!\n",
      "\n",
      "[BPR(K=200, lr=0.001, reg=0.001, max_iter=100)] Evaluation started!\n"
     ]
    },
    {
     "data": {
      "application/vnd.jupyter.widget-view+json": {
       "model_id": "76e52c336f0f4e48a68f7088226392a1",
       "version_major": 2,
       "version_minor": 0
      },
      "text/plain": [
       "Ranking:   0%|          | 0/11672 [00:00<?, ?it/s]"
      ]
     },
     "metadata": {},
     "output_type": "display_data"
    },
    {
     "name": "stdout",
     "output_type": "stream",
     "text": [
      "BPR(K=200, lr=0.001, reg=0.001, max_iter=100) model is saved to ./bpr_grid_search\\BPR(K=200, lr=0.001, reg=0.001, max_iter=100)\\2024-05-16_14-06-55-647609.pkl\n",
      "\n",
      "[BPR(K=200, lr=0.001, reg=0.001, max_iter=500)] Training started!\n"
     ]
    },
    {
     "data": {
      "application/vnd.jupyter.widget-view+json": {
       "model_id": "c2aefc6c191a4e1d8d3d43beb639728f",
       "version_major": 2,
       "version_minor": 0
      },
      "text/plain": [
       "  0%|          | 0/500 [00:00<?, ?it/s]"
      ]
     },
     "metadata": {},
     "output_type": "display_data"
    },
    {
     "name": "stdout",
     "output_type": "stream",
     "text": [
      "Optimization finished!\n",
      "\n",
      "[BPR(K=200, lr=0.001, reg=0.001, max_iter=500)] Evaluation started!\n"
     ]
    },
    {
     "data": {
      "application/vnd.jupyter.widget-view+json": {
       "model_id": "76daf29d1de141cca20082d0f96a16b5",
       "version_major": 2,
       "version_minor": 0
      },
      "text/plain": [
       "Ranking:   0%|          | 0/11672 [00:00<?, ?it/s]"
      ]
     },
     "metadata": {},
     "output_type": "display_data"
    },
    {
     "name": "stdout",
     "output_type": "stream",
     "text": [
      "BPR(K=200, lr=0.001, reg=0.001, max_iter=500) model is saved to ./bpr_grid_search\\BPR(K=200, lr=0.001, reg=0.001, max_iter=500)\\2024-05-16_14-08-03-524747.pkl\n",
      "\n",
      "[BPR(K=200, lr=0.001, reg=0.001, max_iter=1000)] Training started!\n"
     ]
    },
    {
     "data": {
      "application/vnd.jupyter.widget-view+json": {
       "model_id": "e9be30872bdb48d886093ab8e572bc35",
       "version_major": 2,
       "version_minor": 0
      },
      "text/plain": [
       "  0%|          | 0/1000 [00:00<?, ?it/s]"
      ]
     },
     "metadata": {},
     "output_type": "display_data"
    },
    {
     "name": "stdout",
     "output_type": "stream",
     "text": [
      "Optimization finished!\n",
      "\n",
      "[BPR(K=200, lr=0.001, reg=0.001, max_iter=1000)] Evaluation started!\n"
     ]
    },
    {
     "data": {
      "application/vnd.jupyter.widget-view+json": {
       "model_id": "d91443055e6f466cb9505836ea131635",
       "version_major": 2,
       "version_minor": 0
      },
      "text/plain": [
       "Ranking:   0%|          | 0/11672 [00:00<?, ?it/s]"
      ]
     },
     "metadata": {},
     "output_type": "display_data"
    },
    {
     "name": "stdout",
     "output_type": "stream",
     "text": [
      "BPR(K=200, lr=0.001, reg=0.001, max_iter=1000) model is saved to ./bpr_grid_search\\BPR(K=200, lr=0.001, reg=0.001, max_iter=1000)\\2024-05-16_14-10-01-197905.pkl\n",
      "\n",
      "[BPR(K=200, lr=0.001, reg=0.001, max_iter=2000)] Training started!\n"
     ]
    },
    {
     "data": {
      "application/vnd.jupyter.widget-view+json": {
       "model_id": "f0e1e33ec7d2467fa48c4cae8247c315",
       "version_major": 2,
       "version_minor": 0
      },
      "text/plain": [
       "  0%|          | 0/2000 [00:00<?, ?it/s]"
      ]
     },
     "metadata": {},
     "output_type": "display_data"
    },
    {
     "name": "stdout",
     "output_type": "stream",
     "text": [
      "Optimization finished!\n",
      "\n",
      "[BPR(K=200, lr=0.001, reg=0.001, max_iter=2000)] Evaluation started!\n"
     ]
    },
    {
     "data": {
      "application/vnd.jupyter.widget-view+json": {
       "model_id": "662ee32bd62444b88f2a521842fcc798",
       "version_major": 2,
       "version_minor": 0
      },
      "text/plain": [
       "Ranking:   0%|          | 0/11672 [00:00<?, ?it/s]"
      ]
     },
     "metadata": {},
     "output_type": "display_data"
    },
    {
     "name": "stdout",
     "output_type": "stream",
     "text": [
      "BPR(K=200, lr=0.001, reg=0.001, max_iter=2000) model is saved to ./bpr_grid_search\\BPR(K=200, lr=0.001, reg=0.001, max_iter=2000)\\2024-05-16_14-13-41-122588.pkl\n",
      "\n",
      "[BPR(K=200, lr=0.001, reg=0.01, max_iter=100)] Training started!\n"
     ]
    },
    {
     "data": {
      "application/vnd.jupyter.widget-view+json": {
       "model_id": "0f02851aff804ddebb301bd667c1a21e",
       "version_major": 2,
       "version_minor": 0
      },
      "text/plain": [
       "  0%|          | 0/100 [00:00<?, ?it/s]"
      ]
     },
     "metadata": {},
     "output_type": "display_data"
    },
    {
     "name": "stdout",
     "output_type": "stream",
     "text": [
      "Optimization finished!\n",
      "\n",
      "[BPR(K=200, lr=0.001, reg=0.01, max_iter=100)] Evaluation started!\n"
     ]
    },
    {
     "data": {
      "application/vnd.jupyter.widget-view+json": {
       "model_id": "ee9b266a85c140adb07fc57c075a0ca4",
       "version_major": 2,
       "version_minor": 0
      },
      "text/plain": [
       "Ranking:   0%|          | 0/11672 [00:00<?, ?it/s]"
      ]
     },
     "metadata": {},
     "output_type": "display_data"
    },
    {
     "name": "stdout",
     "output_type": "stream",
     "text": [
      "BPR(K=200, lr=0.001, reg=0.01, max_iter=100) model is saved to ./bpr_grid_search\\BPR(K=200, lr=0.001, reg=0.01, max_iter=100)\\2024-05-16_14-14-09-466872.pkl\n",
      "\n",
      "[BPR(K=200, lr=0.001, reg=0.01, max_iter=500)] Training started!\n"
     ]
    },
    {
     "data": {
      "application/vnd.jupyter.widget-view+json": {
       "model_id": "03319f1f402c41c2ba4608bd690ca578",
       "version_major": 2,
       "version_minor": 0
      },
      "text/plain": [
       "  0%|          | 0/500 [00:00<?, ?it/s]"
      ]
     },
     "metadata": {},
     "output_type": "display_data"
    },
    {
     "name": "stdout",
     "output_type": "stream",
     "text": [
      "Optimization finished!\n",
      "\n",
      "[BPR(K=200, lr=0.001, reg=0.01, max_iter=500)] Evaluation started!\n"
     ]
    },
    {
     "data": {
      "application/vnd.jupyter.widget-view+json": {
       "model_id": "3d2fd190aa4844fca296981197cd0d53",
       "version_major": 2,
       "version_minor": 0
      },
      "text/plain": [
       "Ranking:   0%|          | 0/11672 [00:00<?, ?it/s]"
      ]
     },
     "metadata": {},
     "output_type": "display_data"
    },
    {
     "name": "stdout",
     "output_type": "stream",
     "text": [
      "BPR(K=200, lr=0.001, reg=0.01, max_iter=500) model is saved to ./bpr_grid_search\\BPR(K=200, lr=0.001, reg=0.01, max_iter=500)\\2024-05-16_14-15-18-878877.pkl\n",
      "\n",
      "[BPR(K=200, lr=0.001, reg=0.01, max_iter=1000)] Training started!\n"
     ]
    },
    {
     "data": {
      "application/vnd.jupyter.widget-view+json": {
       "model_id": "4c893280840c47a39b798433a30c87e8",
       "version_major": 2,
       "version_minor": 0
      },
      "text/plain": [
       "  0%|          | 0/1000 [00:00<?, ?it/s]"
      ]
     },
     "metadata": {},
     "output_type": "display_data"
    },
    {
     "name": "stdout",
     "output_type": "stream",
     "text": [
      "Optimization finished!\n",
      "\n",
      "[BPR(K=200, lr=0.001, reg=0.01, max_iter=1000)] Evaluation started!\n"
     ]
    },
    {
     "data": {
      "application/vnd.jupyter.widget-view+json": {
       "model_id": "f8f52f8386d1465098ad89a4c4dd45b9",
       "version_major": 2,
       "version_minor": 0
      },
      "text/plain": [
       "Ranking:   0%|          | 0/11672 [00:00<?, ?it/s]"
      ]
     },
     "metadata": {},
     "output_type": "display_data"
    },
    {
     "name": "stdout",
     "output_type": "stream",
     "text": [
      "BPR(K=200, lr=0.001, reg=0.01, max_iter=1000) model is saved to ./bpr_grid_search\\BPR(K=200, lr=0.001, reg=0.01, max_iter=1000)\\2024-05-16_14-17-21-935199.pkl\n",
      "\n",
      "[BPR(K=200, lr=0.001, reg=0.01, max_iter=2000)] Training started!\n"
     ]
    },
    {
     "data": {
      "application/vnd.jupyter.widget-view+json": {
       "model_id": "16933aaffd0746aa84a8a9b6667d6f2d",
       "version_major": 2,
       "version_minor": 0
      },
      "text/plain": [
       "  0%|          | 0/2000 [00:00<?, ?it/s]"
      ]
     },
     "metadata": {},
     "output_type": "display_data"
    },
    {
     "name": "stdout",
     "output_type": "stream",
     "text": [
      "Optimization finished!\n",
      "\n",
      "[BPR(K=200, lr=0.001, reg=0.01, max_iter=2000)] Evaluation started!\n"
     ]
    },
    {
     "data": {
      "application/vnd.jupyter.widget-view+json": {
       "model_id": "b46c4b0c10a14694a5538f74f5bf922f",
       "version_major": 2,
       "version_minor": 0
      },
      "text/plain": [
       "Ranking:   0%|          | 0/11672 [00:00<?, ?it/s]"
      ]
     },
     "metadata": {},
     "output_type": "display_data"
    },
    {
     "name": "stdout",
     "output_type": "stream",
     "text": [
      "BPR(K=200, lr=0.001, reg=0.01, max_iter=2000) model is saved to ./bpr_grid_search\\BPR(K=200, lr=0.001, reg=0.01, max_iter=2000)\\2024-05-16_14-21-23-290820.pkl\n",
      "\n",
      "[BPR(K=200, lr=0.001, reg=0.1, max_iter=100)] Training started!\n"
     ]
    },
    {
     "data": {
      "application/vnd.jupyter.widget-view+json": {
       "model_id": "8b3feff8494745a29c95cb7b4fe3f44f",
       "version_major": 2,
       "version_minor": 0
      },
      "text/plain": [
       "  0%|          | 0/100 [00:00<?, ?it/s]"
      ]
     },
     "metadata": {},
     "output_type": "display_data"
    },
    {
     "name": "stdout",
     "output_type": "stream",
     "text": [
      "Optimization finished!\n",
      "\n",
      "[BPR(K=200, lr=0.001, reg=0.1, max_iter=100)] Evaluation started!\n"
     ]
    },
    {
     "data": {
      "application/vnd.jupyter.widget-view+json": {
       "model_id": "f222a639331e4934951d940a37a7d813",
       "version_major": 2,
       "version_minor": 0
      },
      "text/plain": [
       "Ranking:   0%|          | 0/11672 [00:00<?, ?it/s]"
      ]
     },
     "metadata": {},
     "output_type": "display_data"
    },
    {
     "name": "stdout",
     "output_type": "stream",
     "text": [
      "BPR(K=200, lr=0.001, reg=0.1, max_iter=100) model is saved to ./bpr_grid_search\\BPR(K=200, lr=0.001, reg=0.1, max_iter=100)\\2024-05-16_14-21-53-031647.pkl\n",
      "\n",
      "[BPR(K=200, lr=0.001, reg=0.1, max_iter=500)] Training started!\n"
     ]
    },
    {
     "data": {
      "application/vnd.jupyter.widget-view+json": {
       "model_id": "3ba18b7a225f4abd8eeb9c730b4ad4d0",
       "version_major": 2,
       "version_minor": 0
      },
      "text/plain": [
       "  0%|          | 0/500 [00:00<?, ?it/s]"
      ]
     },
     "metadata": {},
     "output_type": "display_data"
    },
    {
     "name": "stdout",
     "output_type": "stream",
     "text": [
      "Optimization finished!\n",
      "\n",
      "[BPR(K=200, lr=0.001, reg=0.1, max_iter=500)] Evaluation started!\n"
     ]
    },
    {
     "data": {
      "application/vnd.jupyter.widget-view+json": {
       "model_id": "75601679a7d646ffa3ccdd412a96bc68",
       "version_major": 2,
       "version_minor": 0
      },
      "text/plain": [
       "Ranking:   0%|          | 0/11672 [00:00<?, ?it/s]"
      ]
     },
     "metadata": {},
     "output_type": "display_data"
    },
    {
     "name": "stdout",
     "output_type": "stream",
     "text": [
      "BPR(K=200, lr=0.001, reg=0.1, max_iter=500) model is saved to ./bpr_grid_search\\BPR(K=200, lr=0.001, reg=0.1, max_iter=500)\\2024-05-16_14-23-07-802434.pkl\n",
      "\n",
      "[BPR(K=200, lr=0.001, reg=0.1, max_iter=1000)] Training started!\n"
     ]
    },
    {
     "data": {
      "application/vnd.jupyter.widget-view+json": {
       "model_id": "c23601ff7124465888ff379b95ecf0a2",
       "version_major": 2,
       "version_minor": 0
      },
      "text/plain": [
       "  0%|          | 0/1000 [00:00<?, ?it/s]"
      ]
     },
     "metadata": {},
     "output_type": "display_data"
    }
   ],
   "source": [
    "from cornac.models import BPR\n",
    "from cornac.eval_methods import RatioSplit\n",
    "import pandas as pd\n",
    "\n",
    "param_grid = {\n",
    "    \"num_factors\": [100, 200, 500, 1000],\n",
    "    \"learning_rate\": [0.001, 0.01, 0.1],\n",
    "    \"regularization\": [0.001, 0.01, 0.1, 1.0],\n",
    "    \"max_iter\": [100, 500, 1000, 2000],\n",
    "}\n",
    "\n",
    "models = []\n",
    "for K in param_grid[\"num_factors\"]:\n",
    "    for lr in param_grid[\"learning_rate\"]:\n",
    "        for reg in param_grid[\"regularization\"]:\n",
    "            for max_iter in param_grid[\"max_iter\"]:\n",
    "                bpr = BPR(\n",
    "                    k=K,\n",
    "                    max_iter=max_iter,\n",
    "                    learning_rate=lr,\n",
    "                    lambda_reg=reg,\n",
    "                    verbose=VERBOSE,\n",
    "                    seed=SEED,\n",
    "                    name=f\"BPR(K={K}, lr={lr}, reg={reg}, max_iter={max_iter})\",\n",
    "                )\n",
    "\n",
    "                models.append(bpr)\n",
    "\n",
    "eval_metrics = [\n",
    "    cornac.metrics.Recall(k=50),\n",
    "    cornac.metrics.NDCG(k=50),\n",
    "    cornac.metrics.NCRR(k=50),\n",
    "]\n",
    "\n",
    "df = pd.read_csv(\"./cs608_ip_train_v3.csv\")\n",
    "df1 = pd.read_csv(\"./cs608_ip_probe_v3.csv\")\n",
    "data_list = df.values.tolist()\n",
    "data_val = df1.values.tolist()\n",
    "\n",
    "rs = RatioSplit(data_list, test_size=0.1, seed=SEED, verbose=VERBOSE)\n",
    "\n",
    "experiment = cornac.Experiment(\n",
    "    eval_method=rs, models=models, metrics=eval_metrics, save_dir=\"./bpr_grid_search\"\n",
    ")\n",
    "\n",
    "experiment.run()"
   ]
  },
  {
   "cell_type": "code",
   "execution_count": null,
   "id": "d2e556b3",
   "metadata": {},
   "outputs": [],
   "source": [
    "experiment.result, experiment.val_result"
   ]
  },
  {
   "cell_type": "code",
   "execution_count": null,
   "id": "267af5e3",
   "metadata": {},
   "outputs": [],
   "source": [
    "%%time\n",
    "from tqdm.notebook import tqdm\n",
    "\n",
    "import zipfile\n",
    "\n",
    "# Sort the DataFrame by 'user_id' in ascending order\n",
    "df_sorted = df.sort_values(by='user_id')\n",
    "\n",
    "# Extract unique user IDs sorted in ascending order\n",
    "user_ids = df_sorted['user_id'].unique()\n",
    "\n",
    "# Generate recommendations for all users\n",
    "top_k_recommendations = []\n",
    "for user_id in tqdm(user_ids):\n",
    "    recs = bpr.recommend(user_id=user_id, k=50)\n",
    "    top_k_recommendations.append(recs)\n",
    "\n",
    "with open(\"submission.txt\", \"w\") as file:\n",
    "    for user_recommendations in top_k_recommendations:\n",
    "        file.write(\" \".join(map(str, user_recommendations)) + \"\\n\")\n",
    "\n",
    "# zip the submission file\n",
    "with zipfile.ZipFile('submission.zip', 'w') as file:\n",
    "    file.write('submission.txt')"
   ]
  }
 ],
 "metadata": {
  "kernelspec": {
   "display_name": "Python 3 (ipykernel)",
   "language": "python",
   "name": "python3"
  },
  "language_info": {
   "codemirror_mode": {
    "name": "ipython",
    "version": 3
   },
   "file_extension": ".py",
   "mimetype": "text/x-python",
   "name": "python",
   "nbconvert_exporter": "python",
   "pygments_lexer": "ipython3",
   "version": "3.11.9"
  }
 },
 "nbformat": 4,
 "nbformat_minor": 5
}

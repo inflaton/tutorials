{
 "cells": [
  {
   "cell_type": "code",
   "execution_count": 1,
   "id": "0ddc845c-f740-4794-8b9e-9f18097c5402",
   "metadata": {},
   "outputs": [],
   "source": [
    "!pip install -q cornac==2.1 tensorflow"
   ]
  },
  {
   "cell_type": "code",
   "execution_count": 2,
   "id": "fac852af-bfc4-4c8d-9a78-3de0d4dcd96f",
   "metadata": {},
   "outputs": [
    {
     "name": "stdout",
     "output_type": "stream",
     "text": [
      "System version: 3.11.9 | packaged by Anaconda, Inc. | (main, Apr 19 2024, 16:40:41) [MSC v.1916 64 bit (AMD64)]\n",
      "Cornac version: 2.1\n",
      "Tensorflow version: 2.16.1\n"
     ]
    }
   ],
   "source": [
    "import sys\n",
    "import cornac\n",
    "import tensorflow as tf\n",
    "\n",
    "print(f\"System version: {sys.version}\")\n",
    "print(f\"Cornac version: {cornac.__version__}\")\n",
    "print(f\"Tensorflow version: {tf.__version__}\")\n",
    "\n",
    "SEED = 20240514\n",
    "VERBOSE = True"
   ]
  },
  {
   "cell_type": "code",
   "execution_count": 3,
   "id": "217b78fa-7390-4287-8cb1-b407cf6ed5b6",
   "metadata": {},
   "outputs": [
    {
     "name": "stdout",
     "output_type": "stream",
     "text": [
      "rating_threshold = 1.0\n",
      "exclude_unknowns = True\n",
      "---\n",
      "Training data:\n",
      "Number of users = 21124\n",
      "Number of items = 30016\n",
      "Number of ratings = 169790\n",
      "Max rating = 5.0\n",
      "Min rating = 1.0\n",
      "Global mean = 4.3\n",
      "---\n",
      "Test data:\n",
      "Number of users = 21124\n",
      "Number of items = 30016\n",
      "Number of ratings = 17612\n",
      "Number of unknown users = 0\n",
      "Number of unknown items = 0\n",
      "---\n",
      "Total users = 21124\n",
      "Total items = 30016\n",
      "\n",
      "[BPR(K=100, lr=0.001, reg=0.001, max_iter=100)] Training started!\n"
     ]
    },
    {
     "data": {
      "application/vnd.jupyter.widget-view+json": {
       "model_id": "9003df04974447f1898cd011c01c22c7",
       "version_major": 2,
       "version_minor": 0
      },
      "text/plain": [
       "  0%|          | 0/100 [00:00<?, ?it/s]"
      ]
     },
     "metadata": {},
     "output_type": "display_data"
    },
    {
     "name": "stdout",
     "output_type": "stream",
     "text": [
      "Optimization finished!\n",
      "\n",
      "[BPR(K=100, lr=0.001, reg=0.001, max_iter=100)] Evaluation started!\n"
     ]
    },
    {
     "data": {
      "application/vnd.jupyter.widget-view+json": {
       "model_id": "bb8bf12f247a4fef821bc94864261ca8",
       "version_major": 2,
       "version_minor": 0
      },
      "text/plain": [
       "Ranking:   0%|          | 0/11672 [00:00<?, ?it/s]"
      ]
     },
     "metadata": {},
     "output_type": "display_data"
    },
    {
     "name": "stdout",
     "output_type": "stream",
     "text": [
      "BPR(K=100, lr=0.001, reg=0.001, max_iter=100) model is saved to ./bpr_grid_search\\BPR(K=100, lr=0.001, reg=0.001, max_iter=100)\\2024-05-16_06-39-41-146474.pkl\n",
      "\n",
      "[BPR(K=100, lr=0.001, reg=0.001, max_iter=500)] Training started!\n"
     ]
    },
    {
     "data": {
      "application/vnd.jupyter.widget-view+json": {
       "model_id": "84b274e6a805482aaa93cef5395b5bde",
       "version_major": 2,
       "version_minor": 0
      },
      "text/plain": [
       "  0%|          | 0/500 [00:00<?, ?it/s]"
      ]
     },
     "metadata": {},
     "output_type": "display_data"
    },
    {
     "name": "stdout",
     "output_type": "stream",
     "text": [
      "Optimization finished!\n",
      "\n",
      "[BPR(K=100, lr=0.001, reg=0.001, max_iter=500)] Evaluation started!\n"
     ]
    },
    {
     "data": {
      "application/vnd.jupyter.widget-view+json": {
       "model_id": "85451ddc40e04331b660581c278b1fa2",
       "version_major": 2,
       "version_minor": 0
      },
      "text/plain": [
       "Ranking:   0%|          | 0/11672 [00:00<?, ?it/s]"
      ]
     },
     "metadata": {},
     "output_type": "display_data"
    },
    {
     "name": "stdout",
     "output_type": "stream",
     "text": [
      "BPR(K=100, lr=0.001, reg=0.001, max_iter=500) model is saved to ./bpr_grid_search\\BPR(K=100, lr=0.001, reg=0.001, max_iter=500)\\2024-05-16_06-40-28-465299.pkl\n",
      "\n",
      "[BPR(K=100, lr=0.001, reg=0.001, max_iter=1000)] Training started!\n"
     ]
    },
    {
     "data": {
      "application/vnd.jupyter.widget-view+json": {
       "model_id": "767bece59c7e4724814da623a19bf712",
       "version_major": 2,
       "version_minor": 0
      },
      "text/plain": [
       "  0%|          | 0/1000 [00:00<?, ?it/s]"
      ]
     },
     "metadata": {},
     "output_type": "display_data"
    },
    {
     "name": "stdout",
     "output_type": "stream",
     "text": [
      "Optimization finished!\n",
      "\n",
      "[BPR(K=100, lr=0.001, reg=0.001, max_iter=1000)] Evaluation started!\n"
     ]
    },
    {
     "data": {
      "application/vnd.jupyter.widget-view+json": {
       "model_id": "2ae6297b531444dbb0027085e5305088",
       "version_major": 2,
       "version_minor": 0
      },
      "text/plain": [
       "Ranking:   0%|          | 0/11672 [00:00<?, ?it/s]"
      ]
     },
     "metadata": {},
     "output_type": "display_data"
    },
    {
     "name": "stdout",
     "output_type": "stream",
     "text": [
      "BPR(K=100, lr=0.001, reg=0.001, max_iter=1000) model is saved to ./bpr_grid_search\\BPR(K=100, lr=0.001, reg=0.001, max_iter=1000)\\2024-05-16_06-41-46-099404.pkl\n",
      "\n",
      "[BPR(K=100, lr=0.001, reg=0.001, max_iter=2000)] Training started!\n"
     ]
    },
    {
     "data": {
      "application/vnd.jupyter.widget-view+json": {
       "model_id": "678aa7ab853f44c5acefc2faf24474dd",
       "version_major": 2,
       "version_minor": 0
      },
      "text/plain": [
       "  0%|          | 0/2000 [00:00<?, ?it/s]"
      ]
     },
     "metadata": {},
     "output_type": "display_data"
    },
    {
     "name": "stdout",
     "output_type": "stream",
     "text": [
      "Optimization finished!\n",
      "\n",
      "[BPR(K=100, lr=0.001, reg=0.001, max_iter=2000)] Evaluation started!\n"
     ]
    },
    {
     "data": {
      "application/vnd.jupyter.widget-view+json": {
       "model_id": "1660eb5884dc40dd846c45d61120c0ca",
       "version_major": 2,
       "version_minor": 0
      },
      "text/plain": [
       "Ranking:   0%|          | 0/11672 [00:00<?, ?it/s]"
      ]
     },
     "metadata": {},
     "output_type": "display_data"
    },
    {
     "name": "stdout",
     "output_type": "stream",
     "text": [
      "BPR(K=100, lr=0.001, reg=0.001, max_iter=2000) model is saved to ./bpr_grid_search\\BPR(K=100, lr=0.001, reg=0.001, max_iter=2000)\\2024-05-16_06-44-04-298936.pkl\n",
      "\n",
      "[BPR(K=100, lr=0.001, reg=0.01, max_iter=100)] Training started!\n"
     ]
    },
    {
     "data": {
      "application/vnd.jupyter.widget-view+json": {
       "model_id": "51cbe6cca52b4531bb413a94c7b021e1",
       "version_major": 2,
       "version_minor": 0
      },
      "text/plain": [
       "  0%|          | 0/100 [00:00<?, ?it/s]"
      ]
     },
     "metadata": {},
     "output_type": "display_data"
    },
    {
     "name": "stdout",
     "output_type": "stream",
     "text": [
      "Optimization finished!\n",
      "\n",
      "[BPR(K=100, lr=0.001, reg=0.01, max_iter=100)] Evaluation started!\n"
     ]
    },
    {
     "data": {
      "application/vnd.jupyter.widget-view+json": {
       "model_id": "2035b5dcfeac4904958b8e2a59693ace",
       "version_major": 2,
       "version_minor": 0
      },
      "text/plain": [
       "Ranking:   0%|          | 0/11672 [00:00<?, ?it/s]"
      ]
     },
     "metadata": {},
     "output_type": "display_data"
    },
    {
     "name": "stdout",
     "output_type": "stream",
     "text": [
      "BPR(K=100, lr=0.001, reg=0.01, max_iter=100) model is saved to ./bpr_grid_search\\BPR(K=100, lr=0.001, reg=0.01, max_iter=100)\\2024-05-16_06-44-27-046091.pkl\n",
      "\n",
      "[BPR(K=100, lr=0.001, reg=0.01, max_iter=500)] Training started!\n"
     ]
    },
    {
     "data": {
      "application/vnd.jupyter.widget-view+json": {
       "model_id": "16f51ce29d1c4a4bbaceed879163b4cc",
       "version_major": 2,
       "version_minor": 0
      },
      "text/plain": [
       "  0%|          | 0/500 [00:00<?, ?it/s]"
      ]
     },
     "metadata": {},
     "output_type": "display_data"
    },
    {
     "name": "stdout",
     "output_type": "stream",
     "text": [
      "Optimization finished!\n",
      "\n",
      "[BPR(K=100, lr=0.001, reg=0.01, max_iter=500)] Evaluation started!\n"
     ]
    },
    {
     "data": {
      "application/vnd.jupyter.widget-view+json": {
       "model_id": "bc58d24d68b44f2487e212fb51cfeb2e",
       "version_major": 2,
       "version_minor": 0
      },
      "text/plain": [
       "Ranking:   0%|          | 0/11672 [00:00<?, ?it/s]"
      ]
     },
     "metadata": {},
     "output_type": "display_data"
    },
    {
     "name": "stdout",
     "output_type": "stream",
     "text": [
      "BPR(K=100, lr=0.001, reg=0.01, max_iter=500) model is saved to ./bpr_grid_search\\BPR(K=100, lr=0.001, reg=0.01, max_iter=500)\\2024-05-16_06-45-17-825833.pkl\n",
      "\n",
      "[BPR(K=100, lr=0.001, reg=0.01, max_iter=1000)] Training started!\n"
     ]
    },
    {
     "data": {
      "application/vnd.jupyter.widget-view+json": {
       "model_id": "a9fc62a3c25a4202bb2cce79b54f4501",
       "version_major": 2,
       "version_minor": 0
      },
      "text/plain": [
       "  0%|          | 0/1000 [00:00<?, ?it/s]"
      ]
     },
     "metadata": {},
     "output_type": "display_data"
    },
    {
     "name": "stdout",
     "output_type": "stream",
     "text": [
      "Optimization finished!\n",
      "\n",
      "[BPR(K=100, lr=0.001, reg=0.01, max_iter=1000)] Evaluation started!\n"
     ]
    },
    {
     "data": {
      "application/vnd.jupyter.widget-view+json": {
       "model_id": "0017e45b709e40a88434b963079db65a",
       "version_major": 2,
       "version_minor": 0
      },
      "text/plain": [
       "Ranking:   0%|          | 0/11672 [00:00<?, ?it/s]"
      ]
     },
     "metadata": {},
     "output_type": "display_data"
    },
    {
     "name": "stdout",
     "output_type": "stream",
     "text": [
      "BPR(K=100, lr=0.001, reg=0.01, max_iter=1000) model is saved to ./bpr_grid_search\\BPR(K=100, lr=0.001, reg=0.01, max_iter=1000)\\2024-05-16_06-46-40-767183.pkl\n",
      "\n",
      "[BPR(K=100, lr=0.001, reg=0.01, max_iter=2000)] Training started!\n"
     ]
    },
    {
     "data": {
      "application/vnd.jupyter.widget-view+json": {
       "model_id": "f7c2f497b14b482faa4dea216a4133f2",
       "version_major": 2,
       "version_minor": 0
      },
      "text/plain": [
       "  0%|          | 0/2000 [00:00<?, ?it/s]"
      ]
     },
     "metadata": {},
     "output_type": "display_data"
    },
    {
     "name": "stdout",
     "output_type": "stream",
     "text": [
      "Optimization finished!\n",
      "\n",
      "[BPR(K=100, lr=0.001, reg=0.01, max_iter=2000)] Evaluation started!\n"
     ]
    },
    {
     "data": {
      "application/vnd.jupyter.widget-view+json": {
       "model_id": "9d55c39bf46a43d3a49b28f16c1557e2",
       "version_major": 2,
       "version_minor": 0
      },
      "text/plain": [
       "Ranking:   0%|          | 0/11672 [00:00<?, ?it/s]"
      ]
     },
     "metadata": {},
     "output_type": "display_data"
    },
    {
     "name": "stdout",
     "output_type": "stream",
     "text": [
      "BPR(K=100, lr=0.001, reg=0.01, max_iter=2000) model is saved to ./bpr_grid_search\\BPR(K=100, lr=0.001, reg=0.01, max_iter=2000)\\2024-05-16_06-49-10-081962.pkl\n",
      "\n",
      "[BPR(K=100, lr=0.001, reg=0.1, max_iter=100)] Training started!\n"
     ]
    },
    {
     "data": {
      "application/vnd.jupyter.widget-view+json": {
       "model_id": "f0f550a4d3674a98880d6c57e4b1c599",
       "version_major": 2,
       "version_minor": 0
      },
      "text/plain": [
       "  0%|          | 0/100 [00:00<?, ?it/s]"
      ]
     },
     "metadata": {},
     "output_type": "display_data"
    },
    {
     "name": "stdout",
     "output_type": "stream",
     "text": [
      "Optimization finished!\n",
      "\n",
      "[BPR(K=100, lr=0.001, reg=0.1, max_iter=100)] Evaluation started!\n"
     ]
    },
    {
     "data": {
      "application/vnd.jupyter.widget-view+json": {
       "model_id": "b126e4985ff84c16a8b6dc19ccb2382b",
       "version_major": 2,
       "version_minor": 0
      },
      "text/plain": [
       "Ranking:   0%|          | 0/11672 [00:00<?, ?it/s]"
      ]
     },
     "metadata": {},
     "output_type": "display_data"
    },
    {
     "name": "stdout",
     "output_type": "stream",
     "text": [
      "BPR(K=100, lr=0.001, reg=0.1, max_iter=100) model is saved to ./bpr_grid_search\\BPR(K=100, lr=0.001, reg=0.1, max_iter=100)\\2024-05-16_06-49-33-951005.pkl\n",
      "\n",
      "[BPR(K=100, lr=0.001, reg=0.1, max_iter=500)] Training started!\n"
     ]
    },
    {
     "data": {
      "application/vnd.jupyter.widget-view+json": {
       "model_id": "88a139a116de465ba9b22ccc1f848fff",
       "version_major": 2,
       "version_minor": 0
      },
      "text/plain": [
       "  0%|          | 0/500 [00:00<?, ?it/s]"
      ]
     },
     "metadata": {},
     "output_type": "display_data"
    },
    {
     "name": "stdout",
     "output_type": "stream",
     "text": [
      "Optimization finished!\n",
      "\n",
      "[BPR(K=100, lr=0.001, reg=0.1, max_iter=500)] Evaluation started!\n"
     ]
    },
    {
     "data": {
      "application/vnd.jupyter.widget-view+json": {
       "model_id": "a13c600852e9433f80bd24f8ee59c9d1",
       "version_major": 2,
       "version_minor": 0
      },
      "text/plain": [
       "Ranking:   0%|          | 0/11672 [00:00<?, ?it/s]"
      ]
     },
     "metadata": {},
     "output_type": "display_data"
    },
    {
     "name": "stdout",
     "output_type": "stream",
     "text": [
      "BPR(K=100, lr=0.001, reg=0.1, max_iter=500) model is saved to ./bpr_grid_search\\BPR(K=100, lr=0.001, reg=0.1, max_iter=500)\\2024-05-16_06-50-23-549686.pkl\n",
      "\n",
      "[BPR(K=100, lr=0.001, reg=0.1, max_iter=1000)] Training started!\n"
     ]
    },
    {
     "data": {
      "application/vnd.jupyter.widget-view+json": {
       "model_id": "5e99aa9ead634d879c3dbe696e985c92",
       "version_major": 2,
       "version_minor": 0
      },
      "text/plain": [
       "  0%|          | 0/1000 [00:00<?, ?it/s]"
      ]
     },
     "metadata": {},
     "output_type": "display_data"
    },
    {
     "name": "stdout",
     "output_type": "stream",
     "text": [
      "Optimization finished!\n",
      "\n",
      "[BPR(K=100, lr=0.001, reg=0.1, max_iter=1000)] Evaluation started!\n"
     ]
    },
    {
     "data": {
      "application/vnd.jupyter.widget-view+json": {
       "model_id": "731657fa34c5477fa5528629bcb15f19",
       "version_major": 2,
       "version_minor": 0
      },
      "text/plain": [
       "Ranking:   0%|          | 0/11672 [00:00<?, ?it/s]"
      ]
     },
     "metadata": {},
     "output_type": "display_data"
    },
    {
     "name": "stdout",
     "output_type": "stream",
     "text": [
      "BPR(K=100, lr=0.001, reg=0.1, max_iter=1000) model is saved to ./bpr_grid_search\\BPR(K=100, lr=0.001, reg=0.1, max_iter=1000)\\2024-05-16_06-51-41-111290.pkl\n",
      "\n",
      "[BPR(K=100, lr=0.001, reg=0.1, max_iter=2000)] Training started!\n"
     ]
    },
    {
     "data": {
      "application/vnd.jupyter.widget-view+json": {
       "model_id": "266cfaac39834d1f8312257f239d73e7",
       "version_major": 2,
       "version_minor": 0
      },
      "text/plain": [
       "  0%|          | 0/2000 [00:00<?, ?it/s]"
      ]
     },
     "metadata": {},
     "output_type": "display_data"
    },
    {
     "name": "stdout",
     "output_type": "stream",
     "text": [
      "Optimization finished!\n",
      "\n",
      "[BPR(K=100, lr=0.001, reg=0.1, max_iter=2000)] Evaluation started!\n"
     ]
    },
    {
     "data": {
      "application/vnd.jupyter.widget-view+json": {
       "model_id": "53efee3640544edeadd675daef3e0abb",
       "version_major": 2,
       "version_minor": 0
      },
      "text/plain": [
       "Ranking:   0%|          | 0/11672 [00:00<?, ?it/s]"
      ]
     },
     "metadata": {},
     "output_type": "display_data"
    },
    {
     "name": "stdout",
     "output_type": "stream",
     "text": [
      "BPR(K=100, lr=0.001, reg=0.1, max_iter=2000) model is saved to ./bpr_grid_search\\BPR(K=100, lr=0.001, reg=0.1, max_iter=2000)\\2024-05-16_06-54-08-053317.pkl\n",
      "\n",
      "[BPR(K=100, lr=0.001, reg=1.0, max_iter=100)] Training started!\n"
     ]
    },
    {
     "data": {
      "application/vnd.jupyter.widget-view+json": {
       "model_id": "4412d8a5197c411b9bdbba20e47137a9",
       "version_major": 2,
       "version_minor": 0
      },
      "text/plain": [
       "  0%|          | 0/100 [00:00<?, ?it/s]"
      ]
     },
     "metadata": {},
     "output_type": "display_data"
    },
    {
     "name": "stdout",
     "output_type": "stream",
     "text": [
      "Optimization finished!\n",
      "\n",
      "[BPR(K=100, lr=0.001, reg=1.0, max_iter=100)] Evaluation started!\n"
     ]
    },
    {
     "data": {
      "application/vnd.jupyter.widget-view+json": {
       "model_id": "2f8de3f3ee1a437a9c26df91969975ec",
       "version_major": 2,
       "version_minor": 0
      },
      "text/plain": [
       "Ranking:   0%|          | 0/11672 [00:00<?, ?it/s]"
      ]
     },
     "metadata": {},
     "output_type": "display_data"
    },
    {
     "name": "stdout",
     "output_type": "stream",
     "text": [
      "BPR(K=100, lr=0.001, reg=1.0, max_iter=100) model is saved to ./bpr_grid_search\\BPR(K=100, lr=0.001, reg=1.0, max_iter=100)\\2024-05-16_06-54-31-655996.pkl\n",
      "\n",
      "[BPR(K=100, lr=0.001, reg=1.0, max_iter=500)] Training started!\n"
     ]
    },
    {
     "data": {
      "application/vnd.jupyter.widget-view+json": {
       "model_id": "070b06ecdc05465fb1caa09ffa8106b9",
       "version_major": 2,
       "version_minor": 0
      },
      "text/plain": [
       "  0%|          | 0/500 [00:00<?, ?it/s]"
      ]
     },
     "metadata": {},
     "output_type": "display_data"
    },
    {
     "name": "stdout",
     "output_type": "stream",
     "text": [
      "Optimization finished!\n",
      "\n",
      "[BPR(K=100, lr=0.001, reg=1.0, max_iter=500)] Evaluation started!\n"
     ]
    },
    {
     "data": {
      "application/vnd.jupyter.widget-view+json": {
       "model_id": "a74a92afd9674b818f4db9262bd8a52b",
       "version_major": 2,
       "version_minor": 0
      },
      "text/plain": [
       "Ranking:   0%|          | 0/11672 [00:00<?, ?it/s]"
      ]
     },
     "metadata": {},
     "output_type": "display_data"
    },
    {
     "name": "stdout",
     "output_type": "stream",
     "text": [
      "BPR(K=100, lr=0.001, reg=1.0, max_iter=500) model is saved to ./bpr_grid_search\\BPR(K=100, lr=0.001, reg=1.0, max_iter=500)\\2024-05-16_06-55-20-616890.pkl\n",
      "\n",
      "[BPR(K=100, lr=0.001, reg=1.0, max_iter=1000)] Training started!\n"
     ]
    },
    {
     "data": {
      "application/vnd.jupyter.widget-view+json": {
       "model_id": "a3fa99342f794b32a366d939877ac912",
       "version_major": 2,
       "version_minor": 0
      },
      "text/plain": [
       "  0%|          | 0/1000 [00:00<?, ?it/s]"
      ]
     },
     "metadata": {},
     "output_type": "display_data"
    },
    {
     "name": "stdout",
     "output_type": "stream",
     "text": [
      "Optimization finished!\n",
      "\n",
      "[BPR(K=100, lr=0.001, reg=1.0, max_iter=1000)] Evaluation started!\n"
     ]
    },
    {
     "data": {
      "application/vnd.jupyter.widget-view+json": {
       "model_id": "128090297f1843ad900f830adbfe45fc",
       "version_major": 2,
       "version_minor": 0
      },
      "text/plain": [
       "Ranking:   0%|          | 0/11672 [00:00<?, ?it/s]"
      ]
     },
     "metadata": {},
     "output_type": "display_data"
    },
    {
     "name": "stdout",
     "output_type": "stream",
     "text": [
      "BPR(K=100, lr=0.001, reg=1.0, max_iter=1000) model is saved to ./bpr_grid_search\\BPR(K=100, lr=0.001, reg=1.0, max_iter=1000)\\2024-05-16_06-56-42-038198.pkl\n",
      "\n",
      "[BPR(K=100, lr=0.001, reg=1.0, max_iter=2000)] Training started!\n"
     ]
    },
    {
     "data": {
      "application/vnd.jupyter.widget-view+json": {
       "model_id": "3357d35425b747fc8f4e0c140aac06b6",
       "version_major": 2,
       "version_minor": 0
      },
      "text/plain": [
       "  0%|          | 0/2000 [00:00<?, ?it/s]"
      ]
     },
     "metadata": {},
     "output_type": "display_data"
    },
    {
     "name": "stdout",
     "output_type": "stream",
     "text": [
      "Optimization finished!\n",
      "\n",
      "[BPR(K=100, lr=0.001, reg=1.0, max_iter=2000)] Evaluation started!\n"
     ]
    },
    {
     "data": {
      "application/vnd.jupyter.widget-view+json": {
       "model_id": "c20ef931b340432b971ee30fc8408723",
       "version_major": 2,
       "version_minor": 0
      },
      "text/plain": [
       "Ranking:   0%|          | 0/11672 [00:00<?, ?it/s]"
      ]
     },
     "metadata": {},
     "output_type": "display_data"
    },
    {
     "name": "stdout",
     "output_type": "stream",
     "text": [
      "BPR(K=100, lr=0.001, reg=1.0, max_iter=2000) model is saved to ./bpr_grid_search\\BPR(K=100, lr=0.001, reg=1.0, max_iter=2000)\\2024-05-16_06-59-05-104650.pkl\n",
      "\n",
      "[BPR(K=100, lr=0.01, reg=0.001, max_iter=100)] Training started!\n"
     ]
    },
    {
     "data": {
      "application/vnd.jupyter.widget-view+json": {
       "model_id": "c12842da27f14582a918c60d050c3fa6",
       "version_major": 2,
       "version_minor": 0
      },
      "text/plain": [
       "  0%|          | 0/100 [00:00<?, ?it/s]"
      ]
     },
     "metadata": {},
     "output_type": "display_data"
    },
    {
     "name": "stdout",
     "output_type": "stream",
     "text": [
      "Optimization finished!\n",
      "\n",
      "[BPR(K=100, lr=0.01, reg=0.001, max_iter=100)] Evaluation started!\n"
     ]
    },
    {
     "data": {
      "application/vnd.jupyter.widget-view+json": {
       "model_id": "0f7a11ee91f249849d23e367a40504fd",
       "version_major": 2,
       "version_minor": 0
      },
      "text/plain": [
       "Ranking:   0%|          | 0/11672 [00:00<?, ?it/s]"
      ]
     },
     "metadata": {},
     "output_type": "display_data"
    },
    {
     "name": "stdout",
     "output_type": "stream",
     "text": [
      "BPR(K=100, lr=0.01, reg=0.001, max_iter=100) model is saved to ./bpr_grid_search\\BPR(K=100, lr=0.01, reg=0.001, max_iter=100)\\2024-05-16_06-59-28-637432.pkl\n",
      "\n",
      "[BPR(K=100, lr=0.01, reg=0.001, max_iter=500)] Training started!\n"
     ]
    },
    {
     "data": {
      "application/vnd.jupyter.widget-view+json": {
       "model_id": "6fcaf447ca504e11b0ddc4908d0c2898",
       "version_major": 2,
       "version_minor": 0
      },
      "text/plain": [
       "  0%|          | 0/500 [00:00<?, ?it/s]"
      ]
     },
     "metadata": {},
     "output_type": "display_data"
    },
    {
     "name": "stdout",
     "output_type": "stream",
     "text": [
      "Optimization finished!\n",
      "\n",
      "[BPR(K=100, lr=0.01, reg=0.001, max_iter=500)] Evaluation started!\n"
     ]
    },
    {
     "data": {
      "application/vnd.jupyter.widget-view+json": {
       "model_id": "347edee529af451aa5cdd43f8c46ff0b",
       "version_major": 2,
       "version_minor": 0
      },
      "text/plain": [
       "Ranking:   0%|          | 0/11672 [00:00<?, ?it/s]"
      ]
     },
     "metadata": {},
     "output_type": "display_data"
    },
    {
     "name": "stdout",
     "output_type": "stream",
     "text": [
      "BPR(K=100, lr=0.01, reg=0.001, max_iter=500) model is saved to ./bpr_grid_search\\BPR(K=100, lr=0.01, reg=0.001, max_iter=500)\\2024-05-16_07-00-17-658032.pkl\n",
      "\n",
      "[BPR(K=100, lr=0.01, reg=0.001, max_iter=1000)] Training started!\n"
     ]
    },
    {
     "data": {
      "application/vnd.jupyter.widget-view+json": {
       "model_id": "384e36339a4e480a9ccae3d05742940c",
       "version_major": 2,
       "version_minor": 0
      },
      "text/plain": [
       "  0%|          | 0/1000 [00:00<?, ?it/s]"
      ]
     },
     "metadata": {},
     "output_type": "display_data"
    },
    {
     "name": "stdout",
     "output_type": "stream",
     "text": [
      "Optimization finished!\n",
      "\n",
      "[BPR(K=100, lr=0.01, reg=0.001, max_iter=1000)] Evaluation started!\n"
     ]
    },
    {
     "data": {
      "application/vnd.jupyter.widget-view+json": {
       "model_id": "4962b39364734ddeae8dfa0c1ca18342",
       "version_major": 2,
       "version_minor": 0
      },
      "text/plain": [
       "Ranking:   0%|          | 0/11672 [00:00<?, ?it/s]"
      ]
     },
     "metadata": {},
     "output_type": "display_data"
    },
    {
     "name": "stdout",
     "output_type": "stream",
     "text": [
      "BPR(K=100, lr=0.01, reg=0.001, max_iter=1000) model is saved to ./bpr_grid_search\\BPR(K=100, lr=0.01, reg=0.001, max_iter=1000)\\2024-05-16_07-01-38-121185.pkl\n",
      "\n",
      "[BPR(K=100, lr=0.01, reg=0.001, max_iter=2000)] Training started!\n"
     ]
    },
    {
     "data": {
      "application/vnd.jupyter.widget-view+json": {
       "model_id": "3779bfb4c6b4462ab9fe97ec7cd2f5d8",
       "version_major": 2,
       "version_minor": 0
      },
      "text/plain": [
       "  0%|          | 0/2000 [00:00<?, ?it/s]"
      ]
     },
     "metadata": {},
     "output_type": "display_data"
    },
    {
     "name": "stdout",
     "output_type": "stream",
     "text": [
      "Optimization finished!\n",
      "\n",
      "[BPR(K=100, lr=0.01, reg=0.001, max_iter=2000)] Evaluation started!\n"
     ]
    },
    {
     "data": {
      "application/vnd.jupyter.widget-view+json": {
       "model_id": "8407e81b61c24abc848b981b1933f718",
       "version_major": 2,
       "version_minor": 0
      },
      "text/plain": [
       "Ranking:   0%|          | 0/11672 [00:00<?, ?it/s]"
      ]
     },
     "metadata": {},
     "output_type": "display_data"
    },
    {
     "name": "stdout",
     "output_type": "stream",
     "text": [
      "BPR(K=100, lr=0.01, reg=0.001, max_iter=2000) model is saved to ./bpr_grid_search\\BPR(K=100, lr=0.01, reg=0.001, max_iter=2000)\\2024-05-16_07-03-59-949458.pkl\n",
      "\n",
      "[BPR(K=100, lr=0.01, reg=0.01, max_iter=100)] Training started!\n"
     ]
    },
    {
     "data": {
      "application/vnd.jupyter.widget-view+json": {
       "model_id": "0f20824e97e245a5b0421fda888d6e6f",
       "version_major": 2,
       "version_minor": 0
      },
      "text/plain": [
       "  0%|          | 0/100 [00:00<?, ?it/s]"
      ]
     },
     "metadata": {},
     "output_type": "display_data"
    },
    {
     "name": "stdout",
     "output_type": "stream",
     "text": [
      "Optimization finished!\n",
      "\n",
      "[BPR(K=100, lr=0.01, reg=0.01, max_iter=100)] Evaluation started!\n"
     ]
    },
    {
     "data": {
      "application/vnd.jupyter.widget-view+json": {
       "model_id": "fb066647ac844cfaa4ceb5f8bc09fbf6",
       "version_major": 2,
       "version_minor": 0
      },
      "text/plain": [
       "Ranking:   0%|          | 0/11672 [00:00<?, ?it/s]"
      ]
     },
     "metadata": {},
     "output_type": "display_data"
    },
    {
     "name": "stdout",
     "output_type": "stream",
     "text": [
      "BPR(K=100, lr=0.01, reg=0.01, max_iter=100) model is saved to ./bpr_grid_search\\BPR(K=100, lr=0.01, reg=0.01, max_iter=100)\\2024-05-16_07-04-21-487874.pkl\n",
      "\n",
      "[BPR(K=100, lr=0.01, reg=0.01, max_iter=500)] Training started!\n"
     ]
    },
    {
     "data": {
      "application/vnd.jupyter.widget-view+json": {
       "model_id": "049cf33567764f71814071afa8517f2b",
       "version_major": 2,
       "version_minor": 0
      },
      "text/plain": [
       "  0%|          | 0/500 [00:00<?, ?it/s]"
      ]
     },
     "metadata": {},
     "output_type": "display_data"
    },
    {
     "name": "stdout",
     "output_type": "stream",
     "text": [
      "Optimization finished!\n",
      "\n",
      "[BPR(K=100, lr=0.01, reg=0.01, max_iter=500)] Evaluation started!\n"
     ]
    },
    {
     "data": {
      "application/vnd.jupyter.widget-view+json": {
       "model_id": "e7eceb421c7e4ed99ee778c518bb9110",
       "version_major": 2,
       "version_minor": 0
      },
      "text/plain": [
       "Ranking:   0%|          | 0/11672 [00:00<?, ?it/s]"
      ]
     },
     "metadata": {},
     "output_type": "display_data"
    },
    {
     "name": "stdout",
     "output_type": "stream",
     "text": [
      "BPR(K=100, lr=0.01, reg=0.01, max_iter=500) model is saved to ./bpr_grid_search\\BPR(K=100, lr=0.01, reg=0.01, max_iter=500)\\2024-05-16_07-05-03-918733.pkl\n",
      "\n",
      "[BPR(K=100, lr=0.01, reg=0.01, max_iter=1000)] Training started!\n"
     ]
    },
    {
     "data": {
      "application/vnd.jupyter.widget-view+json": {
       "model_id": "8c269121427c475ca84fd20e137009f4",
       "version_major": 2,
       "version_minor": 0
      },
      "text/plain": [
       "  0%|          | 0/1000 [00:00<?, ?it/s]"
      ]
     },
     "metadata": {},
     "output_type": "display_data"
    },
    {
     "name": "stdout",
     "output_type": "stream",
     "text": [
      "Optimization finished!\n",
      "\n",
      "[BPR(K=100, lr=0.01, reg=0.01, max_iter=1000)] Evaluation started!\n"
     ]
    },
    {
     "data": {
      "application/vnd.jupyter.widget-view+json": {
       "model_id": "e2228368675145628dc18128d9949b8d",
       "version_major": 2,
       "version_minor": 0
      },
      "text/plain": [
       "Ranking:   0%|          | 0/11672 [00:00<?, ?it/s]"
      ]
     },
     "metadata": {},
     "output_type": "display_data"
    },
    {
     "name": "stdout",
     "output_type": "stream",
     "text": [
      "BPR(K=100, lr=0.01, reg=0.01, max_iter=1000) model is saved to ./bpr_grid_search\\BPR(K=100, lr=0.01, reg=0.01, max_iter=1000)\\2024-05-16_07-06-11-940639.pkl\n",
      "\n",
      "[BPR(K=100, lr=0.01, reg=0.01, max_iter=2000)] Training started!\n"
     ]
    },
    {
     "data": {
      "application/vnd.jupyter.widget-view+json": {
       "model_id": "7390d5a156ad47869ad7a86da33d7c4f",
       "version_major": 2,
       "version_minor": 0
      },
      "text/plain": [
       "  0%|          | 0/2000 [00:00<?, ?it/s]"
      ]
     },
     "metadata": {},
     "output_type": "display_data"
    },
    {
     "name": "stdout",
     "output_type": "stream",
     "text": [
      "Optimization finished!\n",
      "\n",
      "[BPR(K=100, lr=0.01, reg=0.01, max_iter=2000)] Evaluation started!\n"
     ]
    },
    {
     "data": {
      "application/vnd.jupyter.widget-view+json": {
       "model_id": "3fc42333d87f4c5eacfe69ff5eb9f8b7",
       "version_major": 2,
       "version_minor": 0
      },
      "text/plain": [
       "Ranking:   0%|          | 0/11672 [00:00<?, ?it/s]"
      ]
     },
     "metadata": {},
     "output_type": "display_data"
    },
    {
     "name": "stdout",
     "output_type": "stream",
     "text": [
      "BPR(K=100, lr=0.01, reg=0.01, max_iter=2000) model is saved to ./bpr_grid_search\\BPR(K=100, lr=0.01, reg=0.01, max_iter=2000)\\2024-05-16_07-08-08-977388.pkl\n",
      "\n",
      "[BPR(K=100, lr=0.01, reg=0.1, max_iter=100)] Training started!\n"
     ]
    },
    {
     "data": {
      "application/vnd.jupyter.widget-view+json": {
       "model_id": "cb7708ae40e641c0aea1f4a316bf9b3d",
       "version_major": 2,
       "version_minor": 0
      },
      "text/plain": [
       "  0%|          | 0/100 [00:00<?, ?it/s]"
      ]
     },
     "metadata": {},
     "output_type": "display_data"
    },
    {
     "name": "stdout",
     "output_type": "stream",
     "text": [
      "Optimization finished!\n",
      "\n",
      "[BPR(K=100, lr=0.01, reg=0.1, max_iter=100)] Evaluation started!\n"
     ]
    },
    {
     "data": {
      "application/vnd.jupyter.widget-view+json": {
       "model_id": "791ab63f9aad4fc0b0be17e862c49749",
       "version_major": 2,
       "version_minor": 0
      },
      "text/plain": [
       "Ranking:   0%|          | 0/11672 [00:00<?, ?it/s]"
      ]
     },
     "metadata": {},
     "output_type": "display_data"
    },
    {
     "name": "stdout",
     "output_type": "stream",
     "text": [
      "BPR(K=100, lr=0.01, reg=0.1, max_iter=100) model is saved to ./bpr_grid_search\\BPR(K=100, lr=0.01, reg=0.1, max_iter=100)\\2024-05-16_07-08-30-780454.pkl\n",
      "\n",
      "[BPR(K=100, lr=0.01, reg=0.1, max_iter=500)] Training started!\n"
     ]
    },
    {
     "data": {
      "application/vnd.jupyter.widget-view+json": {
       "model_id": "fbee76d379ce4c6f8b894e469d9adfb4",
       "version_major": 2,
       "version_minor": 0
      },
      "text/plain": [
       "  0%|          | 0/500 [00:00<?, ?it/s]"
      ]
     },
     "metadata": {},
     "output_type": "display_data"
    },
    {
     "name": "stdout",
     "output_type": "stream",
     "text": [
      "Optimization finished!\n",
      "\n",
      "[BPR(K=100, lr=0.01, reg=0.1, max_iter=500)] Evaluation started!\n"
     ]
    },
    {
     "data": {
      "application/vnd.jupyter.widget-view+json": {
       "model_id": "88f704763244467087963d6c94b863fd",
       "version_major": 2,
       "version_minor": 0
      },
      "text/plain": [
       "Ranking:   0%|          | 0/11672 [00:00<?, ?it/s]"
      ]
     },
     "metadata": {},
     "output_type": "display_data"
    },
    {
     "name": "stdout",
     "output_type": "stream",
     "text": [
      "BPR(K=100, lr=0.01, reg=0.1, max_iter=500) model is saved to ./bpr_grid_search\\BPR(K=100, lr=0.01, reg=0.1, max_iter=500)\\2024-05-16_07-09-11-929977.pkl\n",
      "\n",
      "[BPR(K=100, lr=0.01, reg=0.1, max_iter=1000)] Training started!\n"
     ]
    },
    {
     "data": {
      "application/vnd.jupyter.widget-view+json": {
       "model_id": "368d3c82cc9f4914a6f8175319065f5f",
       "version_major": 2,
       "version_minor": 0
      },
      "text/plain": [
       "  0%|          | 0/1000 [00:00<?, ?it/s]"
      ]
     },
     "metadata": {},
     "output_type": "display_data"
    },
    {
     "name": "stdout",
     "output_type": "stream",
     "text": [
      "Optimization finished!\n",
      "\n",
      "[BPR(K=100, lr=0.01, reg=0.1, max_iter=1000)] Evaluation started!\n"
     ]
    },
    {
     "data": {
      "application/vnd.jupyter.widget-view+json": {
       "model_id": "5fd2d1a483904b09b010c5e2a2f6070d",
       "version_major": 2,
       "version_minor": 0
      },
      "text/plain": [
       "Ranking:   0%|          | 0/11672 [00:00<?, ?it/s]"
      ]
     },
     "metadata": {},
     "output_type": "display_data"
    },
    {
     "name": "stdout",
     "output_type": "stream",
     "text": [
      "BPR(K=100, lr=0.01, reg=0.1, max_iter=1000) model is saved to ./bpr_grid_search\\BPR(K=100, lr=0.01, reg=0.1, max_iter=1000)\\2024-05-16_07-10-17-553661.pkl\n",
      "\n",
      "[BPR(K=100, lr=0.01, reg=0.1, max_iter=2000)] Training started!\n"
     ]
    },
    {
     "data": {
      "application/vnd.jupyter.widget-view+json": {
       "model_id": "9e0a995c7c41453d953cb05f216410c4",
       "version_major": 2,
       "version_minor": 0
      },
      "text/plain": [
       "  0%|          | 0/2000 [00:00<?, ?it/s]"
      ]
     },
     "metadata": {},
     "output_type": "display_data"
    },
    {
     "name": "stdout",
     "output_type": "stream",
     "text": [
      "Optimization finished!\n",
      "\n",
      "[BPR(K=100, lr=0.01, reg=0.1, max_iter=2000)] Evaluation started!\n"
     ]
    },
    {
     "data": {
      "application/vnd.jupyter.widget-view+json": {
       "model_id": "e9c0853b07c74b269314c0a31772bb5a",
       "version_major": 2,
       "version_minor": 0
      },
      "text/plain": [
       "Ranking:   0%|          | 0/11672 [00:00<?, ?it/s]"
      ]
     },
     "metadata": {},
     "output_type": "display_data"
    },
    {
     "name": "stdout",
     "output_type": "stream",
     "text": [
      "BPR(K=100, lr=0.01, reg=0.1, max_iter=2000) model is saved to ./bpr_grid_search\\BPR(K=100, lr=0.01, reg=0.1, max_iter=2000)\\2024-05-16_07-12-11-180946.pkl\n",
      "\n",
      "[BPR(K=100, lr=0.01, reg=1.0, max_iter=100)] Training started!\n"
     ]
    },
    {
     "data": {
      "application/vnd.jupyter.widget-view+json": {
       "model_id": "6cbd0f1bcffc48b1962a0a393ead2e47",
       "version_major": 2,
       "version_minor": 0
      },
      "text/plain": [
       "  0%|          | 0/100 [00:00<?, ?it/s]"
      ]
     },
     "metadata": {},
     "output_type": "display_data"
    },
    {
     "name": "stdout",
     "output_type": "stream",
     "text": [
      "Optimization finished!\n",
      "\n",
      "[BPR(K=100, lr=0.01, reg=1.0, max_iter=100)] Evaluation started!\n"
     ]
    },
    {
     "data": {
      "application/vnd.jupyter.widget-view+json": {
       "model_id": "ef456ca380094b0a8aa1ec768bd5fe91",
       "version_major": 2,
       "version_minor": 0
      },
      "text/plain": [
       "Ranking:   0%|          | 0/11672 [00:00<?, ?it/s]"
      ]
     },
     "metadata": {},
     "output_type": "display_data"
    },
    {
     "name": "stdout",
     "output_type": "stream",
     "text": [
      "BPR(K=100, lr=0.01, reg=1.0, max_iter=100) model is saved to ./bpr_grid_search\\BPR(K=100, lr=0.01, reg=1.0, max_iter=100)\\2024-05-16_07-12-31-665273.pkl\n",
      "\n",
      "[BPR(K=100, lr=0.01, reg=1.0, max_iter=500)] Training started!\n"
     ]
    },
    {
     "data": {
      "application/vnd.jupyter.widget-view+json": {
       "model_id": "cb1e7327df1b4ac3aad8bf4276664b27",
       "version_major": 2,
       "version_minor": 0
      },
      "text/plain": [
       "  0%|          | 0/500 [00:00<?, ?it/s]"
      ]
     },
     "metadata": {},
     "output_type": "display_data"
    },
    {
     "name": "stdout",
     "output_type": "stream",
     "text": [
      "Optimization finished!\n",
      "\n",
      "[BPR(K=100, lr=0.01, reg=1.0, max_iter=500)] Evaluation started!\n"
     ]
    },
    {
     "data": {
      "application/vnd.jupyter.widget-view+json": {
       "model_id": "63a4ffa64be54d9f89fead1763ca4907",
       "version_major": 2,
       "version_minor": 0
      },
      "text/plain": [
       "Ranking:   0%|          | 0/11672 [00:00<?, ?it/s]"
      ]
     },
     "metadata": {},
     "output_type": "display_data"
    },
    {
     "name": "stdout",
     "output_type": "stream",
     "text": [
      "BPR(K=100, lr=0.01, reg=1.0, max_iter=500) model is saved to ./bpr_grid_search\\BPR(K=100, lr=0.01, reg=1.0, max_iter=500)\\2024-05-16_07-13-12-142393.pkl\n",
      "\n",
      "[BPR(K=100, lr=0.01, reg=1.0, max_iter=1000)] Training started!\n"
     ]
    },
    {
     "data": {
      "application/vnd.jupyter.widget-view+json": {
       "model_id": "76d26b49a99e4d61a2cb3220b73a595d",
       "version_major": 2,
       "version_minor": 0
      },
      "text/plain": [
       "  0%|          | 0/1000 [00:00<?, ?it/s]"
      ]
     },
     "metadata": {},
     "output_type": "display_data"
    },
    {
     "name": "stdout",
     "output_type": "stream",
     "text": [
      "Optimization finished!\n",
      "\n",
      "[BPR(K=100, lr=0.01, reg=1.0, max_iter=1000)] Evaluation started!\n"
     ]
    },
    {
     "data": {
      "application/vnd.jupyter.widget-view+json": {
       "model_id": "476aa4ca429a44d7875724bb86d4c829",
       "version_major": 2,
       "version_minor": 0
      },
      "text/plain": [
       "Ranking:   0%|          | 0/11672 [00:00<?, ?it/s]"
      ]
     },
     "metadata": {},
     "output_type": "display_data"
    },
    {
     "name": "stdout",
     "output_type": "stream",
     "text": [
      "BPR(K=100, lr=0.01, reg=1.0, max_iter=1000) model is saved to ./bpr_grid_search\\BPR(K=100, lr=0.01, reg=1.0, max_iter=1000)\\2024-05-16_07-14-17-709092.pkl\n",
      "\n",
      "[BPR(K=100, lr=0.01, reg=1.0, max_iter=2000)] Training started!\n"
     ]
    },
    {
     "data": {
      "application/vnd.jupyter.widget-view+json": {
       "model_id": "34268e316bdd49749f2897817f76b4cc",
       "version_major": 2,
       "version_minor": 0
      },
      "text/plain": [
       "  0%|          | 0/2000 [00:00<?, ?it/s]"
      ]
     },
     "metadata": {},
     "output_type": "display_data"
    },
    {
     "name": "stdout",
     "output_type": "stream",
     "text": [
      "Optimization finished!\n",
      "\n",
      "[BPR(K=100, lr=0.01, reg=1.0, max_iter=2000)] Evaluation started!\n"
     ]
    },
    {
     "data": {
      "application/vnd.jupyter.widget-view+json": {
       "model_id": "1fbf17d2d386456d8797726191d584a4",
       "version_major": 2,
       "version_minor": 0
      },
      "text/plain": [
       "Ranking:   0%|          | 0/11672 [00:00<?, ?it/s]"
      ]
     },
     "metadata": {},
     "output_type": "display_data"
    },
    {
     "name": "stdout",
     "output_type": "stream",
     "text": [
      "BPR(K=100, lr=0.01, reg=1.0, max_iter=2000) model is saved to ./bpr_grid_search\\BPR(K=100, lr=0.01, reg=1.0, max_iter=2000)\\2024-05-16_07-21-34-173142.pkl\n",
      "\n",
      "[BPR(K=100, lr=0.1, reg=0.001, max_iter=100)] Training started!\n"
     ]
    },
    {
     "data": {
      "application/vnd.jupyter.widget-view+json": {
       "model_id": "71c6876879df40eaafd6685179188d6b",
       "version_major": 2,
       "version_minor": 0
      },
      "text/plain": [
       "  0%|          | 0/100 [00:00<?, ?it/s]"
      ]
     },
     "metadata": {},
     "output_type": "display_data"
    },
    {
     "name": "stdout",
     "output_type": "stream",
     "text": [
      "Optimization finished!\n",
      "\n",
      "[BPR(K=100, lr=0.1, reg=0.001, max_iter=100)] Evaluation started!\n"
     ]
    },
    {
     "data": {
      "application/vnd.jupyter.widget-view+json": {
       "model_id": "c09dfd19b7c54f4b9034550ed3a9e7d3",
       "version_major": 2,
       "version_minor": 0
      },
      "text/plain": [
       "Ranking:   0%|          | 0/11672 [00:00<?, ?it/s]"
      ]
     },
     "metadata": {},
     "output_type": "display_data"
    },
    {
     "name": "stdout",
     "output_type": "stream",
     "text": [
      "BPR(K=100, lr=0.1, reg=0.001, max_iter=100) model is saved to ./bpr_grid_search\\BPR(K=100, lr=0.1, reg=0.001, max_iter=100)\\2024-05-16_07-21-54-912896.pkl\n",
      "\n",
      "[BPR(K=100, lr=0.1, reg=0.001, max_iter=500)] Training started!\n"
     ]
    },
    {
     "data": {
      "application/vnd.jupyter.widget-view+json": {
       "model_id": "aa2e315021a3407e9a35d9a6c046cb00",
       "version_major": 2,
       "version_minor": 0
      },
      "text/plain": [
       "  0%|          | 0/500 [00:00<?, ?it/s]"
      ]
     },
     "metadata": {},
     "output_type": "display_data"
    },
    {
     "name": "stdout",
     "output_type": "stream",
     "text": [
      "Optimization finished!\n",
      "\n",
      "[BPR(K=100, lr=0.1, reg=0.001, max_iter=500)] Evaluation started!\n"
     ]
    },
    {
     "data": {
      "application/vnd.jupyter.widget-view+json": {
       "model_id": "4e25ca14ea674188bc208f788edc6813",
       "version_major": 2,
       "version_minor": 0
      },
      "text/plain": [
       "Ranking:   0%|          | 0/11672 [00:00<?, ?it/s]"
      ]
     },
     "metadata": {},
     "output_type": "display_data"
    },
    {
     "name": "stdout",
     "output_type": "stream",
     "text": [
      "BPR(K=100, lr=0.1, reg=0.001, max_iter=500) model is saved to ./bpr_grid_search\\BPR(K=100, lr=0.1, reg=0.001, max_iter=500)\\2024-05-16_07-22-34-856855.pkl\n",
      "\n",
      "[BPR(K=100, lr=0.1, reg=0.001, max_iter=1000)] Training started!\n"
     ]
    },
    {
     "data": {
      "application/vnd.jupyter.widget-view+json": {
       "model_id": "2395c694a6a04c36bf8ce5e400d6c3c7",
       "version_major": 2,
       "version_minor": 0
      },
      "text/plain": [
       "  0%|          | 0/1000 [00:00<?, ?it/s]"
      ]
     },
     "metadata": {},
     "output_type": "display_data"
    },
    {
     "name": "stdout",
     "output_type": "stream",
     "text": [
      "Optimization finished!\n",
      "\n",
      "[BPR(K=100, lr=0.1, reg=0.001, max_iter=1000)] Evaluation started!\n"
     ]
    },
    {
     "data": {
      "application/vnd.jupyter.widget-view+json": {
       "model_id": "f77a265dc144431f89431ff01a39a934",
       "version_major": 2,
       "version_minor": 0
      },
      "text/plain": [
       "Ranking:   0%|          | 0/11672 [00:00<?, ?it/s]"
      ]
     },
     "metadata": {},
     "output_type": "display_data"
    },
    {
     "name": "stdout",
     "output_type": "stream",
     "text": [
      "BPR(K=100, lr=0.1, reg=0.001, max_iter=1000) model is saved to ./bpr_grid_search\\BPR(K=100, lr=0.1, reg=0.001, max_iter=1000)\\2024-05-16_07-23-39-520610.pkl\n",
      "\n",
      "[BPR(K=100, lr=0.1, reg=0.001, max_iter=2000)] Training started!\n"
     ]
    },
    {
     "data": {
      "application/vnd.jupyter.widget-view+json": {
       "model_id": "6ab44aaddab44f389bc2321be6aeea7f",
       "version_major": 2,
       "version_minor": 0
      },
      "text/plain": [
       "  0%|          | 0/2000 [00:00<?, ?it/s]"
      ]
     },
     "metadata": {},
     "output_type": "display_data"
    },
    {
     "name": "stdout",
     "output_type": "stream",
     "text": [
      "Optimization finished!\n",
      "\n",
      "[BPR(K=100, lr=0.1, reg=0.001, max_iter=2000)] Evaluation started!\n"
     ]
    },
    {
     "data": {
      "application/vnd.jupyter.widget-view+json": {
       "model_id": "f5b45fb3bdfa439f97ad152496da55c2",
       "version_major": 2,
       "version_minor": 0
      },
      "text/plain": [
       "Ranking:   0%|          | 0/11672 [00:00<?, ?it/s]"
      ]
     },
     "metadata": {},
     "output_type": "display_data"
    },
    {
     "name": "stdout",
     "output_type": "stream",
     "text": [
      "BPR(K=100, lr=0.1, reg=0.001, max_iter=2000) model is saved to ./bpr_grid_search\\BPR(K=100, lr=0.1, reg=0.001, max_iter=2000)\\2024-05-16_07-25-31-878360.pkl\n",
      "\n",
      "[BPR(K=100, lr=0.1, reg=0.01, max_iter=100)] Training started!\n"
     ]
    },
    {
     "data": {
      "application/vnd.jupyter.widget-view+json": {
       "model_id": "7c448a451ce64fa8814cb2e036c106f6",
       "version_major": 2,
       "version_minor": 0
      },
      "text/plain": [
       "  0%|          | 0/100 [00:00<?, ?it/s]"
      ]
     },
     "metadata": {},
     "output_type": "display_data"
    },
    {
     "name": "stdout",
     "output_type": "stream",
     "text": [
      "Optimization finished!\n",
      "\n",
      "[BPR(K=100, lr=0.1, reg=0.01, max_iter=100)] Evaluation started!\n"
     ]
    },
    {
     "data": {
      "application/vnd.jupyter.widget-view+json": {
       "model_id": "50d38d18fff64d4ca7c6b08d50e2ff43",
       "version_major": 2,
       "version_minor": 0
      },
      "text/plain": [
       "Ranking:   0%|          | 0/11672 [00:00<?, ?it/s]"
      ]
     },
     "metadata": {},
     "output_type": "display_data"
    },
    {
     "name": "stdout",
     "output_type": "stream",
     "text": [
      "BPR(K=100, lr=0.1, reg=0.01, max_iter=100) model is saved to ./bpr_grid_search\\BPR(K=100, lr=0.1, reg=0.01, max_iter=100)\\2024-05-16_07-25-52-364808.pkl\n",
      "\n",
      "[BPR(K=100, lr=0.1, reg=0.01, max_iter=500)] Training started!\n"
     ]
    },
    {
     "data": {
      "application/vnd.jupyter.widget-view+json": {
       "model_id": "4cdcfea298ff43e3ae1615f7cfc66e57",
       "version_major": 2,
       "version_minor": 0
      },
      "text/plain": [
       "  0%|          | 0/500 [00:00<?, ?it/s]"
      ]
     },
     "metadata": {},
     "output_type": "display_data"
    },
    {
     "name": "stdout",
     "output_type": "stream",
     "text": [
      "Optimization finished!\n",
      "\n",
      "[BPR(K=100, lr=0.1, reg=0.01, max_iter=500)] Evaluation started!\n"
     ]
    },
    {
     "data": {
      "application/vnd.jupyter.widget-view+json": {
       "model_id": "d40054b9311943019624a2ad760c4a77",
       "version_major": 2,
       "version_minor": 0
      },
      "text/plain": [
       "Ranking:   0%|          | 0/11672 [00:00<?, ?it/s]"
      ]
     },
     "metadata": {},
     "output_type": "display_data"
    },
    {
     "name": "stdout",
     "output_type": "stream",
     "text": [
      "BPR(K=100, lr=0.1, reg=0.01, max_iter=500) model is saved to ./bpr_grid_search\\BPR(K=100, lr=0.1, reg=0.01, max_iter=500)\\2024-05-16_07-26-32-443880.pkl\n",
      "\n",
      "[BPR(K=100, lr=0.1, reg=0.01, max_iter=1000)] Training started!\n"
     ]
    },
    {
     "data": {
      "application/vnd.jupyter.widget-view+json": {
       "model_id": "73026a9b3dcc4ead82792c786b2ab9e4",
       "version_major": 2,
       "version_minor": 0
      },
      "text/plain": [
       "  0%|          | 0/1000 [00:00<?, ?it/s]"
      ]
     },
     "metadata": {},
     "output_type": "display_data"
    },
    {
     "name": "stdout",
     "output_type": "stream",
     "text": [
      "Optimization finished!\n",
      "\n",
      "[BPR(K=100, lr=0.1, reg=0.01, max_iter=1000)] Evaluation started!\n"
     ]
    },
    {
     "data": {
      "application/vnd.jupyter.widget-view+json": {
       "model_id": "6b81630f190a45c1970ad9ef9e257532",
       "version_major": 2,
       "version_minor": 0
      },
      "text/plain": [
       "Ranking:   0%|          | 0/11672 [00:00<?, ?it/s]"
      ]
     },
     "metadata": {},
     "output_type": "display_data"
    },
    {
     "name": "stdout",
     "output_type": "stream",
     "text": [
      "BPR(K=100, lr=0.1, reg=0.01, max_iter=1000) model is saved to ./bpr_grid_search\\BPR(K=100, lr=0.1, reg=0.01, max_iter=1000)\\2024-05-16_07-27-37-573478.pkl\n",
      "\n",
      "[BPR(K=100, lr=0.1, reg=0.01, max_iter=2000)] Training started!\n"
     ]
    },
    {
     "data": {
      "application/vnd.jupyter.widget-view+json": {
       "model_id": "5bc10616c98146e9a813fce8968a6077",
       "version_major": 2,
       "version_minor": 0
      },
      "text/plain": [
       "  0%|          | 0/2000 [00:00<?, ?it/s]"
      ]
     },
     "metadata": {},
     "output_type": "display_data"
    },
    {
     "name": "stdout",
     "output_type": "stream",
     "text": [
      "Optimization finished!\n",
      "\n",
      "[BPR(K=100, lr=0.1, reg=0.01, max_iter=2000)] Evaluation started!\n"
     ]
    },
    {
     "data": {
      "application/vnd.jupyter.widget-view+json": {
       "model_id": "3874e88c71b04d679ba3cb9a327951b0",
       "version_major": 2,
       "version_minor": 0
      },
      "text/plain": [
       "Ranking:   0%|          | 0/11672 [00:00<?, ?it/s]"
      ]
     },
     "metadata": {},
     "output_type": "display_data"
    },
    {
     "name": "stdout",
     "output_type": "stream",
     "text": [
      "BPR(K=100, lr=0.1, reg=0.01, max_iter=2000) model is saved to ./bpr_grid_search\\BPR(K=100, lr=0.1, reg=0.01, max_iter=2000)\\2024-05-16_07-29-33-811597.pkl\n",
      "\n",
      "[BPR(K=100, lr=0.1, reg=0.1, max_iter=100)] Training started!\n"
     ]
    },
    {
     "data": {
      "application/vnd.jupyter.widget-view+json": {
       "model_id": "977954ac1fc149a9b397edf938f4a3d0",
       "version_major": 2,
       "version_minor": 0
      },
      "text/plain": [
       "  0%|          | 0/100 [00:00<?, ?it/s]"
      ]
     },
     "metadata": {},
     "output_type": "display_data"
    },
    {
     "name": "stdout",
     "output_type": "stream",
     "text": [
      "Optimization finished!\n",
      "\n",
      "[BPR(K=100, lr=0.1, reg=0.1, max_iter=100)] Evaluation started!\n"
     ]
    },
    {
     "data": {
      "application/vnd.jupyter.widget-view+json": {
       "model_id": "a8de38a9cdcf44e3ad470fe6717e9c3f",
       "version_major": 2,
       "version_minor": 0
      },
      "text/plain": [
       "Ranking:   0%|          | 0/11672 [00:00<?, ?it/s]"
      ]
     },
     "metadata": {},
     "output_type": "display_data"
    },
    {
     "name": "stdout",
     "output_type": "stream",
     "text": [
      "BPR(K=100, lr=0.1, reg=0.1, max_iter=100) model is saved to ./bpr_grid_search\\BPR(K=100, lr=0.1, reg=0.1, max_iter=100)\\2024-05-16_07-29-54-391419.pkl\n",
      "\n",
      "[BPR(K=100, lr=0.1, reg=0.1, max_iter=500)] Training started!\n"
     ]
    },
    {
     "data": {
      "application/vnd.jupyter.widget-view+json": {
       "model_id": "d006b72b2038409ba466caecec3405f1",
       "version_major": 2,
       "version_minor": 0
      },
      "text/plain": [
       "  0%|          | 0/500 [00:00<?, ?it/s]"
      ]
     },
     "metadata": {},
     "output_type": "display_data"
    },
    {
     "name": "stdout",
     "output_type": "stream",
     "text": [
      "Optimization finished!\n",
      "\n",
      "[BPR(K=100, lr=0.1, reg=0.1, max_iter=500)] Evaluation started!\n"
     ]
    },
    {
     "data": {
      "application/vnd.jupyter.widget-view+json": {
       "model_id": "90b43d317dcc4c32baa23494da0bb341",
       "version_major": 2,
       "version_minor": 0
      },
      "text/plain": [
       "Ranking:   0%|          | 0/11672 [00:00<?, ?it/s]"
      ]
     },
     "metadata": {},
     "output_type": "display_data"
    },
    {
     "name": "stdout",
     "output_type": "stream",
     "text": [
      "BPR(K=100, lr=0.1, reg=0.1, max_iter=500) model is saved to ./bpr_grid_search\\BPR(K=100, lr=0.1, reg=0.1, max_iter=500)\\2024-05-16_07-30-34-639646.pkl\n",
      "\n",
      "[BPR(K=100, lr=0.1, reg=0.1, max_iter=1000)] Training started!\n"
     ]
    },
    {
     "data": {
      "application/vnd.jupyter.widget-view+json": {
       "model_id": "e3d790f6357b45a28c345da19d4b9434",
       "version_major": 2,
       "version_minor": 0
      },
      "text/plain": [
       "  0%|          | 0/1000 [00:00<?, ?it/s]"
      ]
     },
     "metadata": {},
     "output_type": "display_data"
    },
    {
     "name": "stdout",
     "output_type": "stream",
     "text": [
      "Optimization finished!\n",
      "\n",
      "[BPR(K=100, lr=0.1, reg=0.1, max_iter=1000)] Evaluation started!\n"
     ]
    },
    {
     "data": {
      "application/vnd.jupyter.widget-view+json": {
       "model_id": "30a2abf01454493ab90268d6b3048c40",
       "version_major": 2,
       "version_minor": 0
      },
      "text/plain": [
       "Ranking:   0%|          | 0/11672 [00:00<?, ?it/s]"
      ]
     },
     "metadata": {},
     "output_type": "display_data"
    },
    {
     "name": "stdout",
     "output_type": "stream",
     "text": [
      "BPR(K=100, lr=0.1, reg=0.1, max_iter=1000) model is saved to ./bpr_grid_search\\BPR(K=100, lr=0.1, reg=0.1, max_iter=1000)\\2024-05-16_07-31-41-318738.pkl\n",
      "\n",
      "[BPR(K=100, lr=0.1, reg=0.1, max_iter=2000)] Training started!\n"
     ]
    },
    {
     "data": {
      "application/vnd.jupyter.widget-view+json": {
       "model_id": "7130312dbc4c453399f1085db6526309",
       "version_major": 2,
       "version_minor": 0
      },
      "text/plain": [
       "  0%|          | 0/2000 [00:00<?, ?it/s]"
      ]
     },
     "metadata": {},
     "output_type": "display_data"
    },
    {
     "name": "stdout",
     "output_type": "stream",
     "text": [
      "Optimization finished!\n",
      "\n",
      "[BPR(K=100, lr=0.1, reg=0.1, max_iter=2000)] Evaluation started!\n"
     ]
    },
    {
     "data": {
      "application/vnd.jupyter.widget-view+json": {
       "model_id": "3b974db51a2047f3a3cbf6fbd37676b4",
       "version_major": 2,
       "version_minor": 0
      },
      "text/plain": [
       "Ranking:   0%|          | 0/11672 [00:00<?, ?it/s]"
      ]
     },
     "metadata": {},
     "output_type": "display_data"
    },
    {
     "name": "stdout",
     "output_type": "stream",
     "text": [
      "BPR(K=100, lr=0.1, reg=0.1, max_iter=2000) model is saved to ./bpr_grid_search\\BPR(K=100, lr=0.1, reg=0.1, max_iter=2000)\\2024-05-16_07-33-49-049215.pkl\n",
      "\n",
      "[BPR(K=100, lr=0.1, reg=1.0, max_iter=100)] Training started!\n"
     ]
    },
    {
     "data": {
      "application/vnd.jupyter.widget-view+json": {
       "model_id": "af547cb72cf149deaa889c5c7f917611",
       "version_major": 2,
       "version_minor": 0
      },
      "text/plain": [
       "  0%|          | 0/100 [00:00<?, ?it/s]"
      ]
     },
     "metadata": {},
     "output_type": "display_data"
    },
    {
     "name": "stdout",
     "output_type": "stream",
     "text": [
      "Optimization finished!\n",
      "\n",
      "[BPR(K=100, lr=0.1, reg=1.0, max_iter=100)] Evaluation started!\n"
     ]
    },
    {
     "data": {
      "application/vnd.jupyter.widget-view+json": {
       "model_id": "16a1f3d7467b4aaf81739b23864391e4",
       "version_major": 2,
       "version_minor": 0
      },
      "text/plain": [
       "Ranking:   0%|          | 0/11672 [00:00<?, ?it/s]"
      ]
     },
     "metadata": {},
     "output_type": "display_data"
    },
    {
     "name": "stdout",
     "output_type": "stream",
     "text": [
      "BPR(K=100, lr=0.1, reg=1.0, max_iter=100) model is saved to ./bpr_grid_search\\BPR(K=100, lr=0.1, reg=1.0, max_iter=100)\\2024-05-16_07-34-12-255724.pkl\n",
      "\n",
      "[BPR(K=100, lr=0.1, reg=1.0, max_iter=500)] Training started!\n"
     ]
    },
    {
     "data": {
      "application/vnd.jupyter.widget-view+json": {
       "model_id": "635aa1a7c9134eeeaf751f72d9a851ac",
       "version_major": 2,
       "version_minor": 0
      },
      "text/plain": [
       "  0%|          | 0/500 [00:00<?, ?it/s]"
      ]
     },
     "metadata": {},
     "output_type": "display_data"
    },
    {
     "name": "stdout",
     "output_type": "stream",
     "text": [
      "Optimization finished!\n",
      "\n",
      "[BPR(K=100, lr=0.1, reg=1.0, max_iter=500)] Evaluation started!\n"
     ]
    },
    {
     "data": {
      "application/vnd.jupyter.widget-view+json": {
       "model_id": "ad4779f70a7b410aaa9a739b4d182df2",
       "version_major": 2,
       "version_minor": 0
      },
      "text/plain": [
       "Ranking:   0%|          | 0/11672 [00:00<?, ?it/s]"
      ]
     },
     "metadata": {},
     "output_type": "display_data"
    },
    {
     "name": "stdout",
     "output_type": "stream",
     "text": [
      "BPR(K=100, lr=0.1, reg=1.0, max_iter=500) model is saved to ./bpr_grid_search\\BPR(K=100, lr=0.1, reg=1.0, max_iter=500)\\2024-05-16_07-45-48-790932.pkl\n",
      "\n",
      "[BPR(K=100, lr=0.1, reg=1.0, max_iter=1000)] Training started!\n"
     ]
    },
    {
     "data": {
      "application/vnd.jupyter.widget-view+json": {
       "model_id": "4258f0c046a348dbae2d6c8ed5d9dffd",
       "version_major": 2,
       "version_minor": 0
      },
      "text/plain": [
       "  0%|          | 0/1000 [00:00<?, ?it/s]"
      ]
     },
     "metadata": {},
     "output_type": "display_data"
    },
    {
     "name": "stdout",
     "output_type": "stream",
     "text": [
      "Optimization finished!\n",
      "\n",
      "[BPR(K=100, lr=0.1, reg=1.0, max_iter=1000)] Evaluation started!\n"
     ]
    },
    {
     "data": {
      "application/vnd.jupyter.widget-view+json": {
       "model_id": "45150923a79544bb981b0aaaff489965",
       "version_major": 2,
       "version_minor": 0
      },
      "text/plain": [
       "Ranking:   0%|          | 0/11672 [00:00<?, ?it/s]"
      ]
     },
     "metadata": {},
     "output_type": "display_data"
    },
    {
     "name": "stdout",
     "output_type": "stream",
     "text": [
      "BPR(K=100, lr=0.1, reg=1.0, max_iter=1000) model is saved to ./bpr_grid_search\\BPR(K=100, lr=0.1, reg=1.0, max_iter=1000)\\2024-05-16_08-23-26-810426.pkl\n",
      "\n",
      "[BPR(K=100, lr=0.1, reg=1.0, max_iter=2000)] Training started!\n"
     ]
    },
    {
     "data": {
      "application/vnd.jupyter.widget-view+json": {
       "model_id": "446dd55c3fbc4bbbac707267fe8c32a6",
       "version_major": 2,
       "version_minor": 0
      },
      "text/plain": [
       "  0%|          | 0/2000 [00:00<?, ?it/s]"
      ]
     },
     "metadata": {},
     "output_type": "display_data"
    },
    {
     "name": "stdout",
     "output_type": "stream",
     "text": [
      "Optimization finished!\n",
      "\n",
      "[BPR(K=100, lr=0.1, reg=1.0, max_iter=2000)] Evaluation started!\n"
     ]
    },
    {
     "data": {
      "application/vnd.jupyter.widget-view+json": {
       "model_id": "e97d412a1e2f44fd9b6e2b3fdae12cb5",
       "version_major": 2,
       "version_minor": 0
      },
      "text/plain": [
       "Ranking:   0%|          | 0/11672 [00:00<?, ?it/s]"
      ]
     },
     "metadata": {},
     "output_type": "display_data"
    },
    {
     "name": "stdout",
     "output_type": "stream",
     "text": [
      "BPR(K=100, lr=0.1, reg=1.0, max_iter=2000) model is saved to ./bpr_grid_search\\BPR(K=100, lr=0.1, reg=1.0, max_iter=2000)\\2024-05-16_14-06-27-618113.pkl\n",
      "\n",
      "[BPR(K=200, lr=0.001, reg=0.001, max_iter=100)] Training started!\n"
     ]
    },
    {
     "data": {
      "application/vnd.jupyter.widget-view+json": {
       "model_id": "865844d88dee47f98f9c56b7f2743e6f",
       "version_major": 2,
       "version_minor": 0
      },
      "text/plain": [
       "  0%|          | 0/100 [00:00<?, ?it/s]"
      ]
     },
     "metadata": {},
     "output_type": "display_data"
    },
    {
     "name": "stdout",
     "output_type": "stream",
     "text": [
      "Optimization finished!\n",
      "\n",
      "[BPR(K=200, lr=0.001, reg=0.001, max_iter=100)] Evaluation started!\n"
     ]
    },
    {
     "data": {
      "application/vnd.jupyter.widget-view+json": {
       "model_id": "76e52c336f0f4e48a68f7088226392a1",
       "version_major": 2,
       "version_minor": 0
      },
      "text/plain": [
       "Ranking:   0%|          | 0/11672 [00:00<?, ?it/s]"
      ]
     },
     "metadata": {},
     "output_type": "display_data"
    },
    {
     "name": "stdout",
     "output_type": "stream",
     "text": [
      "BPR(K=200, lr=0.001, reg=0.001, max_iter=100) model is saved to ./bpr_grid_search\\BPR(K=200, lr=0.001, reg=0.001, max_iter=100)\\2024-05-16_14-06-55-647609.pkl\n",
      "\n",
      "[BPR(K=200, lr=0.001, reg=0.001, max_iter=500)] Training started!\n"
     ]
    },
    {
     "data": {
      "application/vnd.jupyter.widget-view+json": {
       "model_id": "c2aefc6c191a4e1d8d3d43beb639728f",
       "version_major": 2,
       "version_minor": 0
      },
      "text/plain": [
       "  0%|          | 0/500 [00:00<?, ?it/s]"
      ]
     },
     "metadata": {},
     "output_type": "display_data"
    },
    {
     "name": "stdout",
     "output_type": "stream",
     "text": [
      "Optimization finished!\n",
      "\n",
      "[BPR(K=200, lr=0.001, reg=0.001, max_iter=500)] Evaluation started!\n"
     ]
    },
    {
     "data": {
      "application/vnd.jupyter.widget-view+json": {
       "model_id": "76daf29d1de141cca20082d0f96a16b5",
       "version_major": 2,
       "version_minor": 0
      },
      "text/plain": [
       "Ranking:   0%|          | 0/11672 [00:00<?, ?it/s]"
      ]
     },
     "metadata": {},
     "output_type": "display_data"
    },
    {
     "name": "stdout",
     "output_type": "stream",
     "text": [
      "BPR(K=200, lr=0.001, reg=0.001, max_iter=500) model is saved to ./bpr_grid_search\\BPR(K=200, lr=0.001, reg=0.001, max_iter=500)\\2024-05-16_14-08-03-524747.pkl\n",
      "\n",
      "[BPR(K=200, lr=0.001, reg=0.001, max_iter=1000)] Training started!\n"
     ]
    },
    {
     "data": {
      "application/vnd.jupyter.widget-view+json": {
       "model_id": "e9be30872bdb48d886093ab8e572bc35",
       "version_major": 2,
       "version_minor": 0
      },
      "text/plain": [
       "  0%|          | 0/1000 [00:00<?, ?it/s]"
      ]
     },
     "metadata": {},
     "output_type": "display_data"
    },
    {
     "name": "stdout",
     "output_type": "stream",
     "text": [
      "Optimization finished!\n",
      "\n",
      "[BPR(K=200, lr=0.001, reg=0.001, max_iter=1000)] Evaluation started!\n"
     ]
    },
    {
     "data": {
      "application/vnd.jupyter.widget-view+json": {
       "model_id": "d91443055e6f466cb9505836ea131635",
       "version_major": 2,
       "version_minor": 0
      },
      "text/plain": [
       "Ranking:   0%|          | 0/11672 [00:00<?, ?it/s]"
      ]
     },
     "metadata": {},
     "output_type": "display_data"
    },
    {
     "name": "stdout",
     "output_type": "stream",
     "text": [
      "BPR(K=200, lr=0.001, reg=0.001, max_iter=1000) model is saved to ./bpr_grid_search\\BPR(K=200, lr=0.001, reg=0.001, max_iter=1000)\\2024-05-16_14-10-01-197905.pkl\n",
      "\n",
      "[BPR(K=200, lr=0.001, reg=0.001, max_iter=2000)] Training started!\n"
     ]
    },
    {
     "data": {
      "application/vnd.jupyter.widget-view+json": {
       "model_id": "f0e1e33ec7d2467fa48c4cae8247c315",
       "version_major": 2,
       "version_minor": 0
      },
      "text/plain": [
       "  0%|          | 0/2000 [00:00<?, ?it/s]"
      ]
     },
     "metadata": {},
     "output_type": "display_data"
    },
    {
     "name": "stdout",
     "output_type": "stream",
     "text": [
      "Optimization finished!\n",
      "\n",
      "[BPR(K=200, lr=0.001, reg=0.001, max_iter=2000)] Evaluation started!\n"
     ]
    },
    {
     "data": {
      "application/vnd.jupyter.widget-view+json": {
       "model_id": "662ee32bd62444b88f2a521842fcc798",
       "version_major": 2,
       "version_minor": 0
      },
      "text/plain": [
       "Ranking:   0%|          | 0/11672 [00:00<?, ?it/s]"
      ]
     },
     "metadata": {},
     "output_type": "display_data"
    },
    {
     "name": "stdout",
     "output_type": "stream",
     "text": [
      "BPR(K=200, lr=0.001, reg=0.001, max_iter=2000) model is saved to ./bpr_grid_search\\BPR(K=200, lr=0.001, reg=0.001, max_iter=2000)\\2024-05-16_14-13-41-122588.pkl\n",
      "\n",
      "[BPR(K=200, lr=0.001, reg=0.01, max_iter=100)] Training started!\n"
     ]
    },
    {
     "data": {
      "application/vnd.jupyter.widget-view+json": {
       "model_id": "0f02851aff804ddebb301bd667c1a21e",
       "version_major": 2,
       "version_minor": 0
      },
      "text/plain": [
       "  0%|          | 0/100 [00:00<?, ?it/s]"
      ]
     },
     "metadata": {},
     "output_type": "display_data"
    },
    {
     "name": "stdout",
     "output_type": "stream",
     "text": [
      "Optimization finished!\n",
      "\n",
      "[BPR(K=200, lr=0.001, reg=0.01, max_iter=100)] Evaluation started!\n"
     ]
    },
    {
     "data": {
      "application/vnd.jupyter.widget-view+json": {
       "model_id": "ee9b266a85c140adb07fc57c075a0ca4",
       "version_major": 2,
       "version_minor": 0
      },
      "text/plain": [
       "Ranking:   0%|          | 0/11672 [00:00<?, ?it/s]"
      ]
     },
     "metadata": {},
     "output_type": "display_data"
    },
    {
     "name": "stdout",
     "output_type": "stream",
     "text": [
      "BPR(K=200, lr=0.001, reg=0.01, max_iter=100) model is saved to ./bpr_grid_search\\BPR(K=200, lr=0.001, reg=0.01, max_iter=100)\\2024-05-16_14-14-09-466872.pkl\n",
      "\n",
      "[BPR(K=200, lr=0.001, reg=0.01, max_iter=500)] Training started!\n"
     ]
    },
    {
     "data": {
      "application/vnd.jupyter.widget-view+json": {
       "model_id": "03319f1f402c41c2ba4608bd690ca578",
       "version_major": 2,
       "version_minor": 0
      },
      "text/plain": [
       "  0%|          | 0/500 [00:00<?, ?it/s]"
      ]
     },
     "metadata": {},
     "output_type": "display_data"
    },
    {
     "name": "stdout",
     "output_type": "stream",
     "text": [
      "Optimization finished!\n",
      "\n",
      "[BPR(K=200, lr=0.001, reg=0.01, max_iter=500)] Evaluation started!\n"
     ]
    },
    {
     "data": {
      "application/vnd.jupyter.widget-view+json": {
       "model_id": "3d2fd190aa4844fca296981197cd0d53",
       "version_major": 2,
       "version_minor": 0
      },
      "text/plain": [
       "Ranking:   0%|          | 0/11672 [00:00<?, ?it/s]"
      ]
     },
     "metadata": {},
     "output_type": "display_data"
    },
    {
     "name": "stdout",
     "output_type": "stream",
     "text": [
      "BPR(K=200, lr=0.001, reg=0.01, max_iter=500) model is saved to ./bpr_grid_search\\BPR(K=200, lr=0.001, reg=0.01, max_iter=500)\\2024-05-16_14-15-18-878877.pkl\n",
      "\n",
      "[BPR(K=200, lr=0.001, reg=0.01, max_iter=1000)] Training started!\n"
     ]
    },
    {
     "data": {
      "application/vnd.jupyter.widget-view+json": {
       "model_id": "4c893280840c47a39b798433a30c87e8",
       "version_major": 2,
       "version_minor": 0
      },
      "text/plain": [
       "  0%|          | 0/1000 [00:00<?, ?it/s]"
      ]
     },
     "metadata": {},
     "output_type": "display_data"
    },
    {
     "name": "stdout",
     "output_type": "stream",
     "text": [
      "Optimization finished!\n",
      "\n",
      "[BPR(K=200, lr=0.001, reg=0.01, max_iter=1000)] Evaluation started!\n"
     ]
    },
    {
     "data": {
      "application/vnd.jupyter.widget-view+json": {
       "model_id": "f8f52f8386d1465098ad89a4c4dd45b9",
       "version_major": 2,
       "version_minor": 0
      },
      "text/plain": [
       "Ranking:   0%|          | 0/11672 [00:00<?, ?it/s]"
      ]
     },
     "metadata": {},
     "output_type": "display_data"
    },
    {
     "name": "stdout",
     "output_type": "stream",
     "text": [
      "BPR(K=200, lr=0.001, reg=0.01, max_iter=1000) model is saved to ./bpr_grid_search\\BPR(K=200, lr=0.001, reg=0.01, max_iter=1000)\\2024-05-16_14-17-21-935199.pkl\n",
      "\n",
      "[BPR(K=200, lr=0.001, reg=0.01, max_iter=2000)] Training started!\n"
     ]
    },
    {
     "data": {
      "application/vnd.jupyter.widget-view+json": {
       "model_id": "16933aaffd0746aa84a8a9b6667d6f2d",
       "version_major": 2,
       "version_minor": 0
      },
      "text/plain": [
       "  0%|          | 0/2000 [00:00<?, ?it/s]"
      ]
     },
     "metadata": {},
     "output_type": "display_data"
    },
    {
     "name": "stdout",
     "output_type": "stream",
     "text": [
      "Optimization finished!\n",
      "\n",
      "[BPR(K=200, lr=0.001, reg=0.01, max_iter=2000)] Evaluation started!\n"
     ]
    },
    {
     "data": {
      "application/vnd.jupyter.widget-view+json": {
       "model_id": "b46c4b0c10a14694a5538f74f5bf922f",
       "version_major": 2,
       "version_minor": 0
      },
      "text/plain": [
       "Ranking:   0%|          | 0/11672 [00:00<?, ?it/s]"
      ]
     },
     "metadata": {},
     "output_type": "display_data"
    },
    {
     "name": "stdout",
     "output_type": "stream",
     "text": [
      "BPR(K=200, lr=0.001, reg=0.01, max_iter=2000) model is saved to ./bpr_grid_search\\BPR(K=200, lr=0.001, reg=0.01, max_iter=2000)\\2024-05-16_14-21-23-290820.pkl\n",
      "\n",
      "[BPR(K=200, lr=0.001, reg=0.1, max_iter=100)] Training started!\n"
     ]
    },
    {
     "data": {
      "application/vnd.jupyter.widget-view+json": {
       "model_id": "8b3feff8494745a29c95cb7b4fe3f44f",
       "version_major": 2,
       "version_minor": 0
      },
      "text/plain": [
       "  0%|          | 0/100 [00:00<?, ?it/s]"
      ]
     },
     "metadata": {},
     "output_type": "display_data"
    },
    {
     "name": "stdout",
     "output_type": "stream",
     "text": [
      "Optimization finished!\n",
      "\n",
      "[BPR(K=200, lr=0.001, reg=0.1, max_iter=100)] Evaluation started!\n"
     ]
    },
    {
     "data": {
      "application/vnd.jupyter.widget-view+json": {
       "model_id": "f222a639331e4934951d940a37a7d813",
       "version_major": 2,
       "version_minor": 0
      },
      "text/plain": [
       "Ranking:   0%|          | 0/11672 [00:00<?, ?it/s]"
      ]
     },
     "metadata": {},
     "output_type": "display_data"
    },
    {
     "name": "stdout",
     "output_type": "stream",
     "text": [
      "BPR(K=200, lr=0.001, reg=0.1, max_iter=100) model is saved to ./bpr_grid_search\\BPR(K=200, lr=0.001, reg=0.1, max_iter=100)\\2024-05-16_14-21-53-031647.pkl\n",
      "\n",
      "[BPR(K=200, lr=0.001, reg=0.1, max_iter=500)] Training started!\n"
     ]
    },
    {
     "data": {
      "application/vnd.jupyter.widget-view+json": {
       "model_id": "3ba18b7a225f4abd8eeb9c730b4ad4d0",
       "version_major": 2,
       "version_minor": 0
      },
      "text/plain": [
       "  0%|          | 0/500 [00:00<?, ?it/s]"
      ]
     },
     "metadata": {},
     "output_type": "display_data"
    },
    {
     "name": "stdout",
     "output_type": "stream",
     "text": [
      "Optimization finished!\n",
      "\n",
      "[BPR(K=200, lr=0.001, reg=0.1, max_iter=500)] Evaluation started!\n"
     ]
    },
    {
     "data": {
      "application/vnd.jupyter.widget-view+json": {
       "model_id": "75601679a7d646ffa3ccdd412a96bc68",
       "version_major": 2,
       "version_minor": 0
      },
      "text/plain": [
       "Ranking:   0%|          | 0/11672 [00:00<?, ?it/s]"
      ]
     },
     "metadata": {},
     "output_type": "display_data"
    },
    {
     "name": "stdout",
     "output_type": "stream",
     "text": [
      "BPR(K=200, lr=0.001, reg=0.1, max_iter=500) model is saved to ./bpr_grid_search\\BPR(K=200, lr=0.001, reg=0.1, max_iter=500)\\2024-05-16_14-23-07-802434.pkl\n",
      "\n",
      "[BPR(K=200, lr=0.001, reg=0.1, max_iter=1000)] Training started!\n"
     ]
    },
    {
     "data": {
      "application/vnd.jupyter.widget-view+json": {
       "model_id": "c23601ff7124465888ff379b95ecf0a2",
       "version_major": 2,
       "version_minor": 0
      },
      "text/plain": [
       "  0%|          | 0/1000 [00:00<?, ?it/s]"
      ]
     },
     "metadata": {},
     "output_type": "display_data"
    },
    {
     "name": "stdout",
     "output_type": "stream",
     "text": [
      "Optimization finished!\n",
      "\n",
      "[BPR(K=200, lr=0.001, reg=0.1, max_iter=1000)] Evaluation started!\n"
     ]
    },
    {
     "data": {
      "application/vnd.jupyter.widget-view+json": {
       "model_id": "5d349df467a7436d9456a4cb5371fd93",
       "version_major": 2,
       "version_minor": 0
      },
      "text/plain": [
       "Ranking:   0%|          | 0/11672 [00:00<?, ?it/s]"
      ]
     },
     "metadata": {},
     "output_type": "display_data"
    },
    {
     "name": "stdout",
     "output_type": "stream",
     "text": [
      "BPR(K=200, lr=0.001, reg=0.1, max_iter=1000) model is saved to ./bpr_grid_search\\BPR(K=200, lr=0.001, reg=0.1, max_iter=1000)\\2024-05-16_14-25-24-078402.pkl\n",
      "\n",
      "[BPR(K=200, lr=0.001, reg=0.1, max_iter=2000)] Training started!\n"
     ]
    },
    {
     "data": {
      "application/vnd.jupyter.widget-view+json": {
       "model_id": "b01d7daae0c74aab9fb4a15ba193ec41",
       "version_major": 2,
       "version_minor": 0
      },
      "text/plain": [
       "  0%|          | 0/2000 [00:00<?, ?it/s]"
      ]
     },
     "metadata": {},
     "output_type": "display_data"
    },
    {
     "name": "stdout",
     "output_type": "stream",
     "text": [
      "Optimization finished!\n",
      "\n",
      "[BPR(K=200, lr=0.001, reg=0.1, max_iter=2000)] Evaluation started!\n"
     ]
    },
    {
     "data": {
      "application/vnd.jupyter.widget-view+json": {
       "model_id": "48858ca7306b4ad5b98242ae6c283c82",
       "version_major": 2,
       "version_minor": 0
      },
      "text/plain": [
       "Ranking:   0%|          | 0/11672 [00:00<?, ?it/s]"
      ]
     },
     "metadata": {},
     "output_type": "display_data"
    },
    {
     "name": "stdout",
     "output_type": "stream",
     "text": [
      "BPR(K=200, lr=0.001, reg=0.1, max_iter=2000) model is saved to ./bpr_grid_search\\BPR(K=200, lr=0.001, reg=0.1, max_iter=2000)\\2024-05-16_14-29-28-328523.pkl\n",
      "\n",
      "[BPR(K=200, lr=0.001, reg=1.0, max_iter=100)] Training started!\n"
     ]
    },
    {
     "data": {
      "application/vnd.jupyter.widget-view+json": {
       "model_id": "41ee5e49a3264543b49e5a13bf74a6f6",
       "version_major": 2,
       "version_minor": 0
      },
      "text/plain": [
       "  0%|          | 0/100 [00:00<?, ?it/s]"
      ]
     },
     "metadata": {},
     "output_type": "display_data"
    },
    {
     "name": "stdout",
     "output_type": "stream",
     "text": [
      "Optimization finished!\n",
      "\n",
      "[BPR(K=200, lr=0.001, reg=1.0, max_iter=100)] Evaluation started!\n"
     ]
    },
    {
     "data": {
      "application/vnd.jupyter.widget-view+json": {
       "model_id": "402c06f55cfa4638a196c95fcccdb98c",
       "version_major": 2,
       "version_minor": 0
      },
      "text/plain": [
       "Ranking:   0%|          | 0/11672 [00:00<?, ?it/s]"
      ]
     },
     "metadata": {},
     "output_type": "display_data"
    },
    {
     "name": "stdout",
     "output_type": "stream",
     "text": [
      "BPR(K=200, lr=0.001, reg=1.0, max_iter=100) model is saved to ./bpr_grid_search\\BPR(K=200, lr=0.001, reg=1.0, max_iter=100)\\2024-05-16_14-29-58-691989.pkl\n",
      "\n",
      "[BPR(K=200, lr=0.001, reg=1.0, max_iter=500)] Training started!\n"
     ]
    },
    {
     "data": {
      "application/vnd.jupyter.widget-view+json": {
       "model_id": "36a33262fea44ad1a7604dc336567df7",
       "version_major": 2,
       "version_minor": 0
      },
      "text/plain": [
       "  0%|          | 0/500 [00:00<?, ?it/s]"
      ]
     },
     "metadata": {},
     "output_type": "display_data"
    },
    {
     "name": "stdout",
     "output_type": "stream",
     "text": [
      "Optimization finished!\n",
      "\n",
      "[BPR(K=200, lr=0.001, reg=1.0, max_iter=500)] Evaluation started!\n"
     ]
    },
    {
     "data": {
      "application/vnd.jupyter.widget-view+json": {
       "model_id": "2142976c0cf3473eaf3559520914a6cc",
       "version_major": 2,
       "version_minor": 0
      },
      "text/plain": [
       "Ranking:   0%|          | 0/11672 [00:00<?, ?it/s]"
      ]
     },
     "metadata": {},
     "output_type": "display_data"
    },
    {
     "name": "stdout",
     "output_type": "stream",
     "text": [
      "BPR(K=200, lr=0.001, reg=1.0, max_iter=500) model is saved to ./bpr_grid_search\\BPR(K=200, lr=0.001, reg=1.0, max_iter=500)\\2024-05-16_14-31-16-892736.pkl\n",
      "\n",
      "[BPR(K=200, lr=0.001, reg=1.0, max_iter=1000)] Training started!\n"
     ]
    },
    {
     "data": {
      "application/vnd.jupyter.widget-view+json": {
       "model_id": "5c16ea26338546488b8aa666b3545fa5",
       "version_major": 2,
       "version_minor": 0
      },
      "text/plain": [
       "  0%|          | 0/1000 [00:00<?, ?it/s]"
      ]
     },
     "metadata": {},
     "output_type": "display_data"
    },
    {
     "name": "stdout",
     "output_type": "stream",
     "text": [
      "Optimization finished!\n",
      "\n",
      "[BPR(K=200, lr=0.001, reg=1.0, max_iter=1000)] Evaluation started!\n"
     ]
    },
    {
     "data": {
      "application/vnd.jupyter.widget-view+json": {
       "model_id": "b1eb8811cdbf4b8f99a46768ac582b81",
       "version_major": 2,
       "version_minor": 0
      },
      "text/plain": [
       "Ranking:   0%|          | 0/11672 [00:00<?, ?it/s]"
      ]
     },
     "metadata": {},
     "output_type": "display_data"
    },
    {
     "name": "stdout",
     "output_type": "stream",
     "text": [
      "BPR(K=200, lr=0.001, reg=1.0, max_iter=1000) model is saved to ./bpr_grid_search\\BPR(K=200, lr=0.001, reg=1.0, max_iter=1000)\\2024-05-16_14-33-28-111197.pkl\n",
      "\n",
      "[BPR(K=200, lr=0.001, reg=1.0, max_iter=2000)] Training started!\n"
     ]
    },
    {
     "data": {
      "application/vnd.jupyter.widget-view+json": {
       "model_id": "2817e96db3654ba28a0b80dd3d572434",
       "version_major": 2,
       "version_minor": 0
      },
      "text/plain": [
       "  0%|          | 0/2000 [00:00<?, ?it/s]"
      ]
     },
     "metadata": {},
     "output_type": "display_data"
    },
    {
     "name": "stdout",
     "output_type": "stream",
     "text": [
      "Optimization finished!\n",
      "\n",
      "[BPR(K=200, lr=0.001, reg=1.0, max_iter=2000)] Evaluation started!\n"
     ]
    },
    {
     "data": {
      "application/vnd.jupyter.widget-view+json": {
       "model_id": "2aae940cd62448bb97a77d648ce0ba4e",
       "version_major": 2,
       "version_minor": 0
      },
      "text/plain": [
       "Ranking:   0%|          | 0/11672 [00:00<?, ?it/s]"
      ]
     },
     "metadata": {},
     "output_type": "display_data"
    },
    {
     "name": "stdout",
     "output_type": "stream",
     "text": [
      "BPR(K=200, lr=0.001, reg=1.0, max_iter=2000) model is saved to ./bpr_grid_search\\BPR(K=200, lr=0.001, reg=1.0, max_iter=2000)\\2024-05-16_14-39-04-791536.pkl\n",
      "\n",
      "[BPR(K=200, lr=0.01, reg=0.001, max_iter=100)] Training started!\n"
     ]
    },
    {
     "data": {
      "application/vnd.jupyter.widget-view+json": {
       "model_id": "d79ae57503ba4f2787f20cf36b66999b",
       "version_major": 2,
       "version_minor": 0
      },
      "text/plain": [
       "  0%|          | 0/100 [00:00<?, ?it/s]"
      ]
     },
     "metadata": {},
     "output_type": "display_data"
    },
    {
     "name": "stdout",
     "output_type": "stream",
     "text": [
      "Optimization finished!\n",
      "\n",
      "[BPR(K=200, lr=0.01, reg=0.001, max_iter=100)] Evaluation started!\n"
     ]
    },
    {
     "data": {
      "application/vnd.jupyter.widget-view+json": {
       "model_id": "a0cd66ed60e846c289af7f1d8a0fb951",
       "version_major": 2,
       "version_minor": 0
      },
      "text/plain": [
       "Ranking:   0%|          | 0/11672 [00:00<?, ?it/s]"
      ]
     },
     "metadata": {},
     "output_type": "display_data"
    },
    {
     "name": "stdout",
     "output_type": "stream",
     "text": [
      "BPR(K=200, lr=0.01, reg=0.001, max_iter=100) model is saved to ./bpr_grid_search\\BPR(K=200, lr=0.01, reg=0.001, max_iter=100)\\2024-05-16_14-40-45-557515.pkl\n",
      "\n",
      "[BPR(K=200, lr=0.01, reg=0.001, max_iter=500)] Training started!\n"
     ]
    },
    {
     "data": {
      "application/vnd.jupyter.widget-view+json": {
       "model_id": "0c5c6e29c0c542bc9dca842abfa61041",
       "version_major": 2,
       "version_minor": 0
      },
      "text/plain": [
       "  0%|          | 0/500 [00:00<?, ?it/s]"
      ]
     },
     "metadata": {},
     "output_type": "display_data"
    },
    {
     "name": "stdout",
     "output_type": "stream",
     "text": [
      "Optimization finished!\n",
      "\n",
      "[BPR(K=200, lr=0.01, reg=0.001, max_iter=500)] Evaluation started!\n"
     ]
    },
    {
     "data": {
      "application/vnd.jupyter.widget-view+json": {
       "model_id": "18c55eb238c04ffe858afeb801be433a",
       "version_major": 2,
       "version_minor": 0
      },
      "text/plain": [
       "Ranking:   0%|          | 0/11672 [00:00<?, ?it/s]"
      ]
     },
     "metadata": {},
     "output_type": "display_data"
    },
    {
     "name": "stdout",
     "output_type": "stream",
     "text": [
      "BPR(K=200, lr=0.01, reg=0.001, max_iter=500) model is saved to ./bpr_grid_search\\BPR(K=200, lr=0.01, reg=0.001, max_iter=500)\\2024-05-16_14-45-05-515018.pkl\n",
      "\n",
      "[BPR(K=200, lr=0.01, reg=0.001, max_iter=1000)] Training started!\n"
     ]
    },
    {
     "data": {
      "application/vnd.jupyter.widget-view+json": {
       "model_id": "bed0a29b9eb44a5ca75603f3a39c2f72",
       "version_major": 2,
       "version_minor": 0
      },
      "text/plain": [
       "  0%|          | 0/1000 [00:00<?, ?it/s]"
      ]
     },
     "metadata": {},
     "output_type": "display_data"
    },
    {
     "name": "stdout",
     "output_type": "stream",
     "text": [
      "Optimization finished!\n",
      "\n",
      "[BPR(K=200, lr=0.01, reg=0.001, max_iter=1000)] Evaluation started!\n"
     ]
    },
    {
     "data": {
      "application/vnd.jupyter.widget-view+json": {
       "model_id": "cd14558749564d4b8233c473f46324f2",
       "version_major": 2,
       "version_minor": 0
      },
      "text/plain": [
       "Ranking:   0%|          | 0/11672 [00:00<?, ?it/s]"
      ]
     },
     "metadata": {},
     "output_type": "display_data"
    },
    {
     "name": "stdout",
     "output_type": "stream",
     "text": [
      "BPR(K=200, lr=0.01, reg=0.001, max_iter=1000) model is saved to ./bpr_grid_search\\BPR(K=200, lr=0.01, reg=0.001, max_iter=1000)\\2024-05-16_14-52-46-281774.pkl\n",
      "\n",
      "[BPR(K=200, lr=0.01, reg=0.001, max_iter=2000)] Training started!\n"
     ]
    },
    {
     "data": {
      "application/vnd.jupyter.widget-view+json": {
       "model_id": "5824dac5252c4cb1a03a7a92a2250c1c",
       "version_major": 2,
       "version_minor": 0
      },
      "text/plain": [
       "  0%|          | 0/2000 [00:00<?, ?it/s]"
      ]
     },
     "metadata": {},
     "output_type": "display_data"
    },
    {
     "name": "stdout",
     "output_type": "stream",
     "text": [
      "Optimization finished!\n",
      "\n",
      "[BPR(K=200, lr=0.01, reg=0.001, max_iter=2000)] Evaluation started!\n"
     ]
    },
    {
     "data": {
      "application/vnd.jupyter.widget-view+json": {
       "model_id": "8b79a2c34c0b4fa5883597518d3dc1b1",
       "version_major": 2,
       "version_minor": 0
      },
      "text/plain": [
       "Ranking:   0%|          | 0/11672 [00:00<?, ?it/s]"
      ]
     },
     "metadata": {},
     "output_type": "display_data"
    },
    {
     "name": "stdout",
     "output_type": "stream",
     "text": [
      "BPR(K=200, lr=0.01, reg=0.001, max_iter=2000) model is saved to ./bpr_grid_search\\BPR(K=200, lr=0.01, reg=0.001, max_iter=2000)\\2024-05-16_15-09-29-625653.pkl\n",
      "\n",
      "[BPR(K=200, lr=0.01, reg=0.01, max_iter=100)] Training started!\n"
     ]
    },
    {
     "data": {
      "application/vnd.jupyter.widget-view+json": {
       "model_id": "d509c8b1e7cb460db1dfbb454f82aa69",
       "version_major": 2,
       "version_minor": 0
      },
      "text/plain": [
       "  0%|          | 0/100 [00:00<?, ?it/s]"
      ]
     },
     "metadata": {},
     "output_type": "display_data"
    },
    {
     "name": "stdout",
     "output_type": "stream",
     "text": [
      "Optimization finished!\n",
      "\n",
      "[BPR(K=200, lr=0.01, reg=0.01, max_iter=100)] Evaluation started!\n"
     ]
    },
    {
     "data": {
      "application/vnd.jupyter.widget-view+json": {
       "model_id": "52ecf076514246a9ad61bfe2c39e5f56",
       "version_major": 2,
       "version_minor": 0
      },
      "text/plain": [
       "Ranking:   0%|          | 0/11672 [00:00<?, ?it/s]"
      ]
     },
     "metadata": {},
     "output_type": "display_data"
    },
    {
     "name": "stdout",
     "output_type": "stream",
     "text": [
      "BPR(K=200, lr=0.01, reg=0.01, max_iter=100) model is saved to ./bpr_grid_search\\BPR(K=200, lr=0.01, reg=0.01, max_iter=100)\\2024-05-16_15-11-11-776190.pkl\n",
      "\n",
      "[BPR(K=200, lr=0.01, reg=0.01, max_iter=500)] Training started!\n"
     ]
    },
    {
     "data": {
      "application/vnd.jupyter.widget-view+json": {
       "model_id": "bd3c2ea563cb4a538ea6abdd68786bb2",
       "version_major": 2,
       "version_minor": 0
      },
      "text/plain": [
       "  0%|          | 0/500 [00:00<?, ?it/s]"
      ]
     },
     "metadata": {},
     "output_type": "display_data"
    },
    {
     "name": "stdout",
     "output_type": "stream",
     "text": [
      "Optimization finished!\n",
      "\n",
      "[BPR(K=200, lr=0.01, reg=0.01, max_iter=500)] Evaluation started!\n"
     ]
    },
    {
     "data": {
      "application/vnd.jupyter.widget-view+json": {
       "model_id": "baa1ea8ce06b4737aba876a45185c4b3",
       "version_major": 2,
       "version_minor": 0
      },
      "text/plain": [
       "Ranking:   0%|          | 0/11672 [00:00<?, ?it/s]"
      ]
     },
     "metadata": {},
     "output_type": "display_data"
    },
    {
     "name": "stdout",
     "output_type": "stream",
     "text": [
      "BPR(K=200, lr=0.01, reg=0.01, max_iter=500) model is saved to ./bpr_grid_search\\BPR(K=200, lr=0.01, reg=0.01, max_iter=500)\\2024-05-16_15-16-10-780555.pkl\n",
      "\n",
      "[BPR(K=200, lr=0.01, reg=0.01, max_iter=1000)] Training started!\n"
     ]
    },
    {
     "data": {
      "application/vnd.jupyter.widget-view+json": {
       "model_id": "fb45a548a1054f72bc8b9871e994ee67",
       "version_major": 2,
       "version_minor": 0
      },
      "text/plain": [
       "  0%|          | 0/1000 [00:00<?, ?it/s]"
      ]
     },
     "metadata": {},
     "output_type": "display_data"
    },
    {
     "name": "stdout",
     "output_type": "stream",
     "text": [
      "Optimization finished!\n",
      "\n",
      "[BPR(K=200, lr=0.01, reg=0.01, max_iter=1000)] Evaluation started!\n"
     ]
    },
    {
     "data": {
      "application/vnd.jupyter.widget-view+json": {
       "model_id": "7037dee0671745119a9215b9da0b2e31",
       "version_major": 2,
       "version_minor": 0
      },
      "text/plain": [
       "Ranking:   0%|          | 0/11672 [00:00<?, ?it/s]"
      ]
     },
     "metadata": {},
     "output_type": "display_data"
    },
    {
     "name": "stdout",
     "output_type": "stream",
     "text": [
      "BPR(K=200, lr=0.01, reg=0.01, max_iter=1000) model is saved to ./bpr_grid_search\\BPR(K=200, lr=0.01, reg=0.01, max_iter=1000)\\2024-05-16_15-19-56-421823.pkl\n",
      "\n",
      "[BPR(K=200, lr=0.01, reg=0.01, max_iter=2000)] Training started!\n"
     ]
    },
    {
     "data": {
      "application/vnd.jupyter.widget-view+json": {
       "model_id": "bd60cae7f5554afc9ba2a7f2c192e72f",
       "version_major": 2,
       "version_minor": 0
      },
      "text/plain": [
       "  0%|          | 0/2000 [00:00<?, ?it/s]"
      ]
     },
     "metadata": {},
     "output_type": "display_data"
    },
    {
     "name": "stdout",
     "output_type": "stream",
     "text": [
      "Optimization finished!\n",
      "\n",
      "[BPR(K=200, lr=0.01, reg=0.01, max_iter=2000)] Evaluation started!\n"
     ]
    },
    {
     "data": {
      "application/vnd.jupyter.widget-view+json": {
       "model_id": "a1838c0adbd7465a903cac546d4121f4",
       "version_major": 2,
       "version_minor": 0
      },
      "text/plain": [
       "Ranking:   0%|          | 0/11672 [00:00<?, ?it/s]"
      ]
     },
     "metadata": {},
     "output_type": "display_data"
    },
    {
     "name": "stdout",
     "output_type": "stream",
     "text": [
      "BPR(K=200, lr=0.01, reg=0.01, max_iter=2000) model is saved to ./bpr_grid_search\\BPR(K=200, lr=0.01, reg=0.01, max_iter=2000)\\2024-05-16_15-24-05-506469.pkl\n",
      "\n",
      "[BPR(K=200, lr=0.01, reg=0.1, max_iter=100)] Training started!\n"
     ]
    },
    {
     "data": {
      "application/vnd.jupyter.widget-view+json": {
       "model_id": "3166cc589f254e10a23d20e020cea754",
       "version_major": 2,
       "version_minor": 0
      },
      "text/plain": [
       "  0%|          | 0/100 [00:00<?, ?it/s]"
      ]
     },
     "metadata": {},
     "output_type": "display_data"
    },
    {
     "name": "stdout",
     "output_type": "stream",
     "text": [
      "Optimization finished!\n",
      "\n",
      "[BPR(K=200, lr=0.01, reg=0.1, max_iter=100)] Evaluation started!\n"
     ]
    },
    {
     "data": {
      "application/vnd.jupyter.widget-view+json": {
       "model_id": "1f18da29be664e91b634db5f167ab810",
       "version_major": 2,
       "version_minor": 0
      },
      "text/plain": [
       "Ranking:   0%|          | 0/11672 [00:00<?, ?it/s]"
      ]
     },
     "metadata": {},
     "output_type": "display_data"
    },
    {
     "name": "stdout",
     "output_type": "stream",
     "text": [
      "BPR(K=200, lr=0.01, reg=0.1, max_iter=100) model is saved to ./bpr_grid_search\\BPR(K=200, lr=0.01, reg=0.1, max_iter=100)\\2024-05-16_15-24-36-659414.pkl\n",
      "\n",
      "[BPR(K=200, lr=0.01, reg=0.1, max_iter=500)] Training started!\n"
     ]
    },
    {
     "data": {
      "application/vnd.jupyter.widget-view+json": {
       "model_id": "433376cf0f0c44dd88576196d54d6b2d",
       "version_major": 2,
       "version_minor": 0
      },
      "text/plain": [
       "  0%|          | 0/500 [00:00<?, ?it/s]"
      ]
     },
     "metadata": {},
     "output_type": "display_data"
    },
    {
     "name": "stdout",
     "output_type": "stream",
     "text": [
      "Optimization finished!\n",
      "\n",
      "[BPR(K=200, lr=0.01, reg=0.1, max_iter=500)] Evaluation started!\n"
     ]
    },
    {
     "data": {
      "application/vnd.jupyter.widget-view+json": {
       "model_id": "bdbc1cdc01ef4c14902d6711036a0477",
       "version_major": 2,
       "version_minor": 0
      },
      "text/plain": [
       "Ranking:   0%|          | 0/11672 [00:00<?, ?it/s]"
      ]
     },
     "metadata": {},
     "output_type": "display_data"
    },
    {
     "name": "stdout",
     "output_type": "stream",
     "text": [
      "BPR(K=200, lr=0.01, reg=0.1, max_iter=500) model is saved to ./bpr_grid_search\\BPR(K=200, lr=0.01, reg=0.1, max_iter=500)\\2024-05-16_15-25-53-741200.pkl\n",
      "\n",
      "[BPR(K=200, lr=0.01, reg=0.1, max_iter=1000)] Training started!\n"
     ]
    },
    {
     "data": {
      "application/vnd.jupyter.widget-view+json": {
       "model_id": "0b2e2f57e62a43a2b923f2b64da5e999",
       "version_major": 2,
       "version_minor": 0
      },
      "text/plain": [
       "  0%|          | 0/1000 [00:00<?, ?it/s]"
      ]
     },
     "metadata": {},
     "output_type": "display_data"
    },
    {
     "name": "stdout",
     "output_type": "stream",
     "text": [
      "Optimization finished!\n",
      "\n",
      "[BPR(K=200, lr=0.01, reg=0.1, max_iter=1000)] Evaluation started!\n"
     ]
    },
    {
     "data": {
      "application/vnd.jupyter.widget-view+json": {
       "model_id": "3f55bd4111f3480099c19f93092ce2d9",
       "version_major": 2,
       "version_minor": 0
      },
      "text/plain": [
       "Ranking:   0%|          | 0/11672 [00:00<?, ?it/s]"
      ]
     },
     "metadata": {},
     "output_type": "display_data"
    },
    {
     "name": "stdout",
     "output_type": "stream",
     "text": [
      "BPR(K=200, lr=0.01, reg=0.1, max_iter=1000) model is saved to ./bpr_grid_search\\BPR(K=200, lr=0.01, reg=0.1, max_iter=1000)\\2024-05-16_15-28-08-127665.pkl\n",
      "\n",
      "[BPR(K=200, lr=0.01, reg=0.1, max_iter=2000)] Training started!\n"
     ]
    },
    {
     "data": {
      "application/vnd.jupyter.widget-view+json": {
       "model_id": "49dbcf9bd86b44d588e822fb203864a4",
       "version_major": 2,
       "version_minor": 0
      },
      "text/plain": [
       "  0%|          | 0/2000 [00:00<?, ?it/s]"
      ]
     },
     "metadata": {},
     "output_type": "display_data"
    },
    {
     "name": "stdout",
     "output_type": "stream",
     "text": [
      "Optimization finished!\n",
      "\n",
      "[BPR(K=200, lr=0.01, reg=0.1, max_iter=2000)] Evaluation started!\n"
     ]
    },
    {
     "data": {
      "application/vnd.jupyter.widget-view+json": {
       "model_id": "2e0f5233a90a4bd487eb670372f44bf0",
       "version_major": 2,
       "version_minor": 0
      },
      "text/plain": [
       "Ranking:   0%|          | 0/11672 [00:00<?, ?it/s]"
      ]
     },
     "metadata": {},
     "output_type": "display_data"
    },
    {
     "name": "stdout",
     "output_type": "stream",
     "text": [
      "BPR(K=200, lr=0.01, reg=0.1, max_iter=2000) model is saved to ./bpr_grid_search\\BPR(K=200, lr=0.01, reg=0.1, max_iter=2000)\\2024-05-16_15-31-52-549646.pkl\n",
      "\n",
      "[BPR(K=200, lr=0.01, reg=1.0, max_iter=100)] Training started!\n"
     ]
    },
    {
     "data": {
      "application/vnd.jupyter.widget-view+json": {
       "model_id": "e23af82acec948218d59ac338d0fbcbf",
       "version_major": 2,
       "version_minor": 0
      },
      "text/plain": [
       "  0%|          | 0/100 [00:00<?, ?it/s]"
      ]
     },
     "metadata": {},
     "output_type": "display_data"
    },
    {
     "name": "stdout",
     "output_type": "stream",
     "text": [
      "Optimization finished!\n",
      "\n",
      "[BPR(K=200, lr=0.01, reg=1.0, max_iter=100)] Evaluation started!\n"
     ]
    },
    {
     "data": {
      "application/vnd.jupyter.widget-view+json": {
       "model_id": "6164b38221734f26aec367c5710178b5",
       "version_major": 2,
       "version_minor": 0
      },
      "text/plain": [
       "Ranking:   0%|          | 0/11672 [00:00<?, ?it/s]"
      ]
     },
     "metadata": {},
     "output_type": "display_data"
    },
    {
     "name": "stdout",
     "output_type": "stream",
     "text": [
      "BPR(K=200, lr=0.01, reg=1.0, max_iter=100) model is saved to ./bpr_grid_search\\BPR(K=200, lr=0.01, reg=1.0, max_iter=100)\\2024-05-16_15-32-20-362605.pkl\n",
      "\n",
      "[BPR(K=200, lr=0.01, reg=1.0, max_iter=500)] Training started!\n"
     ]
    },
    {
     "data": {
      "application/vnd.jupyter.widget-view+json": {
       "model_id": "1a9d4fc7fe634149b44f70ff4985501a",
       "version_major": 2,
       "version_minor": 0
      },
      "text/plain": [
       "  0%|          | 0/500 [00:00<?, ?it/s]"
      ]
     },
     "metadata": {},
     "output_type": "display_data"
    },
    {
     "name": "stdout",
     "output_type": "stream",
     "text": [
      "Optimization finished!\n",
      "\n",
      "[BPR(K=200, lr=0.01, reg=1.0, max_iter=500)] Evaluation started!\n"
     ]
    },
    {
     "data": {
      "application/vnd.jupyter.widget-view+json": {
       "model_id": "f8abb17cec9d405eb68ed5b32e3d5f3d",
       "version_major": 2,
       "version_minor": 0
      },
      "text/plain": [
       "Ranking:   0%|          | 0/11672 [00:00<?, ?it/s]"
      ]
     },
     "metadata": {},
     "output_type": "display_data"
    },
    {
     "name": "stdout",
     "output_type": "stream",
     "text": [
      "BPR(K=200, lr=0.01, reg=1.0, max_iter=500) model is saved to ./bpr_grid_search\\BPR(K=200, lr=0.01, reg=1.0, max_iter=500)\\2024-05-16_15-33-26-190865.pkl\n",
      "\n",
      "[BPR(K=200, lr=0.01, reg=1.0, max_iter=1000)] Training started!\n"
     ]
    },
    {
     "data": {
      "application/vnd.jupyter.widget-view+json": {
       "model_id": "11560bcfc8f546c3afd146c9caf84f77",
       "version_major": 2,
       "version_minor": 0
      },
      "text/plain": [
       "  0%|          | 0/1000 [00:00<?, ?it/s]"
      ]
     },
     "metadata": {},
     "output_type": "display_data"
    },
    {
     "name": "stdout",
     "output_type": "stream",
     "text": [
      "Optimization finished!\n",
      "\n",
      "[BPR(K=200, lr=0.01, reg=1.0, max_iter=1000)] Evaluation started!\n"
     ]
    },
    {
     "data": {
      "application/vnd.jupyter.widget-view+json": {
       "model_id": "e4275953a15441119c9fc4a6ef38c307",
       "version_major": 2,
       "version_minor": 0
      },
      "text/plain": [
       "Ranking:   0%|          | 0/11672 [00:00<?, ?it/s]"
      ]
     },
     "metadata": {},
     "output_type": "display_data"
    },
    {
     "name": "stdout",
     "output_type": "stream",
     "text": [
      "BPR(K=200, lr=0.01, reg=1.0, max_iter=1000) model is saved to ./bpr_grid_search\\BPR(K=200, lr=0.01, reg=1.0, max_iter=1000)\\2024-05-16_15-35-22-256452.pkl\n",
      "\n",
      "[BPR(K=200, lr=0.01, reg=1.0, max_iter=2000)] Training started!\n"
     ]
    },
    {
     "data": {
      "application/vnd.jupyter.widget-view+json": {
       "model_id": "0d90e4e1c51b4db088bcc60a71d797e0",
       "version_major": 2,
       "version_minor": 0
      },
      "text/plain": [
       "  0%|          | 0/2000 [00:00<?, ?it/s]"
      ]
     },
     "metadata": {},
     "output_type": "display_data"
    },
    {
     "name": "stdout",
     "output_type": "stream",
     "text": [
      "Optimization finished!\n",
      "\n",
      "[BPR(K=200, lr=0.01, reg=1.0, max_iter=2000)] Evaluation started!\n"
     ]
    },
    {
     "data": {
      "application/vnd.jupyter.widget-view+json": {
       "model_id": "1de6d92580ad462e9dd5b065dcf46496",
       "version_major": 2,
       "version_minor": 0
      },
      "text/plain": [
       "Ranking:   0%|          | 0/11672 [00:00<?, ?it/s]"
      ]
     },
     "metadata": {},
     "output_type": "display_data"
    },
    {
     "name": "stdout",
     "output_type": "stream",
     "text": [
      "BPR(K=200, lr=0.01, reg=1.0, max_iter=2000) model is saved to ./bpr_grid_search\\BPR(K=200, lr=0.01, reg=1.0, max_iter=2000)\\2024-05-16_15-49-09-324435.pkl\n",
      "\n",
      "[BPR(K=200, lr=0.1, reg=0.001, max_iter=100)] Training started!\n"
     ]
    },
    {
     "data": {
      "application/vnd.jupyter.widget-view+json": {
       "model_id": "9768418e4fe5483ba324a12b8c4099ea",
       "version_major": 2,
       "version_minor": 0
      },
      "text/plain": [
       "  0%|          | 0/100 [00:00<?, ?it/s]"
      ]
     },
     "metadata": {},
     "output_type": "display_data"
    },
    {
     "name": "stdout",
     "output_type": "stream",
     "text": [
      "Optimization finished!\n",
      "\n",
      "[BPR(K=200, lr=0.1, reg=0.001, max_iter=100)] Evaluation started!\n"
     ]
    },
    {
     "data": {
      "application/vnd.jupyter.widget-view+json": {
       "model_id": "2aca58fa7f304d3da38b4747f4b61c6d",
       "version_major": 2,
       "version_minor": 0
      },
      "text/plain": [
       "Ranking:   0%|          | 0/11672 [00:00<?, ?it/s]"
      ]
     },
     "metadata": {},
     "output_type": "display_data"
    },
    {
     "name": "stdout",
     "output_type": "stream",
     "text": [
      "BPR(K=200, lr=0.1, reg=0.001, max_iter=100) model is saved to ./bpr_grid_search\\BPR(K=200, lr=0.1, reg=0.001, max_iter=100)\\2024-05-16_15-49-35-539435.pkl\n",
      "\n",
      "[BPR(K=200, lr=0.1, reg=0.001, max_iter=500)] Training started!\n"
     ]
    },
    {
     "data": {
      "application/vnd.jupyter.widget-view+json": {
       "model_id": "77eb317d6f8f411586603b7235a1ab6c",
       "version_major": 2,
       "version_minor": 0
      },
      "text/plain": [
       "  0%|          | 0/500 [00:00<?, ?it/s]"
      ]
     },
     "metadata": {},
     "output_type": "display_data"
    },
    {
     "name": "stdout",
     "output_type": "stream",
     "text": [
      "Optimization finished!\n",
      "\n",
      "[BPR(K=200, lr=0.1, reg=0.001, max_iter=500)] Evaluation started!\n"
     ]
    },
    {
     "data": {
      "application/vnd.jupyter.widget-view+json": {
       "model_id": "4b7dcf0d5dbf4861a9ae99011f56c67e",
       "version_major": 2,
       "version_minor": 0
      },
      "text/plain": [
       "Ranking:   0%|          | 0/11672 [00:00<?, ?it/s]"
      ]
     },
     "metadata": {},
     "output_type": "display_data"
    },
    {
     "name": "stdout",
     "output_type": "stream",
     "text": [
      "BPR(K=200, lr=0.1, reg=0.001, max_iter=500) model is saved to ./bpr_grid_search\\BPR(K=200, lr=0.1, reg=0.001, max_iter=500)\\2024-05-16_15-50-37-501765.pkl\n",
      "\n",
      "[BPR(K=200, lr=0.1, reg=0.001, max_iter=1000)] Training started!\n"
     ]
    },
    {
     "data": {
      "application/vnd.jupyter.widget-view+json": {
       "model_id": "ebbf6356308943ad8eb9b66c84ecb163",
       "version_major": 2,
       "version_minor": 0
      },
      "text/plain": [
       "  0%|          | 0/1000 [00:00<?, ?it/s]"
      ]
     },
     "metadata": {},
     "output_type": "display_data"
    },
    {
     "name": "stdout",
     "output_type": "stream",
     "text": [
      "Optimization finished!\n",
      "\n",
      "[BPR(K=200, lr=0.1, reg=0.001, max_iter=1000)] Evaluation started!\n"
     ]
    },
    {
     "data": {
      "application/vnd.jupyter.widget-view+json": {
       "model_id": "36d0606a04f4456ab2f717f11269ad7c",
       "version_major": 2,
       "version_minor": 0
      },
      "text/plain": [
       "Ranking:   0%|          | 0/11672 [00:00<?, ?it/s]"
      ]
     },
     "metadata": {},
     "output_type": "display_data"
    },
    {
     "name": "stdout",
     "output_type": "stream",
     "text": [
      "BPR(K=200, lr=0.1, reg=0.001, max_iter=1000) model is saved to ./bpr_grid_search\\BPR(K=200, lr=0.1, reg=0.001, max_iter=1000)\\2024-05-16_15-52-24-443254.pkl\n",
      "\n",
      "[BPR(K=200, lr=0.1, reg=0.001, max_iter=2000)] Training started!\n"
     ]
    },
    {
     "data": {
      "application/vnd.jupyter.widget-view+json": {
       "model_id": "0cad5a8e2f2846d095edaa4a868bbb59",
       "version_major": 2,
       "version_minor": 0
      },
      "text/plain": [
       "  0%|          | 0/2000 [00:00<?, ?it/s]"
      ]
     },
     "metadata": {},
     "output_type": "display_data"
    },
    {
     "name": "stdout",
     "output_type": "stream",
     "text": [
      "Optimization finished!\n",
      "\n",
      "[BPR(K=200, lr=0.1, reg=0.001, max_iter=2000)] Evaluation started!\n"
     ]
    },
    {
     "data": {
      "application/vnd.jupyter.widget-view+json": {
       "model_id": "8389bbbcbfbe424abbd6fd5cfd3212b4",
       "version_major": 2,
       "version_minor": 0
      },
      "text/plain": [
       "Ranking:   0%|          | 0/11672 [00:00<?, ?it/s]"
      ]
     },
     "metadata": {},
     "output_type": "display_data"
    },
    {
     "name": "stdout",
     "output_type": "stream",
     "text": [
      "BPR(K=200, lr=0.1, reg=0.001, max_iter=2000) model is saved to ./bpr_grid_search\\BPR(K=200, lr=0.1, reg=0.001, max_iter=2000)\\2024-05-16_15-55-39-918958.pkl\n",
      "\n",
      "[BPR(K=200, lr=0.1, reg=0.01, max_iter=100)] Training started!\n"
     ]
    },
    {
     "data": {
      "application/vnd.jupyter.widget-view+json": {
       "model_id": "825f312603f8499a9afa6976dd6201c2",
       "version_major": 2,
       "version_minor": 0
      },
      "text/plain": [
       "  0%|          | 0/100 [00:00<?, ?it/s]"
      ]
     },
     "metadata": {},
     "output_type": "display_data"
    },
    {
     "name": "stdout",
     "output_type": "stream",
     "text": [
      "Optimization finished!\n",
      "\n",
      "[BPR(K=200, lr=0.1, reg=0.01, max_iter=100)] Evaluation started!\n"
     ]
    },
    {
     "data": {
      "application/vnd.jupyter.widget-view+json": {
       "model_id": "ccad577aacf244a2a2137aebd631fab2",
       "version_major": 2,
       "version_minor": 0
      },
      "text/plain": [
       "Ranking:   0%|          | 0/11672 [00:00<?, ?it/s]"
      ]
     },
     "metadata": {},
     "output_type": "display_data"
    },
    {
     "name": "stdout",
     "output_type": "stream",
     "text": [
      "BPR(K=200, lr=0.1, reg=0.01, max_iter=100) model is saved to ./bpr_grid_search\\BPR(K=200, lr=0.1, reg=0.01, max_iter=100)\\2024-05-16_15-56-06-650266.pkl\n",
      "\n",
      "[BPR(K=200, lr=0.1, reg=0.01, max_iter=500)] Training started!\n"
     ]
    },
    {
     "data": {
      "application/vnd.jupyter.widget-view+json": {
       "model_id": "6686f0bb66aa47189a87ad2fc1921e5d",
       "version_major": 2,
       "version_minor": 0
      },
      "text/plain": [
       "  0%|          | 0/500 [00:00<?, ?it/s]"
      ]
     },
     "metadata": {},
     "output_type": "display_data"
    },
    {
     "name": "stdout",
     "output_type": "stream",
     "text": [
      "Optimization finished!\n",
      "\n",
      "[BPR(K=200, lr=0.1, reg=0.01, max_iter=500)] Evaluation started!\n"
     ]
    },
    {
     "data": {
      "application/vnd.jupyter.widget-view+json": {
       "model_id": "5e95d68169474de0a306122db67e2abb",
       "version_major": 2,
       "version_minor": 0
      },
      "text/plain": [
       "Ranking:   0%|          | 0/11672 [00:00<?, ?it/s]"
      ]
     },
     "metadata": {},
     "output_type": "display_data"
    },
    {
     "name": "stdout",
     "output_type": "stream",
     "text": [
      "BPR(K=200, lr=0.1, reg=0.01, max_iter=500) model is saved to ./bpr_grid_search\\BPR(K=200, lr=0.1, reg=0.01, max_iter=500)\\2024-05-16_15-57-08-656060.pkl\n",
      "\n",
      "[BPR(K=200, lr=0.1, reg=0.01, max_iter=1000)] Training started!\n"
     ]
    },
    {
     "data": {
      "application/vnd.jupyter.widget-view+json": {
       "model_id": "7c24db049083420286738478d3e1cd91",
       "version_major": 2,
       "version_minor": 0
      },
      "text/plain": [
       "  0%|          | 0/1000 [00:00<?, ?it/s]"
      ]
     },
     "metadata": {},
     "output_type": "display_data"
    },
    {
     "name": "stdout",
     "output_type": "stream",
     "text": [
      "Optimization finished!\n",
      "\n",
      "[BPR(K=200, lr=0.1, reg=0.01, max_iter=1000)] Evaluation started!\n"
     ]
    },
    {
     "data": {
      "application/vnd.jupyter.widget-view+json": {
       "model_id": "8951222b3f85400bbe12b3c00b940af3",
       "version_major": 2,
       "version_minor": 0
      },
      "text/plain": [
       "Ranking:   0%|          | 0/11672 [00:00<?, ?it/s]"
      ]
     },
     "metadata": {},
     "output_type": "display_data"
    },
    {
     "name": "stdout",
     "output_type": "stream",
     "text": [
      "BPR(K=200, lr=0.1, reg=0.01, max_iter=1000) model is saved to ./bpr_grid_search\\BPR(K=200, lr=0.1, reg=0.01, max_iter=1000)\\2024-05-16_15-58-55-817545.pkl\n",
      "\n",
      "[BPR(K=200, lr=0.1, reg=0.01, max_iter=2000)] Training started!\n"
     ]
    },
    {
     "data": {
      "application/vnd.jupyter.widget-view+json": {
       "model_id": "f74b63fbe82e466b96c6dbc9c4ea63f7",
       "version_major": 2,
       "version_minor": 0
      },
      "text/plain": [
       "  0%|          | 0/2000 [00:00<?, ?it/s]"
      ]
     },
     "metadata": {},
     "output_type": "display_data"
    },
    {
     "name": "stdout",
     "output_type": "stream",
     "text": [
      "Optimization finished!\n",
      "\n",
      "[BPR(K=200, lr=0.1, reg=0.01, max_iter=2000)] Evaluation started!\n"
     ]
    },
    {
     "data": {
      "application/vnd.jupyter.widget-view+json": {
       "model_id": "e770bc8209a04fd38541bb16239a39cb",
       "version_major": 2,
       "version_minor": 0
      },
      "text/plain": [
       "Ranking:   0%|          | 0/11672 [00:00<?, ?it/s]"
      ]
     },
     "metadata": {},
     "output_type": "display_data"
    },
    {
     "name": "stdout",
     "output_type": "stream",
     "text": [
      "BPR(K=200, lr=0.1, reg=0.01, max_iter=2000) model is saved to ./bpr_grid_search\\BPR(K=200, lr=0.1, reg=0.01, max_iter=2000)\\2024-05-16_16-02-13-671940.pkl\n",
      "\n",
      "[BPR(K=200, lr=0.1, reg=0.1, max_iter=100)] Training started!\n"
     ]
    },
    {
     "data": {
      "application/vnd.jupyter.widget-view+json": {
       "model_id": "457d327d4fa14fab90826566436a7a3b",
       "version_major": 2,
       "version_minor": 0
      },
      "text/plain": [
       "  0%|          | 0/100 [00:00<?, ?it/s]"
      ]
     },
     "metadata": {},
     "output_type": "display_data"
    },
    {
     "name": "stdout",
     "output_type": "stream",
     "text": [
      "Optimization finished!\n",
      "\n",
      "[BPR(K=200, lr=0.1, reg=0.1, max_iter=100)] Evaluation started!\n"
     ]
    },
    {
     "data": {
      "application/vnd.jupyter.widget-view+json": {
       "model_id": "0d2d6b4c143f4c779405403fbb76ff80",
       "version_major": 2,
       "version_minor": 0
      },
      "text/plain": [
       "Ranking:   0%|          | 0/11672 [00:00<?, ?it/s]"
      ]
     },
     "metadata": {},
     "output_type": "display_data"
    },
    {
     "name": "stdout",
     "output_type": "stream",
     "text": [
      "BPR(K=200, lr=0.1, reg=0.1, max_iter=100) model is saved to ./bpr_grid_search\\BPR(K=200, lr=0.1, reg=0.1, max_iter=100)\\2024-05-16_16-02-40-561229.pkl\n",
      "\n",
      "[BPR(K=200, lr=0.1, reg=0.1, max_iter=500)] Training started!\n"
     ]
    },
    {
     "data": {
      "application/vnd.jupyter.widget-view+json": {
       "model_id": "7d3837bc9dfe485c809cf648917e4879",
       "version_major": 2,
       "version_minor": 0
      },
      "text/plain": [
       "  0%|          | 0/500 [00:00<?, ?it/s]"
      ]
     },
     "metadata": {},
     "output_type": "display_data"
    },
    {
     "name": "stdout",
     "output_type": "stream",
     "text": [
      "Optimization finished!\n",
      "\n",
      "[BPR(K=200, lr=0.1, reg=0.1, max_iter=500)] Evaluation started!\n"
     ]
    },
    {
     "data": {
      "application/vnd.jupyter.widget-view+json": {
       "model_id": "1ddc576d16364adba5849d74af53613b",
       "version_major": 2,
       "version_minor": 0
      },
      "text/plain": [
       "Ranking:   0%|          | 0/11672 [00:00<?, ?it/s]"
      ]
     },
     "metadata": {},
     "output_type": "display_data"
    },
    {
     "name": "stdout",
     "output_type": "stream",
     "text": [
      "BPR(K=200, lr=0.1, reg=0.1, max_iter=500) model is saved to ./bpr_grid_search\\BPR(K=200, lr=0.1, reg=0.1, max_iter=500)\\2024-05-16_16-03-44-360951.pkl\n",
      "\n",
      "[BPR(K=200, lr=0.1, reg=0.1, max_iter=1000)] Training started!\n"
     ]
    },
    {
     "data": {
      "application/vnd.jupyter.widget-view+json": {
       "model_id": "7773e072209f46f1b469c61149774a7a",
       "version_major": 2,
       "version_minor": 0
      },
      "text/plain": [
       "  0%|          | 0/1000 [00:00<?, ?it/s]"
      ]
     },
     "metadata": {},
     "output_type": "display_data"
    },
    {
     "name": "stdout",
     "output_type": "stream",
     "text": [
      "Optimization finished!\n",
      "\n",
      "[BPR(K=200, lr=0.1, reg=0.1, max_iter=1000)] Evaluation started!\n"
     ]
    },
    {
     "data": {
      "application/vnd.jupyter.widget-view+json": {
       "model_id": "7c077bf1fb8744e1817150fb3711d7f4",
       "version_major": 2,
       "version_minor": 0
      },
      "text/plain": [
       "Ranking:   0%|          | 0/11672 [00:00<?, ?it/s]"
      ]
     },
     "metadata": {},
     "output_type": "display_data"
    },
    {
     "name": "stdout",
     "output_type": "stream",
     "text": [
      "BPR(K=200, lr=0.1, reg=0.1, max_iter=1000) model is saved to ./bpr_grid_search\\BPR(K=200, lr=0.1, reg=0.1, max_iter=1000)\\2024-05-16_16-05-36-786406.pkl\n",
      "\n",
      "[BPR(K=200, lr=0.1, reg=0.1, max_iter=2000)] Training started!\n"
     ]
    },
    {
     "data": {
      "application/vnd.jupyter.widget-view+json": {
       "model_id": "9dfd9c11b6f6461baaa6f8208ced65ce",
       "version_major": 2,
       "version_minor": 0
      },
      "text/plain": [
       "  0%|          | 0/2000 [00:00<?, ?it/s]"
      ]
     },
     "metadata": {},
     "output_type": "display_data"
    },
    {
     "name": "stdout",
     "output_type": "stream",
     "text": [
      "Optimization finished!\n",
      "\n",
      "[BPR(K=200, lr=0.1, reg=0.1, max_iter=2000)] Evaluation started!\n"
     ]
    },
    {
     "data": {
      "application/vnd.jupyter.widget-view+json": {
       "model_id": "dc22e2266b2642dfa40b1ff399b3271e",
       "version_major": 2,
       "version_minor": 0
      },
      "text/plain": [
       "Ranking:   0%|          | 0/11672 [00:00<?, ?it/s]"
      ]
     },
     "metadata": {},
     "output_type": "display_data"
    },
    {
     "name": "stdout",
     "output_type": "stream",
     "text": [
      "BPR(K=200, lr=0.1, reg=0.1, max_iter=2000) model is saved to ./bpr_grid_search\\BPR(K=200, lr=0.1, reg=0.1, max_iter=2000)\\2024-05-16_16-08-58-978644.pkl\n",
      "\n",
      "[BPR(K=200, lr=0.1, reg=1.0, max_iter=100)] Training started!\n"
     ]
    },
    {
     "data": {
      "application/vnd.jupyter.widget-view+json": {
       "model_id": "34c4470d3fb641a69a21535c1f7aa546",
       "version_major": 2,
       "version_minor": 0
      },
      "text/plain": [
       "  0%|          | 0/100 [00:00<?, ?it/s]"
      ]
     },
     "metadata": {},
     "output_type": "display_data"
    },
    {
     "name": "stdout",
     "output_type": "stream",
     "text": [
      "Optimization finished!\n",
      "\n",
      "[BPR(K=200, lr=0.1, reg=1.0, max_iter=100)] Evaluation started!\n"
     ]
    },
    {
     "data": {
      "application/vnd.jupyter.widget-view+json": {
       "model_id": "be065b50abdf49a58a1f7a0b94050d43",
       "version_major": 2,
       "version_minor": 0
      },
      "text/plain": [
       "Ranking:   0%|          | 0/11672 [00:00<?, ?it/s]"
      ]
     },
     "metadata": {},
     "output_type": "display_data"
    },
    {
     "name": "stdout",
     "output_type": "stream",
     "text": [
      "BPR(K=200, lr=0.1, reg=1.0, max_iter=100) model is saved to ./bpr_grid_search\\BPR(K=200, lr=0.1, reg=1.0, max_iter=100)\\2024-05-16_16-09-24-912044.pkl\n",
      "\n",
      "[BPR(K=200, lr=0.1, reg=1.0, max_iter=500)] Training started!\n"
     ]
    },
    {
     "data": {
      "application/vnd.jupyter.widget-view+json": {
       "model_id": "95b3a19c3c464c648939a9a85e11056c",
       "version_major": 2,
       "version_minor": 0
      },
      "text/plain": [
       "  0%|          | 0/500 [00:00<?, ?it/s]"
      ]
     },
     "metadata": {},
     "output_type": "display_data"
    },
    {
     "name": "stdout",
     "output_type": "stream",
     "text": [
      "Optimization finished!\n",
      "\n",
      "[BPR(K=200, lr=0.1, reg=1.0, max_iter=500)] Evaluation started!\n"
     ]
    },
    {
     "data": {
      "application/vnd.jupyter.widget-view+json": {
       "model_id": "c68b2489063841f1a53752e1d261124d",
       "version_major": 2,
       "version_minor": 0
      },
      "text/plain": [
       "Ranking:   0%|          | 0/11672 [00:00<?, ?it/s]"
      ]
     },
     "metadata": {},
     "output_type": "display_data"
    },
    {
     "name": "stdout",
     "output_type": "stream",
     "text": [
      "BPR(K=200, lr=0.1, reg=1.0, max_iter=500) model is saved to ./bpr_grid_search\\BPR(K=200, lr=0.1, reg=1.0, max_iter=500)\\2024-05-16_16-31-38-636392.pkl\n",
      "\n",
      "[BPR(K=200, lr=0.1, reg=1.0, max_iter=1000)] Training started!\n"
     ]
    },
    {
     "data": {
      "application/vnd.jupyter.widget-view+json": {
       "model_id": "e654187c6aff44839700884e22972834",
       "version_major": 2,
       "version_minor": 0
      },
      "text/plain": [
       "  0%|          | 0/1000 [00:00<?, ?it/s]"
      ]
     },
     "metadata": {},
     "output_type": "display_data"
    },
    {
     "name": "stdout",
     "output_type": "stream",
     "text": [
      "Optimization finished!\n",
      "\n",
      "[BPR(K=200, lr=0.1, reg=1.0, max_iter=1000)] Evaluation started!\n"
     ]
    },
    {
     "data": {
      "application/vnd.jupyter.widget-view+json": {
       "model_id": "ed34e2953a7649a8948f8a9bf20bb3cf",
       "version_major": 2,
       "version_minor": 0
      },
      "text/plain": [
       "Ranking:   0%|          | 0/11672 [00:00<?, ?it/s]"
      ]
     },
     "metadata": {},
     "output_type": "display_data"
    },
    {
     "name": "stdout",
     "output_type": "stream",
     "text": [
      "BPR(K=200, lr=0.1, reg=1.0, max_iter=1000) model is saved to ./bpr_grid_search\\BPR(K=200, lr=0.1, reg=1.0, max_iter=1000)\\2024-05-16_17-47-03-394132.pkl\n",
      "\n",
      "[BPR(K=200, lr=0.1, reg=1.0, max_iter=2000)] Training started!\n"
     ]
    },
    {
     "data": {
      "application/vnd.jupyter.widget-view+json": {
       "model_id": "26f0b4488d5742eaa9e24e9c8d4a1cf4",
       "version_major": 2,
       "version_minor": 0
      },
      "text/plain": [
       "  0%|          | 0/2000 [00:00<?, ?it/s]"
      ]
     },
     "metadata": {},
     "output_type": "display_data"
    },
    {
     "name": "stdout",
     "output_type": "stream",
     "text": [
      "Optimization finished!\n",
      "\n",
      "[BPR(K=200, lr=0.1, reg=1.0, max_iter=2000)] Evaluation started!\n"
     ]
    },
    {
     "data": {
      "application/vnd.jupyter.widget-view+json": {
       "model_id": "bf5e1dc41ca24a84a8c634baf266982b",
       "version_major": 2,
       "version_minor": 0
      },
      "text/plain": [
       "Ranking:   0%|          | 0/11672 [00:00<?, ?it/s]"
      ]
     },
     "metadata": {},
     "output_type": "display_data"
    },
    {
     "name": "stdout",
     "output_type": "stream",
     "text": [
      "BPR(K=200, lr=0.1, reg=1.0, max_iter=2000) model is saved to ./bpr_grid_search\\BPR(K=200, lr=0.1, reg=1.0, max_iter=2000)\\2024-05-16_23-07-13-606620.pkl\n",
      "\n",
      "[BPR(K=500, lr=0.001, reg=0.001, max_iter=100)] Training started!\n"
     ]
    },
    {
     "data": {
      "application/vnd.jupyter.widget-view+json": {
       "model_id": "0b94ce1824a44999a5f8f1ca6a6d1df7",
       "version_major": 2,
       "version_minor": 0
      },
      "text/plain": [
       "  0%|          | 0/100 [00:00<?, ?it/s]"
      ]
     },
     "metadata": {},
     "output_type": "display_data"
    },
    {
     "name": "stdout",
     "output_type": "stream",
     "text": [
      "Optimization finished!\n",
      "\n",
      "[BPR(K=500, lr=0.001, reg=0.001, max_iter=100)] Evaluation started!\n"
     ]
    },
    {
     "data": {
      "application/vnd.jupyter.widget-view+json": {
       "model_id": "175ff68824ec4ba296d07379d1a7446e",
       "version_major": 2,
       "version_minor": 0
      },
      "text/plain": [
       "Ranking:   0%|          | 0/11672 [00:00<?, ?it/s]"
      ]
     },
     "metadata": {},
     "output_type": "display_data"
    },
    {
     "name": "stdout",
     "output_type": "stream",
     "text": [
      "BPR(K=500, lr=0.001, reg=0.001, max_iter=100) model is saved to ./bpr_grid_search\\BPR(K=500, lr=0.001, reg=0.001, max_iter=100)\\2024-05-16_23-08-03-644301.pkl\n",
      "\n",
      "[BPR(K=500, lr=0.001, reg=0.001, max_iter=500)] Training started!\n"
     ]
    },
    {
     "data": {
      "application/vnd.jupyter.widget-view+json": {
       "model_id": "aa2532f260ca4fe8a3095729e6041741",
       "version_major": 2,
       "version_minor": 0
      },
      "text/plain": [
       "  0%|          | 0/500 [00:00<?, ?it/s]"
      ]
     },
     "metadata": {},
     "output_type": "display_data"
    },
    {
     "name": "stdout",
     "output_type": "stream",
     "text": [
      "Optimization finished!\n",
      "\n",
      "[BPR(K=500, lr=0.001, reg=0.001, max_iter=500)] Evaluation started!\n"
     ]
    },
    {
     "data": {
      "application/vnd.jupyter.widget-view+json": {
       "model_id": "ae828882282745aaa451bfbdb194e24a",
       "version_major": 2,
       "version_minor": 0
      },
      "text/plain": [
       "Ranking:   0%|          | 0/11672 [00:00<?, ?it/s]"
      ]
     },
     "metadata": {},
     "output_type": "display_data"
    },
    {
     "name": "stdout",
     "output_type": "stream",
     "text": [
      "BPR(K=500, lr=0.001, reg=0.001, max_iter=500) model is saved to ./bpr_grid_search\\BPR(K=500, lr=0.001, reg=0.001, max_iter=500)\\2024-05-16_23-10-25-920480.pkl\n",
      "\n",
      "[BPR(K=500, lr=0.001, reg=0.001, max_iter=1000)] Training started!\n"
     ]
    },
    {
     "data": {
      "application/vnd.jupyter.widget-view+json": {
       "model_id": "fb3ac152cf5240a180344fb95e171b0b",
       "version_major": 2,
       "version_minor": 0
      },
      "text/plain": [
       "  0%|          | 0/1000 [00:00<?, ?it/s]"
      ]
     },
     "metadata": {},
     "output_type": "display_data"
    },
    {
     "name": "stdout",
     "output_type": "stream",
     "text": [
      "Optimization finished!\n",
      "\n",
      "[BPR(K=500, lr=0.001, reg=0.001, max_iter=1000)] Evaluation started!\n"
     ]
    },
    {
     "data": {
      "application/vnd.jupyter.widget-view+json": {
       "model_id": "1653dd0c39b8447d99e011c2b5948652",
       "version_major": 2,
       "version_minor": 0
      },
      "text/plain": [
       "Ranking:   0%|          | 0/11672 [00:00<?, ?it/s]"
      ]
     },
     "metadata": {},
     "output_type": "display_data"
    },
    {
     "name": "stdout",
     "output_type": "stream",
     "text": [
      "BPR(K=500, lr=0.001, reg=0.001, max_iter=1000) model is saved to ./bpr_grid_search\\BPR(K=500, lr=0.001, reg=0.001, max_iter=1000)\\2024-05-16_23-14-44-340528.pkl\n",
      "\n",
      "[BPR(K=500, lr=0.001, reg=0.001, max_iter=2000)] Training started!\n"
     ]
    },
    {
     "data": {
      "application/vnd.jupyter.widget-view+json": {
       "model_id": "6943bc5ff2d5434b9bb2e722eb6aedb1",
       "version_major": 2,
       "version_minor": 0
      },
      "text/plain": [
       "  0%|          | 0/2000 [00:00<?, ?it/s]"
      ]
     },
     "metadata": {},
     "output_type": "display_data"
    },
    {
     "name": "stdout",
     "output_type": "stream",
     "text": [
      "Optimization finished!\n",
      "\n",
      "[BPR(K=500, lr=0.001, reg=0.001, max_iter=2000)] Evaluation started!\n"
     ]
    },
    {
     "data": {
      "application/vnd.jupyter.widget-view+json": {
       "model_id": "de035e0bd10447c4b18cb0f5ffc071fb",
       "version_major": 2,
       "version_minor": 0
      },
      "text/plain": [
       "Ranking:   0%|          | 0/11672 [00:00<?, ?it/s]"
      ]
     },
     "metadata": {},
     "output_type": "display_data"
    },
    {
     "name": "stdout",
     "output_type": "stream",
     "text": [
      "BPR(K=500, lr=0.001, reg=0.001, max_iter=2000) model is saved to ./bpr_grid_search\\BPR(K=500, lr=0.001, reg=0.001, max_iter=2000)\\2024-05-16_23-22-10-688371.pkl\n",
      "\n",
      "[BPR(K=500, lr=0.001, reg=0.01, max_iter=100)] Training started!\n"
     ]
    },
    {
     "data": {
      "application/vnd.jupyter.widget-view+json": {
       "model_id": "7f0fde6739ad4d2ca10ba9455c8ab74d",
       "version_major": 2,
       "version_minor": 0
      },
      "text/plain": [
       "  0%|          | 0/100 [00:00<?, ?it/s]"
      ]
     },
     "metadata": {},
     "output_type": "display_data"
    },
    {
     "name": "stdout",
     "output_type": "stream",
     "text": [
      "Optimization finished!\n",
      "\n",
      "[BPR(K=500, lr=0.001, reg=0.01, max_iter=100)] Evaluation started!\n"
     ]
    },
    {
     "data": {
      "application/vnd.jupyter.widget-view+json": {
       "model_id": "bc1e91c476b3421a8dabdc29e48b850c",
       "version_major": 2,
       "version_minor": 0
      },
      "text/plain": [
       "Ranking:   0%|          | 0/11672 [00:00<?, ?it/s]"
      ]
     },
     "metadata": {},
     "output_type": "display_data"
    },
    {
     "name": "stdout",
     "output_type": "stream",
     "text": [
      "BPR(K=500, lr=0.001, reg=0.01, max_iter=100) model is saved to ./bpr_grid_search\\BPR(K=500, lr=0.001, reg=0.01, max_iter=100)\\2024-05-16_23-22-56-136266.pkl\n",
      "\n",
      "[BPR(K=500, lr=0.001, reg=0.01, max_iter=500)] Training started!\n"
     ]
    },
    {
     "data": {
      "application/vnd.jupyter.widget-view+json": {
       "model_id": "437831e44be04cf39290eedbe0f8abe3",
       "version_major": 2,
       "version_minor": 0
      },
      "text/plain": [
       "  0%|          | 0/500 [00:00<?, ?it/s]"
      ]
     },
     "metadata": {},
     "output_type": "display_data"
    },
    {
     "name": "stdout",
     "output_type": "stream",
     "text": [
      "Optimization finished!\n",
      "\n",
      "[BPR(K=500, lr=0.001, reg=0.01, max_iter=500)] Evaluation started!\n"
     ]
    },
    {
     "data": {
      "application/vnd.jupyter.widget-view+json": {
       "model_id": "924d0866afa34b92810fedcbb4ca8c3e",
       "version_major": 2,
       "version_minor": 0
      },
      "text/plain": [
       "Ranking:   0%|          | 0/11672 [00:00<?, ?it/s]"
      ]
     },
     "metadata": {},
     "output_type": "display_data"
    },
    {
     "name": "stdout",
     "output_type": "stream",
     "text": [
      "BPR(K=500, lr=0.001, reg=0.01, max_iter=500) model is saved to ./bpr_grid_search\\BPR(K=500, lr=0.001, reg=0.01, max_iter=500)\\2024-05-16_23-25-02-321116.pkl\n",
      "\n",
      "[BPR(K=500, lr=0.001, reg=0.01, max_iter=1000)] Training started!\n"
     ]
    },
    {
     "data": {
      "application/vnd.jupyter.widget-view+json": {
       "model_id": "e428ea0f41c04d4aa0f32cfcee5fc704",
       "version_major": 2,
       "version_minor": 0
      },
      "text/plain": [
       "  0%|          | 0/1000 [00:00<?, ?it/s]"
      ]
     },
     "metadata": {},
     "output_type": "display_data"
    },
    {
     "name": "stdout",
     "output_type": "stream",
     "text": [
      "Optimization finished!\n",
      "\n",
      "[BPR(K=500, lr=0.001, reg=0.01, max_iter=1000)] Evaluation started!\n"
     ]
    },
    {
     "data": {
      "application/vnd.jupyter.widget-view+json": {
       "model_id": "02aeb7b9d11541fba3c8fa50e021d068",
       "version_major": 2,
       "version_minor": 0
      },
      "text/plain": [
       "Ranking:   0%|          | 0/11672 [00:00<?, ?it/s]"
      ]
     },
     "metadata": {},
     "output_type": "display_data"
    },
    {
     "name": "stdout",
     "output_type": "stream",
     "text": [
      "BPR(K=500, lr=0.001, reg=0.01, max_iter=1000) model is saved to ./bpr_grid_search\\BPR(K=500, lr=0.001, reg=0.01, max_iter=1000)\\2024-05-16_23-28-47-072466.pkl\n",
      "\n",
      "[BPR(K=500, lr=0.001, reg=0.01, max_iter=2000)] Training started!\n"
     ]
    },
    {
     "data": {
      "application/vnd.jupyter.widget-view+json": {
       "model_id": "48bca5d1fac14fc6a338081ecbb5e0b7",
       "version_major": 2,
       "version_minor": 0
      },
      "text/plain": [
       "  0%|          | 0/2000 [00:00<?, ?it/s]"
      ]
     },
     "metadata": {},
     "output_type": "display_data"
    },
    {
     "name": "stdout",
     "output_type": "stream",
     "text": [
      "Optimization finished!\n",
      "\n",
      "[BPR(K=500, lr=0.001, reg=0.01, max_iter=2000)] Evaluation started!\n"
     ]
    },
    {
     "data": {
      "application/vnd.jupyter.widget-view+json": {
       "model_id": "1c0b532e4c34437d86a4ab67cb1d549c",
       "version_major": 2,
       "version_minor": 0
      },
      "text/plain": [
       "Ranking:   0%|          | 0/11672 [00:00<?, ?it/s]"
      ]
     },
     "metadata": {},
     "output_type": "display_data"
    },
    {
     "name": "stdout",
     "output_type": "stream",
     "text": [
      "BPR(K=500, lr=0.001, reg=0.01, max_iter=2000) model is saved to ./bpr_grid_search\\BPR(K=500, lr=0.001, reg=0.01, max_iter=2000)\\2024-05-16_23-36-08-065109.pkl\n",
      "\n",
      "[BPR(K=500, lr=0.001, reg=0.1, max_iter=100)] Training started!\n"
     ]
    },
    {
     "data": {
      "application/vnd.jupyter.widget-view+json": {
       "model_id": "fe770ddecb5e44eb8ac9ed309cc85918",
       "version_major": 2,
       "version_minor": 0
      },
      "text/plain": [
       "  0%|          | 0/100 [00:00<?, ?it/s]"
      ]
     },
     "metadata": {},
     "output_type": "display_data"
    },
    {
     "name": "stdout",
     "output_type": "stream",
     "text": [
      "Optimization finished!\n",
      "\n",
      "[BPR(K=500, lr=0.001, reg=0.1, max_iter=100)] Evaluation started!\n"
     ]
    },
    {
     "data": {
      "application/vnd.jupyter.widget-view+json": {
       "model_id": "f835d5287de84f1c8895207fd131f5ea",
       "version_major": 2,
       "version_minor": 0
      },
      "text/plain": [
       "Ranking:   0%|          | 0/11672 [00:00<?, ?it/s]"
      ]
     },
     "metadata": {},
     "output_type": "display_data"
    },
    {
     "name": "stdout",
     "output_type": "stream",
     "text": [
      "BPR(K=500, lr=0.001, reg=0.1, max_iter=100) model is saved to ./bpr_grid_search\\BPR(K=500, lr=0.001, reg=0.1, max_iter=100)\\2024-05-16_23-36-51-414850.pkl\n",
      "\n",
      "[BPR(K=500, lr=0.001, reg=0.1, max_iter=500)] Training started!\n"
     ]
    },
    {
     "data": {
      "application/vnd.jupyter.widget-view+json": {
       "model_id": "273ff1a610cd4f65964fa09a58ea3776",
       "version_major": 2,
       "version_minor": 0
      },
      "text/plain": [
       "  0%|          | 0/500 [00:00<?, ?it/s]"
      ]
     },
     "metadata": {},
     "output_type": "display_data"
    },
    {
     "name": "stdout",
     "output_type": "stream",
     "text": [
      "Optimization finished!\n",
      "\n",
      "[BPR(K=500, lr=0.001, reg=0.1, max_iter=500)] Evaluation started!\n"
     ]
    },
    {
     "data": {
      "application/vnd.jupyter.widget-view+json": {
       "model_id": "960bca3b950946459494884204f6f41c",
       "version_major": 2,
       "version_minor": 0
      },
      "text/plain": [
       "Ranking:   0%|          | 0/11672 [00:00<?, ?it/s]"
      ]
     },
     "metadata": {},
     "output_type": "display_data"
    },
    {
     "name": "stdout",
     "output_type": "stream",
     "text": [
      "BPR(K=500, lr=0.001, reg=0.1, max_iter=500) model is saved to ./bpr_grid_search\\BPR(K=500, lr=0.001, reg=0.1, max_iter=500)\\2024-05-16_23-38-55-513138.pkl\n",
      "\n",
      "[BPR(K=500, lr=0.001, reg=0.1, max_iter=1000)] Training started!\n"
     ]
    },
    {
     "data": {
      "application/vnd.jupyter.widget-view+json": {
       "model_id": "e5132a7e9ff148cfb20c49d1be1b651c",
       "version_major": 2,
       "version_minor": 0
      },
      "text/plain": [
       "  0%|          | 0/1000 [00:00<?, ?it/s]"
      ]
     },
     "metadata": {},
     "output_type": "display_data"
    },
    {
     "name": "stdout",
     "output_type": "stream",
     "text": [
      "Optimization finished!\n",
      "\n",
      "[BPR(K=500, lr=0.001, reg=0.1, max_iter=1000)] Evaluation started!\n"
     ]
    },
    {
     "data": {
      "application/vnd.jupyter.widget-view+json": {
       "model_id": "18a738a960824301b6c55bb9d7af02cb",
       "version_major": 2,
       "version_minor": 0
      },
      "text/plain": [
       "Ranking:   0%|          | 0/11672 [00:00<?, ?it/s]"
      ]
     },
     "metadata": {},
     "output_type": "display_data"
    },
    {
     "name": "stdout",
     "output_type": "stream",
     "text": [
      "BPR(K=500, lr=0.001, reg=0.1, max_iter=1000) model is saved to ./bpr_grid_search\\BPR(K=500, lr=0.001, reg=0.1, max_iter=1000)\\2024-05-16_23-42-40-449461.pkl\n",
      "\n",
      "[BPR(K=500, lr=0.001, reg=0.1, max_iter=2000)] Training started!\n"
     ]
    },
    {
     "data": {
      "application/vnd.jupyter.widget-view+json": {
       "model_id": "d4a441355948447c8ca215b03857e544",
       "version_major": 2,
       "version_minor": 0
      },
      "text/plain": [
       "  0%|          | 0/2000 [00:00<?, ?it/s]"
      ]
     },
     "metadata": {},
     "output_type": "display_data"
    },
    {
     "name": "stdout",
     "output_type": "stream",
     "text": [
      "Optimization finished!\n",
      "\n",
      "[BPR(K=500, lr=0.001, reg=0.1, max_iter=2000)] Evaluation started!\n"
     ]
    },
    {
     "data": {
      "application/vnd.jupyter.widget-view+json": {
       "model_id": "66c327b79f4542f5944991435323f551",
       "version_major": 2,
       "version_minor": 0
      },
      "text/plain": [
       "Ranking:   0%|          | 0/11672 [00:00<?, ?it/s]"
      ]
     },
     "metadata": {},
     "output_type": "display_data"
    },
    {
     "name": "stdout",
     "output_type": "stream",
     "text": [
      "BPR(K=500, lr=0.001, reg=0.1, max_iter=2000) model is saved to ./bpr_grid_search\\BPR(K=500, lr=0.001, reg=0.1, max_iter=2000)\\2024-05-16_23-50-12-841821.pkl\n",
      "\n",
      "[BPR(K=500, lr=0.001, reg=1.0, max_iter=100)] Training started!\n"
     ]
    },
    {
     "data": {
      "application/vnd.jupyter.widget-view+json": {
       "model_id": "677574c520ff4739a1873f829a721709",
       "version_major": 2,
       "version_minor": 0
      },
      "text/plain": [
       "  0%|          | 0/100 [00:00<?, ?it/s]"
      ]
     },
     "metadata": {},
     "output_type": "display_data"
    },
    {
     "name": "stdout",
     "output_type": "stream",
     "text": [
      "Optimization finished!\n",
      "\n",
      "[BPR(K=500, lr=0.001, reg=1.0, max_iter=100)] Evaluation started!\n"
     ]
    },
    {
     "data": {
      "application/vnd.jupyter.widget-view+json": {
       "model_id": "be1a79d006bf45838697e11d18bd9a5c",
       "version_major": 2,
       "version_minor": 0
      },
      "text/plain": [
       "Ranking:   0%|          | 0/11672 [00:00<?, ?it/s]"
      ]
     },
     "metadata": {},
     "output_type": "display_data"
    },
    {
     "name": "stdout",
     "output_type": "stream",
     "text": [
      "BPR(K=500, lr=0.001, reg=1.0, max_iter=100) model is saved to ./bpr_grid_search\\BPR(K=500, lr=0.001, reg=1.0, max_iter=100)\\2024-05-16_23-50-57-027229.pkl\n",
      "\n",
      "[BPR(K=500, lr=0.001, reg=1.0, max_iter=500)] Training started!\n"
     ]
    },
    {
     "data": {
      "application/vnd.jupyter.widget-view+json": {
       "model_id": "1ec2e5021eee41f0ae3efa577b73d215",
       "version_major": 2,
       "version_minor": 0
      },
      "text/plain": [
       "  0%|          | 0/500 [00:00<?, ?it/s]"
      ]
     },
     "metadata": {},
     "output_type": "display_data"
    },
    {
     "name": "stdout",
     "output_type": "stream",
     "text": [
      "Optimization finished!\n",
      "\n",
      "[BPR(K=500, lr=0.001, reg=1.0, max_iter=500)] Evaluation started!\n"
     ]
    },
    {
     "data": {
      "application/vnd.jupyter.widget-view+json": {
       "model_id": "2f4132a9965640408b7150e3da9fb24c",
       "version_major": 2,
       "version_minor": 0
      },
      "text/plain": [
       "Ranking:   0%|          | 0/11672 [00:00<?, ?it/s]"
      ]
     },
     "metadata": {},
     "output_type": "display_data"
    },
    {
     "name": "stdout",
     "output_type": "stream",
     "text": [
      "BPR(K=500, lr=0.001, reg=1.0, max_iter=500) model is saved to ./bpr_grid_search\\BPR(K=500, lr=0.001, reg=1.0, max_iter=500)\\2024-05-16_23-53-03-203372.pkl\n",
      "\n",
      "[BPR(K=500, lr=0.001, reg=1.0, max_iter=1000)] Training started!\n"
     ]
    },
    {
     "data": {
      "application/vnd.jupyter.widget-view+json": {
       "model_id": "ac3799b4cfff42c1a335dc623e857aeb",
       "version_major": 2,
       "version_minor": 0
      },
      "text/plain": [
       "  0%|          | 0/1000 [00:00<?, ?it/s]"
      ]
     },
     "metadata": {},
     "output_type": "display_data"
    },
    {
     "name": "stdout",
     "output_type": "stream",
     "text": [
      "Optimization finished!\n",
      "\n",
      "[BPR(K=500, lr=0.001, reg=1.0, max_iter=1000)] Evaluation started!\n"
     ]
    },
    {
     "data": {
      "application/vnd.jupyter.widget-view+json": {
       "model_id": "fa66760a3fc24f338a0acef256c7985e",
       "version_major": 2,
       "version_minor": 0
      },
      "text/plain": [
       "Ranking:   0%|          | 0/11672 [00:00<?, ?it/s]"
      ]
     },
     "metadata": {},
     "output_type": "display_data"
    },
    {
     "name": "stdout",
     "output_type": "stream",
     "text": [
      "BPR(K=500, lr=0.001, reg=1.0, max_iter=1000) model is saved to ./bpr_grid_search\\BPR(K=500, lr=0.001, reg=1.0, max_iter=1000)\\2024-05-16_23-56-48-604398.pkl\n",
      "\n",
      "[BPR(K=500, lr=0.001, reg=1.0, max_iter=2000)] Training started!\n"
     ]
    },
    {
     "data": {
      "application/vnd.jupyter.widget-view+json": {
       "model_id": "a5cda37671ef4ed5a69a82de140d6cf9",
       "version_major": 2,
       "version_minor": 0
      },
      "text/plain": [
       "  0%|          | 0/2000 [00:00<?, ?it/s]"
      ]
     },
     "metadata": {},
     "output_type": "display_data"
    },
    {
     "name": "stdout",
     "output_type": "stream",
     "text": [
      "Optimization finished!\n",
      "\n",
      "[BPR(K=500, lr=0.001, reg=1.0, max_iter=2000)] Evaluation started!\n"
     ]
    },
    {
     "data": {
      "application/vnd.jupyter.widget-view+json": {
       "model_id": "fa14a29bcdd24bc7b432e101a8429117",
       "version_major": 2,
       "version_minor": 0
      },
      "text/plain": [
       "Ranking:   0%|          | 0/11672 [00:00<?, ?it/s]"
      ]
     },
     "metadata": {},
     "output_type": "display_data"
    },
    {
     "name": "stdout",
     "output_type": "stream",
     "text": [
      "BPR(K=500, lr=0.001, reg=1.0, max_iter=2000) model is saved to ./bpr_grid_search\\BPR(K=500, lr=0.001, reg=1.0, max_iter=2000)\\2024-05-17_00-04-04-509745.pkl\n",
      "\n",
      "[BPR(K=500, lr=0.01, reg=0.001, max_iter=100)] Training started!\n"
     ]
    },
    {
     "data": {
      "application/vnd.jupyter.widget-view+json": {
       "model_id": "bbfef53840b640bdb5ceff1b1ffc2105",
       "version_major": 2,
       "version_minor": 0
      },
      "text/plain": [
       "  0%|          | 0/100 [00:00<?, ?it/s]"
      ]
     },
     "metadata": {},
     "output_type": "display_data"
    },
    {
     "name": "stdout",
     "output_type": "stream",
     "text": [
      "Optimization finished!\n",
      "\n",
      "[BPR(K=500, lr=0.01, reg=0.001, max_iter=100)] Evaluation started!\n"
     ]
    },
    {
     "data": {
      "application/vnd.jupyter.widget-view+json": {
       "model_id": "34ad0e19d4194962bf1d144c6242108b",
       "version_major": 2,
       "version_minor": 0
      },
      "text/plain": [
       "Ranking:   0%|          | 0/11672 [00:00<?, ?it/s]"
      ]
     },
     "metadata": {},
     "output_type": "display_data"
    },
    {
     "name": "stdout",
     "output_type": "stream",
     "text": [
      "BPR(K=500, lr=0.01, reg=0.001, max_iter=100) model is saved to ./bpr_grid_search\\BPR(K=500, lr=0.01, reg=0.001, max_iter=100)\\2024-05-17_00-04-48-024219.pkl\n",
      "\n",
      "[BPR(K=500, lr=0.01, reg=0.001, max_iter=500)] Training started!\n"
     ]
    },
    {
     "data": {
      "application/vnd.jupyter.widget-view+json": {
       "model_id": "a60ef6fe474b4b358fbc3bab63637e44",
       "version_major": 2,
       "version_minor": 0
      },
      "text/plain": [
       "  0%|          | 0/500 [00:00<?, ?it/s]"
      ]
     },
     "metadata": {},
     "output_type": "display_data"
    },
    {
     "name": "stdout",
     "output_type": "stream",
     "text": [
      "Optimization finished!\n",
      "\n",
      "[BPR(K=500, lr=0.01, reg=0.001, max_iter=500)] Evaluation started!\n"
     ]
    },
    {
     "data": {
      "application/vnd.jupyter.widget-view+json": {
       "model_id": "6a3a1a0e45ec4f46af9614b2b7f804b6",
       "version_major": 2,
       "version_minor": 0
      },
      "text/plain": [
       "Ranking:   0%|          | 0/11672 [00:00<?, ?it/s]"
      ]
     },
     "metadata": {},
     "output_type": "display_data"
    },
    {
     "name": "stdout",
     "output_type": "stream",
     "text": [
      "BPR(K=500, lr=0.01, reg=0.001, max_iter=500) model is saved to ./bpr_grid_search\\BPR(K=500, lr=0.01, reg=0.001, max_iter=500)\\2024-05-17_00-06-52-861038.pkl\n",
      "\n",
      "[BPR(K=500, lr=0.01, reg=0.001, max_iter=1000)] Training started!\n"
     ]
    },
    {
     "data": {
      "application/vnd.jupyter.widget-view+json": {
       "model_id": "ee529ba9a12148d0be327696c598a8bc",
       "version_major": 2,
       "version_minor": 0
      },
      "text/plain": [
       "  0%|          | 0/1000 [00:00<?, ?it/s]"
      ]
     },
     "metadata": {},
     "output_type": "display_data"
    },
    {
     "name": "stdout",
     "output_type": "stream",
     "text": [
      "Optimization finished!\n",
      "\n",
      "[BPR(K=500, lr=0.01, reg=0.001, max_iter=1000)] Evaluation started!\n"
     ]
    },
    {
     "data": {
      "application/vnd.jupyter.widget-view+json": {
       "model_id": "2726ca70328040a5895b45764cc6ad65",
       "version_major": 2,
       "version_minor": 0
      },
      "text/plain": [
       "Ranking:   0%|          | 0/11672 [00:00<?, ?it/s]"
      ]
     },
     "metadata": {},
     "output_type": "display_data"
    },
    {
     "name": "stdout",
     "output_type": "stream",
     "text": [
      "BPR(K=500, lr=0.01, reg=0.001, max_iter=1000) model is saved to ./bpr_grid_search\\BPR(K=500, lr=0.01, reg=0.001, max_iter=1000)\\2024-05-17_00-10-37-569882.pkl\n",
      "\n",
      "[BPR(K=500, lr=0.01, reg=0.001, max_iter=2000)] Training started!\n"
     ]
    },
    {
     "data": {
      "application/vnd.jupyter.widget-view+json": {
       "model_id": "b404b7093c7d4c01a813789338d250c1",
       "version_major": 2,
       "version_minor": 0
      },
      "text/plain": [
       "  0%|          | 0/2000 [00:00<?, ?it/s]"
      ]
     },
     "metadata": {},
     "output_type": "display_data"
    },
    {
     "name": "stdout",
     "output_type": "stream",
     "text": [
      "Optimization finished!\n",
      "\n",
      "[BPR(K=500, lr=0.01, reg=0.001, max_iter=2000)] Evaluation started!\n"
     ]
    },
    {
     "data": {
      "application/vnd.jupyter.widget-view+json": {
       "model_id": "e9ba3c72724e41f2861e28c62c7e8745",
       "version_major": 2,
       "version_minor": 0
      },
      "text/plain": [
       "Ranking:   0%|          | 0/11672 [00:00<?, ?it/s]"
      ]
     },
     "metadata": {},
     "output_type": "display_data"
    },
    {
     "name": "stdout",
     "output_type": "stream",
     "text": [
      "BPR(K=500, lr=0.01, reg=0.001, max_iter=2000) model is saved to ./bpr_grid_search\\BPR(K=500, lr=0.01, reg=0.001, max_iter=2000)\\2024-05-17_00-18-09-479718.pkl\n",
      "\n",
      "[BPR(K=500, lr=0.01, reg=0.01, max_iter=100)] Training started!\n"
     ]
    },
    {
     "data": {
      "application/vnd.jupyter.widget-view+json": {
       "model_id": "bc8acbc936ff4cd8924cf8bc190b2632",
       "version_major": 2,
       "version_minor": 0
      },
      "text/plain": [
       "  0%|          | 0/100 [00:00<?, ?it/s]"
      ]
     },
     "metadata": {},
     "output_type": "display_data"
    },
    {
     "name": "stdout",
     "output_type": "stream",
     "text": [
      "Optimization finished!\n",
      "\n",
      "[BPR(K=500, lr=0.01, reg=0.01, max_iter=100)] Evaluation started!\n"
     ]
    },
    {
     "data": {
      "application/vnd.jupyter.widget-view+json": {
       "model_id": "0063c92c0dc14cb5b6335641111401e9",
       "version_major": 2,
       "version_minor": 0
      },
      "text/plain": [
       "Ranking:   0%|          | 0/11672 [00:00<?, ?it/s]"
      ]
     },
     "metadata": {},
     "output_type": "display_data"
    },
    {
     "name": "stdout",
     "output_type": "stream",
     "text": [
      "BPR(K=500, lr=0.01, reg=0.01, max_iter=100) model is saved to ./bpr_grid_search\\BPR(K=500, lr=0.01, reg=0.01, max_iter=100)\\2024-05-17_00-18-52-639654.pkl\n",
      "\n",
      "[BPR(K=500, lr=0.01, reg=0.01, max_iter=500)] Training started!\n"
     ]
    },
    {
     "data": {
      "application/vnd.jupyter.widget-view+json": {
       "model_id": "ebf25050f5a24ba4b7aefaea5723545c",
       "version_major": 2,
       "version_minor": 0
      },
      "text/plain": [
       "  0%|          | 0/500 [00:00<?, ?it/s]"
      ]
     },
     "metadata": {},
     "output_type": "display_data"
    },
    {
     "name": "stdout",
     "output_type": "stream",
     "text": [
      "Optimization finished!\n",
      "\n",
      "[BPR(K=500, lr=0.01, reg=0.01, max_iter=500)] Evaluation started!\n"
     ]
    },
    {
     "data": {
      "application/vnd.jupyter.widget-view+json": {
       "model_id": "713c10fd902546309de5f26a86fa98f6",
       "version_major": 2,
       "version_minor": 0
      },
      "text/plain": [
       "Ranking:   0%|          | 0/11672 [00:00<?, ?it/s]"
      ]
     },
     "metadata": {},
     "output_type": "display_data"
    },
    {
     "name": "stdout",
     "output_type": "stream",
     "text": [
      "BPR(K=500, lr=0.01, reg=0.01, max_iter=500) model is saved to ./bpr_grid_search\\BPR(K=500, lr=0.01, reg=0.01, max_iter=500)\\2024-05-17_00-20-57-065756.pkl\n",
      "\n",
      "[BPR(K=500, lr=0.01, reg=0.01, max_iter=1000)] Training started!\n"
     ]
    },
    {
     "data": {
      "application/vnd.jupyter.widget-view+json": {
       "model_id": "d39f27e30d9b4acab44cff66bb645d3d",
       "version_major": 2,
       "version_minor": 0
      },
      "text/plain": [
       "  0%|          | 0/1000 [00:00<?, ?it/s]"
      ]
     },
     "metadata": {},
     "output_type": "display_data"
    },
    {
     "name": "stdout",
     "output_type": "stream",
     "text": [
      "Optimization finished!\n",
      "\n",
      "[BPR(K=500, lr=0.01, reg=0.01, max_iter=1000)] Evaluation started!\n"
     ]
    },
    {
     "data": {
      "application/vnd.jupyter.widget-view+json": {
       "model_id": "ddebba173715449fb1246909003b0eab",
       "version_major": 2,
       "version_minor": 0
      },
      "text/plain": [
       "Ranking:   0%|          | 0/11672 [00:00<?, ?it/s]"
      ]
     },
     "metadata": {},
     "output_type": "display_data"
    },
    {
     "name": "stdout",
     "output_type": "stream",
     "text": [
      "BPR(K=500, lr=0.01, reg=0.01, max_iter=1000) model is saved to ./bpr_grid_search\\BPR(K=500, lr=0.01, reg=0.01, max_iter=1000)\\2024-05-17_00-24-44-168772.pkl\n",
      "\n",
      "[BPR(K=500, lr=0.01, reg=0.01, max_iter=2000)] Training started!\n"
     ]
    },
    {
     "data": {
      "application/vnd.jupyter.widget-view+json": {
       "model_id": "07a93f3543454ed8a56ab3b59ce46c1d",
       "version_major": 2,
       "version_minor": 0
      },
      "text/plain": [
       "  0%|          | 0/2000 [00:00<?, ?it/s]"
      ]
     },
     "metadata": {},
     "output_type": "display_data"
    },
    {
     "name": "stdout",
     "output_type": "stream",
     "text": [
      "Optimization finished!\n",
      "\n",
      "[BPR(K=500, lr=0.01, reg=0.01, max_iter=2000)] Evaluation started!\n"
     ]
    },
    {
     "data": {
      "application/vnd.jupyter.widget-view+json": {
       "model_id": "65ff192774ce41ae918996e1ad2da4c6",
       "version_major": 2,
       "version_minor": 0
      },
      "text/plain": [
       "Ranking:   0%|          | 0/11672 [00:00<?, ?it/s]"
      ]
     },
     "metadata": {},
     "output_type": "display_data"
    },
    {
     "name": "stdout",
     "output_type": "stream",
     "text": [
      "BPR(K=500, lr=0.01, reg=0.01, max_iter=2000) model is saved to ./bpr_grid_search\\BPR(K=500, lr=0.01, reg=0.01, max_iter=2000)\\2024-05-17_00-32-13-884310.pkl\n",
      "\n",
      "[BPR(K=500, lr=0.01, reg=0.1, max_iter=100)] Training started!\n"
     ]
    },
    {
     "data": {
      "application/vnd.jupyter.widget-view+json": {
       "model_id": "a49c598d8c7a49fb9c536e6a6557f75c",
       "version_major": 2,
       "version_minor": 0
      },
      "text/plain": [
       "  0%|          | 0/100 [00:00<?, ?it/s]"
      ]
     },
     "metadata": {},
     "output_type": "display_data"
    },
    {
     "name": "stdout",
     "output_type": "stream",
     "text": [
      "Optimization finished!\n",
      "\n",
      "[BPR(K=500, lr=0.01, reg=0.1, max_iter=100)] Evaluation started!\n"
     ]
    },
    {
     "data": {
      "application/vnd.jupyter.widget-view+json": {
       "model_id": "d1c9215f86cf4b539aeeaef16901cc8e",
       "version_major": 2,
       "version_minor": 0
      },
      "text/plain": [
       "Ranking:   0%|          | 0/11672 [00:00<?, ?it/s]"
      ]
     },
     "metadata": {},
     "output_type": "display_data"
    },
    {
     "name": "stdout",
     "output_type": "stream",
     "text": [
      "BPR(K=500, lr=0.01, reg=0.1, max_iter=100) model is saved to ./bpr_grid_search\\BPR(K=500, lr=0.01, reg=0.1, max_iter=100)\\2024-05-17_00-33-05-888680.pkl\n",
      "\n",
      "[BPR(K=500, lr=0.01, reg=0.1, max_iter=500)] Training started!\n"
     ]
    },
    {
     "data": {
      "application/vnd.jupyter.widget-view+json": {
       "model_id": "1a7c7fef5a6a4f649a55f4aae4f988a1",
       "version_major": 2,
       "version_minor": 0
      },
      "text/plain": [
       "  0%|          | 0/500 [00:00<?, ?it/s]"
      ]
     },
     "metadata": {},
     "output_type": "display_data"
    },
    {
     "name": "stdout",
     "output_type": "stream",
     "text": [
      "Optimization finished!\n",
      "\n",
      "[BPR(K=500, lr=0.01, reg=0.1, max_iter=500)] Evaluation started!\n"
     ]
    },
    {
     "data": {
      "application/vnd.jupyter.widget-view+json": {
       "model_id": "8d5691d47702455583f06fd4367e5d06",
       "version_major": 2,
       "version_minor": 0
      },
      "text/plain": [
       "Ranking:   0%|          | 0/11672 [00:00<?, ?it/s]"
      ]
     },
     "metadata": {},
     "output_type": "display_data"
    },
    {
     "name": "stdout",
     "output_type": "stream",
     "text": [
      "BPR(K=500, lr=0.01, reg=0.1, max_iter=500) model is saved to ./bpr_grid_search\\BPR(K=500, lr=0.01, reg=0.1, max_iter=500)\\2024-05-17_00-35-14-562828.pkl\n",
      "\n",
      "[BPR(K=500, lr=0.01, reg=0.1, max_iter=1000)] Training started!\n"
     ]
    },
    {
     "data": {
      "application/vnd.jupyter.widget-view+json": {
       "model_id": "85b95990bded4787a45d681084d5f05c",
       "version_major": 2,
       "version_minor": 0
      },
      "text/plain": [
       "  0%|          | 0/1000 [00:00<?, ?it/s]"
      ]
     },
     "metadata": {},
     "output_type": "display_data"
    },
    {
     "name": "stdout",
     "output_type": "stream",
     "text": [
      "Optimization finished!\n",
      "\n",
      "[BPR(K=500, lr=0.01, reg=0.1, max_iter=1000)] Evaluation started!\n"
     ]
    },
    {
     "data": {
      "application/vnd.jupyter.widget-view+json": {
       "model_id": "9bdacc8eda53421bb6c6c9270e0e1e83",
       "version_major": 2,
       "version_minor": 0
      },
      "text/plain": [
       "Ranking:   0%|          | 0/11672 [00:00<?, ?it/s]"
      ]
     },
     "metadata": {},
     "output_type": "display_data"
    },
    {
     "name": "stdout",
     "output_type": "stream",
     "text": [
      "BPR(K=500, lr=0.01, reg=0.1, max_iter=1000) model is saved to ./bpr_grid_search\\BPR(K=500, lr=0.01, reg=0.1, max_iter=1000)\\2024-05-17_00-42-11-727196.pkl\n",
      "\n",
      "[BPR(K=500, lr=0.01, reg=0.1, max_iter=2000)] Training started!\n"
     ]
    },
    {
     "data": {
      "application/vnd.jupyter.widget-view+json": {
       "model_id": "0a96adfe8dbd42818e2ff550909ee680",
       "version_major": 2,
       "version_minor": 0
      },
      "text/plain": [
       "  0%|          | 0/2000 [00:00<?, ?it/s]"
      ]
     },
     "metadata": {},
     "output_type": "display_data"
    },
    {
     "name": "stdout",
     "output_type": "stream",
     "text": [
      "Optimization finished!\n",
      "\n",
      "[BPR(K=500, lr=0.01, reg=0.1, max_iter=2000)] Evaluation started!\n"
     ]
    },
    {
     "data": {
      "application/vnd.jupyter.widget-view+json": {
       "model_id": "0e2c28bb6a234b4290a648de03636edc",
       "version_major": 2,
       "version_minor": 0
      },
      "text/plain": [
       "Ranking:   0%|          | 0/11672 [00:00<?, ?it/s]"
      ]
     },
     "metadata": {},
     "output_type": "display_data"
    },
    {
     "name": "stdout",
     "output_type": "stream",
     "text": [
      "BPR(K=500, lr=0.01, reg=0.1, max_iter=2000) model is saved to ./bpr_grid_search\\BPR(K=500, lr=0.01, reg=0.1, max_iter=2000)\\2024-05-17_01-01-54-136695.pkl\n",
      "\n",
      "[BPR(K=500, lr=0.01, reg=1.0, max_iter=100)] Training started!\n"
     ]
    },
    {
     "data": {
      "application/vnd.jupyter.widget-view+json": {
       "model_id": "17039aa80edc46d2b3d5f15610e9dccd",
       "version_major": 2,
       "version_minor": 0
      },
      "text/plain": [
       "  0%|          | 0/100 [00:00<?, ?it/s]"
      ]
     },
     "metadata": {},
     "output_type": "display_data"
    },
    {
     "name": "stdout",
     "output_type": "stream",
     "text": [
      "Optimization finished!\n",
      "\n",
      "[BPR(K=500, lr=0.01, reg=1.0, max_iter=100)] Evaluation started!\n"
     ]
    },
    {
     "data": {
      "application/vnd.jupyter.widget-view+json": {
       "model_id": "f0cebb3d7c9f4e5c9465b67743e13960",
       "version_major": 2,
       "version_minor": 0
      },
      "text/plain": [
       "Ranking:   0%|          | 0/11672 [00:00<?, ?it/s]"
      ]
     },
     "metadata": {},
     "output_type": "display_data"
    },
    {
     "name": "stdout",
     "output_type": "stream",
     "text": [
      "BPR(K=500, lr=0.01, reg=1.0, max_iter=100) model is saved to ./bpr_grid_search\\BPR(K=500, lr=0.01, reg=1.0, max_iter=100)\\2024-05-17_01-05-05-680975.pkl\n",
      "\n",
      "[BPR(K=500, lr=0.01, reg=1.0, max_iter=500)] Training started!\n"
     ]
    },
    {
     "data": {
      "application/vnd.jupyter.widget-view+json": {
       "model_id": "f37915bb5dbd42608cefd0fef6584cab",
       "version_major": 2,
       "version_minor": 0
      },
      "text/plain": [
       "  0%|          | 0/500 [00:00<?, ?it/s]"
      ]
     },
     "metadata": {},
     "output_type": "display_data"
    },
    {
     "name": "stdout",
     "output_type": "stream",
     "text": [
      "Optimization finished!\n",
      "\n",
      "[BPR(K=500, lr=0.01, reg=1.0, max_iter=500)] Evaluation started!\n"
     ]
    },
    {
     "data": {
      "application/vnd.jupyter.widget-view+json": {
       "model_id": "a4b5902efe004a038f28f8d0e21d9947",
       "version_major": 2,
       "version_minor": 0
      },
      "text/plain": [
       "Ranking:   0%|          | 0/11672 [00:00<?, ?it/s]"
      ]
     },
     "metadata": {},
     "output_type": "display_data"
    },
    {
     "name": "stdout",
     "output_type": "stream",
     "text": [
      "BPR(K=500, lr=0.01, reg=1.0, max_iter=500) model is saved to ./bpr_grid_search\\BPR(K=500, lr=0.01, reg=1.0, max_iter=500)\\2024-05-17_01-15-50-708113.pkl\n",
      "\n",
      "[BPR(K=500, lr=0.01, reg=1.0, max_iter=1000)] Training started!\n"
     ]
    },
    {
     "data": {
      "application/vnd.jupyter.widget-view+json": {
       "model_id": "9e5d8493cd2b49c29f69c3f9e9a30b41",
       "version_major": 2,
       "version_minor": 0
      },
      "text/plain": [
       "  0%|          | 0/1000 [00:00<?, ?it/s]"
      ]
     },
     "metadata": {},
     "output_type": "display_data"
    },
    {
     "name": "stdout",
     "output_type": "stream",
     "text": [
      "Optimization finished!\n",
      "\n",
      "[BPR(K=500, lr=0.01, reg=1.0, max_iter=1000)] Evaluation started!\n"
     ]
    },
    {
     "data": {
      "application/vnd.jupyter.widget-view+json": {
       "model_id": "b323599891b4460db0952b87670c058e",
       "version_major": 2,
       "version_minor": 0
      },
      "text/plain": [
       "Ranking:   0%|          | 0/11672 [00:00<?, ?it/s]"
      ]
     },
     "metadata": {},
     "output_type": "display_data"
    },
    {
     "name": "stdout",
     "output_type": "stream",
     "text": [
      "BPR(K=500, lr=0.01, reg=1.0, max_iter=1000) model is saved to ./bpr_grid_search\\BPR(K=500, lr=0.01, reg=1.0, max_iter=1000)\\2024-05-17_01-35-49-125311.pkl\n",
      "\n",
      "[BPR(K=500, lr=0.01, reg=1.0, max_iter=2000)] Training started!\n"
     ]
    },
    {
     "data": {
      "application/vnd.jupyter.widget-view+json": {
       "model_id": "b56b1f50f9524ebca22f8d3d97b559c5",
       "version_major": 2,
       "version_minor": 0
      },
      "text/plain": [
       "  0%|          | 0/2000 [00:00<?, ?it/s]"
      ]
     },
     "metadata": {},
     "output_type": "display_data"
    },
    {
     "name": "stdout",
     "output_type": "stream",
     "text": [
      "Optimization finished!\n",
      "\n",
      "[BPR(K=500, lr=0.01, reg=1.0, max_iter=2000)] Evaluation started!\n"
     ]
    },
    {
     "data": {
      "application/vnd.jupyter.widget-view+json": {
       "model_id": "d4aa97afbf934510af630dbb68f940dd",
       "version_major": 2,
       "version_minor": 0
      },
      "text/plain": [
       "Ranking:   0%|          | 0/11672 [00:00<?, ?it/s]"
      ]
     },
     "metadata": {},
     "output_type": "display_data"
    },
    {
     "name": "stdout",
     "output_type": "stream",
     "text": [
      "BPR(K=500, lr=0.01, reg=1.0, max_iter=2000) model is saved to ./bpr_grid_search\\BPR(K=500, lr=0.01, reg=1.0, max_iter=2000)\\2024-05-17_06-47-42-832338.pkl\n",
      "\n",
      "[BPR(K=500, lr=0.1, reg=0.001, max_iter=100)] Training started!\n"
     ]
    },
    {
     "data": {
      "application/vnd.jupyter.widget-view+json": {
       "model_id": "e429b9f1a75245cd905c73eea5cb0861",
       "version_major": 2,
       "version_minor": 0
      },
      "text/plain": [
       "  0%|          | 0/100 [00:00<?, ?it/s]"
      ]
     },
     "metadata": {},
     "output_type": "display_data"
    },
    {
     "name": "stdout",
     "output_type": "stream",
     "text": [
      "Optimization finished!\n",
      "\n",
      "[BPR(K=500, lr=0.1, reg=0.001, max_iter=100)] Evaluation started!\n"
     ]
    },
    {
     "data": {
      "application/vnd.jupyter.widget-view+json": {
       "model_id": "902e36a17166410bab9f80c8bcecae9f",
       "version_major": 2,
       "version_minor": 0
      },
      "text/plain": [
       "Ranking:   0%|          | 0/11672 [00:00<?, ?it/s]"
      ]
     },
     "metadata": {},
     "output_type": "display_data"
    },
    {
     "name": "stdout",
     "output_type": "stream",
     "text": [
      "BPR(K=500, lr=0.1, reg=0.001, max_iter=100) model is saved to ./bpr_grid_search\\BPR(K=500, lr=0.1, reg=0.001, max_iter=100)\\2024-05-17_06-48-33-653876.pkl\n",
      "\n",
      "[BPR(K=500, lr=0.1, reg=0.001, max_iter=500)] Training started!\n"
     ]
    },
    {
     "data": {
      "application/vnd.jupyter.widget-view+json": {
       "model_id": "2670de49a9ed497e83073c8f5945d05d",
       "version_major": 2,
       "version_minor": 0
      },
      "text/plain": [
       "  0%|          | 0/500 [00:00<?, ?it/s]"
      ]
     },
     "metadata": {},
     "output_type": "display_data"
    },
    {
     "name": "stdout",
     "output_type": "stream",
     "text": [
      "Optimization finished!\n",
      "\n",
      "[BPR(K=500, lr=0.1, reg=0.001, max_iter=500)] Evaluation started!\n"
     ]
    },
    {
     "data": {
      "application/vnd.jupyter.widget-view+json": {
       "model_id": "4ef5e42ac3cd49ed972b4d251f66b8b4",
       "version_major": 2,
       "version_minor": 0
      },
      "text/plain": [
       "Ranking:   0%|          | 0/11672 [00:00<?, ?it/s]"
      ]
     },
     "metadata": {},
     "output_type": "display_data"
    },
    {
     "name": "stdout",
     "output_type": "stream",
     "text": [
      "BPR(K=500, lr=0.1, reg=0.001, max_iter=500) model is saved to ./bpr_grid_search\\BPR(K=500, lr=0.1, reg=0.001, max_iter=500)\\2024-05-17_06-50-53-194139.pkl\n",
      "\n",
      "[BPR(K=500, lr=0.1, reg=0.001, max_iter=1000)] Training started!\n"
     ]
    },
    {
     "data": {
      "application/vnd.jupyter.widget-view+json": {
       "model_id": "beda934d01284173b5c046f24793807c",
       "version_major": 2,
       "version_minor": 0
      },
      "text/plain": [
       "  0%|          | 0/1000 [00:00<?, ?it/s]"
      ]
     },
     "metadata": {},
     "output_type": "display_data"
    },
    {
     "name": "stdout",
     "output_type": "stream",
     "text": [
      "Optimization finished!\n",
      "\n",
      "[BPR(K=500, lr=0.1, reg=0.001, max_iter=1000)] Evaluation started!\n"
     ]
    },
    {
     "data": {
      "application/vnd.jupyter.widget-view+json": {
       "model_id": "da73a01740364e97a9d9861bb53dfcb0",
       "version_major": 2,
       "version_minor": 0
      },
      "text/plain": [
       "Ranking:   0%|          | 0/11672 [00:00<?, ?it/s]"
      ]
     },
     "metadata": {},
     "output_type": "display_data"
    },
    {
     "name": "stdout",
     "output_type": "stream",
     "text": [
      "BPR(K=500, lr=0.1, reg=0.001, max_iter=1000) model is saved to ./bpr_grid_search\\BPR(K=500, lr=0.1, reg=0.001, max_iter=1000)\\2024-05-17_06-54-51-534259.pkl\n",
      "\n",
      "[BPR(K=500, lr=0.1, reg=0.001, max_iter=2000)] Training started!\n"
     ]
    },
    {
     "data": {
      "application/vnd.jupyter.widget-view+json": {
       "model_id": "af64ca557052413e8a297f0db08f0d0f",
       "version_major": 2,
       "version_minor": 0
      },
      "text/plain": [
       "  0%|          | 0/2000 [00:00<?, ?it/s]"
      ]
     },
     "metadata": {},
     "output_type": "display_data"
    },
    {
     "name": "stdout",
     "output_type": "stream",
     "text": [
      "Optimization finished!\n",
      "\n",
      "[BPR(K=500, lr=0.1, reg=0.001, max_iter=2000)] Evaluation started!\n"
     ]
    },
    {
     "data": {
      "application/vnd.jupyter.widget-view+json": {
       "model_id": "f72e6132ec88469686158695e27cf05a",
       "version_major": 2,
       "version_minor": 0
      },
      "text/plain": [
       "Ranking:   0%|          | 0/11672 [00:00<?, ?it/s]"
      ]
     },
     "metadata": {},
     "output_type": "display_data"
    },
    {
     "name": "stdout",
     "output_type": "stream",
     "text": [
      "BPR(K=500, lr=0.1, reg=0.001, max_iter=2000) model is saved to ./bpr_grid_search\\BPR(K=500, lr=0.1, reg=0.001, max_iter=2000)\\2024-05-17_07-02-09-725185.pkl\n",
      "\n",
      "[BPR(K=500, lr=0.1, reg=0.01, max_iter=100)] Training started!\n"
     ]
    },
    {
     "data": {
      "application/vnd.jupyter.widget-view+json": {
       "model_id": "0aee4e328d90494f9530f55693091996",
       "version_major": 2,
       "version_minor": 0
      },
      "text/plain": [
       "  0%|          | 0/100 [00:00<?, ?it/s]"
      ]
     },
     "metadata": {},
     "output_type": "display_data"
    },
    {
     "name": "stdout",
     "output_type": "stream",
     "text": [
      "Optimization finished!\n",
      "\n",
      "[BPR(K=500, lr=0.1, reg=0.01, max_iter=100)] Evaluation started!\n"
     ]
    },
    {
     "data": {
      "application/vnd.jupyter.widget-view+json": {
       "model_id": "3d94e4c75c394af99a02b1a309738486",
       "version_major": 2,
       "version_minor": 0
      },
      "text/plain": [
       "Ranking:   0%|          | 0/11672 [00:00<?, ?it/s]"
      ]
     },
     "metadata": {},
     "output_type": "display_data"
    },
    {
     "name": "stdout",
     "output_type": "stream",
     "text": [
      "BPR(K=500, lr=0.1, reg=0.01, max_iter=100) model is saved to ./bpr_grid_search\\BPR(K=500, lr=0.1, reg=0.01, max_iter=100)\\2024-05-17_07-02-54-005377.pkl\n",
      "\n",
      "[BPR(K=500, lr=0.1, reg=0.01, max_iter=500)] Training started!\n"
     ]
    },
    {
     "data": {
      "application/vnd.jupyter.widget-view+json": {
       "model_id": "7163f46eaae542e7a0fd6f90ad1dce50",
       "version_major": 2,
       "version_minor": 0
      },
      "text/plain": [
       "  0%|          | 0/500 [00:00<?, ?it/s]"
      ]
     },
     "metadata": {},
     "output_type": "display_data"
    },
    {
     "name": "stdout",
     "output_type": "stream",
     "text": [
      "Optimization finished!\n",
      "\n",
      "[BPR(K=500, lr=0.1, reg=0.01, max_iter=500)] Evaluation started!\n"
     ]
    },
    {
     "data": {
      "application/vnd.jupyter.widget-view+json": {
       "model_id": "8e16e1ed524c43bda110acc12817c385",
       "version_major": 2,
       "version_minor": 0
      },
      "text/plain": [
       "Ranking:   0%|          | 0/11672 [00:00<?, ?it/s]"
      ]
     },
     "metadata": {},
     "output_type": "display_data"
    },
    {
     "name": "stdout",
     "output_type": "stream",
     "text": [
      "BPR(K=500, lr=0.1, reg=0.01, max_iter=500) model is saved to ./bpr_grid_search\\BPR(K=500, lr=0.1, reg=0.01, max_iter=500)\\2024-05-17_07-04-59-231756.pkl\n",
      "\n",
      "[BPR(K=500, lr=0.1, reg=0.01, max_iter=1000)] Training started!\n"
     ]
    },
    {
     "data": {
      "application/vnd.jupyter.widget-view+json": {
       "model_id": "0d8f7f3c9d094373ad0cf619d7afd346",
       "version_major": 2,
       "version_minor": 0
      },
      "text/plain": [
       "  0%|          | 0/1000 [00:00<?, ?it/s]"
      ]
     },
     "metadata": {},
     "output_type": "display_data"
    },
    {
     "name": "stdout",
     "output_type": "stream",
     "text": [
      "Optimization finished!\n",
      "\n",
      "[BPR(K=500, lr=0.1, reg=0.01, max_iter=1000)] Evaluation started!\n"
     ]
    },
    {
     "data": {
      "application/vnd.jupyter.widget-view+json": {
       "model_id": "76ab1ea855a642a7a6ad97dd80ff2170",
       "version_major": 2,
       "version_minor": 0
      },
      "text/plain": [
       "Ranking:   0%|          | 0/11672 [00:00<?, ?it/s]"
      ]
     },
     "metadata": {},
     "output_type": "display_data"
    },
    {
     "name": "stdout",
     "output_type": "stream",
     "text": [
      "BPR(K=500, lr=0.1, reg=0.01, max_iter=1000) model is saved to ./bpr_grid_search\\BPR(K=500, lr=0.1, reg=0.01, max_iter=1000)\\2024-05-17_07-08-58-491206.pkl\n",
      "\n",
      "[BPR(K=500, lr=0.1, reg=0.01, max_iter=2000)] Training started!\n"
     ]
    },
    {
     "data": {
      "application/vnd.jupyter.widget-view+json": {
       "model_id": "ad4baf261fae448f9357049f00e958c8",
       "version_major": 2,
       "version_minor": 0
      },
      "text/plain": [
       "  0%|          | 0/2000 [00:00<?, ?it/s]"
      ]
     },
     "metadata": {},
     "output_type": "display_data"
    },
    {
     "name": "stdout",
     "output_type": "stream",
     "text": [
      "Optimization finished!\n",
      "\n",
      "[BPR(K=500, lr=0.1, reg=0.01, max_iter=2000)] Evaluation started!\n"
     ]
    },
    {
     "data": {
      "application/vnd.jupyter.widget-view+json": {
       "model_id": "db8f4989885c4341a499342d0de7ac3e",
       "version_major": 2,
       "version_minor": 0
      },
      "text/plain": [
       "Ranking:   0%|          | 0/11672 [00:00<?, ?it/s]"
      ]
     },
     "metadata": {},
     "output_type": "display_data"
    },
    {
     "name": "stdout",
     "output_type": "stream",
     "text": [
      "BPR(K=500, lr=0.1, reg=0.01, max_iter=2000) model is saved to ./bpr_grid_search\\BPR(K=500, lr=0.1, reg=0.01, max_iter=2000)\\2024-05-17_07-16-09-518325.pkl\n",
      "\n",
      "[BPR(K=500, lr=0.1, reg=0.1, max_iter=100)] Training started!\n"
     ]
    },
    {
     "data": {
      "application/vnd.jupyter.widget-view+json": {
       "model_id": "a8cc2ce6c57046aea01e86b686c4cecd",
       "version_major": 2,
       "version_minor": 0
      },
      "text/plain": [
       "  0%|          | 0/100 [00:00<?, ?it/s]"
      ]
     },
     "metadata": {},
     "output_type": "display_data"
    },
    {
     "name": "stdout",
     "output_type": "stream",
     "text": [
      "Optimization finished!\n",
      "\n",
      "[BPR(K=500, lr=0.1, reg=0.1, max_iter=100)] Evaluation started!\n"
     ]
    },
    {
     "data": {
      "application/vnd.jupyter.widget-view+json": {
       "model_id": "41b594e82fe24f5196fbc1fb94a356bd",
       "version_major": 2,
       "version_minor": 0
      },
      "text/plain": [
       "Ranking:   0%|          | 0/11672 [00:00<?, ?it/s]"
      ]
     },
     "metadata": {},
     "output_type": "display_data"
    },
    {
     "name": "stdout",
     "output_type": "stream",
     "text": [
      "BPR(K=500, lr=0.1, reg=0.1, max_iter=100) model is saved to ./bpr_grid_search\\BPR(K=500, lr=0.1, reg=0.1, max_iter=100)\\2024-05-17_07-16-52-829909.pkl\n",
      "\n",
      "[BPR(K=500, lr=0.1, reg=0.1, max_iter=500)] Training started!\n"
     ]
    },
    {
     "data": {
      "application/vnd.jupyter.widget-view+json": {
       "model_id": "9473ff0a110645dd806a36c83178ec37",
       "version_major": 2,
       "version_minor": 0
      },
      "text/plain": [
       "  0%|          | 0/500 [00:00<?, ?it/s]"
      ]
     },
     "metadata": {},
     "output_type": "display_data"
    },
    {
     "name": "stdout",
     "output_type": "stream",
     "text": [
      "Optimization finished!\n",
      "\n",
      "[BPR(K=500, lr=0.1, reg=0.1, max_iter=500)] Evaluation started!\n"
     ]
    },
    {
     "data": {
      "application/vnd.jupyter.widget-view+json": {
       "model_id": "ca1733ed3af546e18114343b6da27cc8",
       "version_major": 2,
       "version_minor": 0
      },
      "text/plain": [
       "Ranking:   0%|          | 0/11672 [00:00<?, ?it/s]"
      ]
     },
     "metadata": {},
     "output_type": "display_data"
    },
    {
     "name": "stdout",
     "output_type": "stream",
     "text": [
      "BPR(K=500, lr=0.1, reg=0.1, max_iter=500) model is saved to ./bpr_grid_search\\BPR(K=500, lr=0.1, reg=0.1, max_iter=500)\\2024-05-17_07-19-19-088477.pkl\n",
      "\n",
      "[BPR(K=500, lr=0.1, reg=0.1, max_iter=1000)] Training started!\n"
     ]
    },
    {
     "data": {
      "application/vnd.jupyter.widget-view+json": {
       "model_id": "70903f7907b4473fa2fc00fd0afa80c8",
       "version_major": 2,
       "version_minor": 0
      },
      "text/plain": [
       "  0%|          | 0/1000 [00:00<?, ?it/s]"
      ]
     },
     "metadata": {},
     "output_type": "display_data"
    },
    {
     "name": "stdout",
     "output_type": "stream",
     "text": [
      "Optimization finished!\n",
      "\n",
      "[BPR(K=500, lr=0.1, reg=0.1, max_iter=1000)] Evaluation started!\n"
     ]
    },
    {
     "data": {
      "application/vnd.jupyter.widget-view+json": {
       "model_id": "0cf93573370b475689a774e77f89c08d",
       "version_major": 2,
       "version_minor": 0
      },
      "text/plain": [
       "Ranking:   0%|          | 0/11672 [00:00<?, ?it/s]"
      ]
     },
     "metadata": {},
     "output_type": "display_data"
    },
    {
     "name": "stdout",
     "output_type": "stream",
     "text": [
      "BPR(K=500, lr=0.1, reg=0.1, max_iter=1000) model is saved to ./bpr_grid_search\\BPR(K=500, lr=0.1, reg=0.1, max_iter=1000)\\2024-05-17_07-23-28-977301.pkl\n",
      "\n",
      "[BPR(K=500, lr=0.1, reg=0.1, max_iter=2000)] Training started!\n"
     ]
    },
    {
     "data": {
      "application/vnd.jupyter.widget-view+json": {
       "model_id": "fa8205b1125f47c5b6b1d82bf6c1ccc0",
       "version_major": 2,
       "version_minor": 0
      },
      "text/plain": [
       "  0%|          | 0/2000 [00:00<?, ?it/s]"
      ]
     },
     "metadata": {},
     "output_type": "display_data"
    },
    {
     "name": "stdout",
     "output_type": "stream",
     "text": [
      "Optimization finished!\n",
      "\n",
      "[BPR(K=500, lr=0.1, reg=0.1, max_iter=2000)] Evaluation started!\n"
     ]
    },
    {
     "data": {
      "application/vnd.jupyter.widget-view+json": {
       "model_id": "1acf9a2ae9454ccbaa4e3127db1e9a0c",
       "version_major": 2,
       "version_minor": 0
      },
      "text/plain": [
       "Ranking:   0%|          | 0/11672 [00:00<?, ?it/s]"
      ]
     },
     "metadata": {},
     "output_type": "display_data"
    },
    {
     "name": "stdout",
     "output_type": "stream",
     "text": [
      "BPR(K=500, lr=0.1, reg=0.1, max_iter=2000) model is saved to ./bpr_grid_search\\BPR(K=500, lr=0.1, reg=0.1, max_iter=2000)\\2024-05-17_07-32-23-581490.pkl\n",
      "\n",
      "[BPR(K=500, lr=0.1, reg=1.0, max_iter=100)] Training started!\n"
     ]
    },
    {
     "data": {
      "application/vnd.jupyter.widget-view+json": {
       "model_id": "bb7809d1ef5441458e480bd588237d58",
       "version_major": 2,
       "version_minor": 0
      },
      "text/plain": [
       "  0%|          | 0/100 [00:00<?, ?it/s]"
      ]
     },
     "metadata": {},
     "output_type": "display_data"
    },
    {
     "name": "stdout",
     "output_type": "stream",
     "text": [
      "Optimization finished!\n",
      "\n",
      "[BPR(K=500, lr=0.1, reg=1.0, max_iter=100)] Evaluation started!\n"
     ]
    },
    {
     "data": {
      "application/vnd.jupyter.widget-view+json": {
       "model_id": "ef628530bdfd48beb1c6dd0ed25d834f",
       "version_major": 2,
       "version_minor": 0
      },
      "text/plain": [
       "Ranking:   0%|          | 0/11672 [00:00<?, ?it/s]"
      ]
     },
     "metadata": {},
     "output_type": "display_data"
    },
    {
     "name": "stdout",
     "output_type": "stream",
     "text": [
      "BPR(K=500, lr=0.1, reg=1.0, max_iter=100) model is saved to ./bpr_grid_search\\BPR(K=500, lr=0.1, reg=1.0, max_iter=100)\\2024-05-17_07-33-17-219764.pkl\n",
      "\n",
      "[BPR(K=500, lr=0.1, reg=1.0, max_iter=500)] Training started!\n"
     ]
    },
    {
     "data": {
      "application/vnd.jupyter.widget-view+json": {
       "model_id": "2ca60ef0b4934931ae92c6699c9550c3",
       "version_major": 2,
       "version_minor": 0
      },
      "text/plain": [
       "  0%|          | 0/500 [00:00<?, ?it/s]"
      ]
     },
     "metadata": {},
     "output_type": "display_data"
    },
    {
     "name": "stdout",
     "output_type": "stream",
     "text": [
      "Optimization finished!\n",
      "\n",
      "[BPR(K=500, lr=0.1, reg=1.0, max_iter=500)] Evaluation started!\n"
     ]
    },
    {
     "data": {
      "application/vnd.jupyter.widget-view+json": {
       "model_id": "9d244028ff12414d9ae8c9227ec8ceaf",
       "version_major": 2,
       "version_minor": 0
      },
      "text/plain": [
       "Ranking:   0%|          | 0/11672 [00:00<?, ?it/s]"
      ]
     },
     "metadata": {},
     "output_type": "display_data"
    },
    {
     "name": "stdout",
     "output_type": "stream",
     "text": [
      "BPR(K=500, lr=0.1, reg=1.0, max_iter=500) model is saved to ./bpr_grid_search\\BPR(K=500, lr=0.1, reg=1.0, max_iter=500)\\2024-05-17_08-28-11-469311.pkl\n",
      "\n",
      "[BPR(K=500, lr=0.1, reg=1.0, max_iter=1000)] Training started!\n"
     ]
    },
    {
     "data": {
      "application/vnd.jupyter.widget-view+json": {
       "model_id": "cc774a9bedf44465916b6322f0c4359f",
       "version_major": 2,
       "version_minor": 0
      },
      "text/plain": [
       "  0%|          | 0/1000 [00:00<?, ?it/s]"
      ]
     },
     "metadata": {},
     "output_type": "display_data"
    },
    {
     "ename": "KeyboardInterrupt",
     "evalue": "",
     "output_type": "error",
     "traceback": [
      "\u001b[1;31m---------------------------------------------------------------------------\u001b[0m",
      "\u001b[1;31mKeyboardInterrupt\u001b[0m                         Traceback (most recent call last)",
      "Cell \u001b[1;32mIn[3], line 46\u001b[0m\n\u001b[0;32m     40\u001b[0m rs \u001b[38;5;241m=\u001b[39m RatioSplit(data_list, test_size\u001b[38;5;241m=\u001b[39m\u001b[38;5;241m0.1\u001b[39m, seed\u001b[38;5;241m=\u001b[39mSEED, verbose\u001b[38;5;241m=\u001b[39mVERBOSE)\n\u001b[0;32m     42\u001b[0m experiment \u001b[38;5;241m=\u001b[39m cornac\u001b[38;5;241m.\u001b[39mExperiment(\n\u001b[0;32m     43\u001b[0m     eval_method\u001b[38;5;241m=\u001b[39mrs, models\u001b[38;5;241m=\u001b[39mmodels, metrics\u001b[38;5;241m=\u001b[39meval_metrics, save_dir\u001b[38;5;241m=\u001b[39m\u001b[38;5;124m\"\u001b[39m\u001b[38;5;124m./bpr_grid_search\u001b[39m\u001b[38;5;124m\"\u001b[39m\n\u001b[0;32m     44\u001b[0m )\n\u001b[1;32m---> 46\u001b[0m \u001b[43mexperiment\u001b[49m\u001b[38;5;241;43m.\u001b[39;49m\u001b[43mrun\u001b[49m\u001b[43m(\u001b[49m\u001b[43m)\u001b[49m\n",
      "File \u001b[1;32mc:\\Users\\dongh\\.conda\\envs\\llm-perf-bench\\Lib\\site-packages\\cornac\\experiment\\experiment.py:142\u001b[0m, in \u001b[0;36mExperiment.run\u001b[1;34m(self)\u001b[0m\n\u001b[0;32m    139\u001b[0m         model\u001b[38;5;241m.\u001b[39mverbose \u001b[38;5;241m=\u001b[39m \u001b[38;5;28mself\u001b[39m\u001b[38;5;241m.\u001b[39mverbose\n\u001b[0;32m    141\u001b[0m \u001b[38;5;28;01mfor\u001b[39;00m model \u001b[38;5;129;01min\u001b[39;00m \u001b[38;5;28mself\u001b[39m\u001b[38;5;241m.\u001b[39mmodels:\n\u001b[1;32m--> 142\u001b[0m     test_result, val_result \u001b[38;5;241m=\u001b[39m \u001b[38;5;28;43mself\u001b[39;49m\u001b[38;5;241;43m.\u001b[39;49m\u001b[43meval_method\u001b[49m\u001b[38;5;241;43m.\u001b[39;49m\u001b[43mevaluate\u001b[49m\u001b[43m(\u001b[49m\n\u001b[0;32m    143\u001b[0m \u001b[43m        \u001b[49m\u001b[43mmodel\u001b[49m\u001b[38;5;241;43m=\u001b[39;49m\u001b[43mmodel\u001b[49m\u001b[43m,\u001b[49m\n\u001b[0;32m    144\u001b[0m \u001b[43m        \u001b[49m\u001b[43mmetrics\u001b[49m\u001b[38;5;241;43m=\u001b[39;49m\u001b[38;5;28;43mself\u001b[39;49m\u001b[38;5;241;43m.\u001b[39;49m\u001b[43mmetrics\u001b[49m\u001b[43m,\u001b[49m\n\u001b[0;32m    145\u001b[0m \u001b[43m        \u001b[49m\u001b[43muser_based\u001b[49m\u001b[38;5;241;43m=\u001b[39;49m\u001b[38;5;28;43mself\u001b[39;49m\u001b[38;5;241;43m.\u001b[39;49m\u001b[43muser_based\u001b[49m\u001b[43m,\u001b[49m\n\u001b[0;32m    146\u001b[0m \u001b[43m        \u001b[49m\u001b[43mshow_validation\u001b[49m\u001b[38;5;241;43m=\u001b[39;49m\u001b[38;5;28;43mself\u001b[39;49m\u001b[38;5;241;43m.\u001b[39;49m\u001b[43mshow_validation\u001b[49m\u001b[43m,\u001b[49m\n\u001b[0;32m    147\u001b[0m \u001b[43m    \u001b[49m\u001b[43m)\u001b[49m\n\u001b[0;32m    149\u001b[0m     \u001b[38;5;28mself\u001b[39m\u001b[38;5;241m.\u001b[39mresult\u001b[38;5;241m.\u001b[39mappend(test_result)\n\u001b[0;32m    150\u001b[0m     \u001b[38;5;28;01mif\u001b[39;00m \u001b[38;5;28mself\u001b[39m\u001b[38;5;241m.\u001b[39mval_result \u001b[38;5;129;01mis\u001b[39;00m \u001b[38;5;129;01mnot\u001b[39;00m \u001b[38;5;28;01mNone\u001b[39;00m:\n",
      "File \u001b[1;32mc:\\Users\\dongh\\.conda\\envs\\llm-perf-bench\\Lib\\site-packages\\cornac\\eval_methods\\base_method.py:734\u001b[0m, in \u001b[0;36mBaseMethod.evaluate\u001b[1;34m(self, model, metrics, user_based, show_validation)\u001b[0m\n\u001b[0;32m    731\u001b[0m     \u001b[38;5;28mprint\u001b[39m(\u001b[38;5;124m\"\u001b[39m\u001b[38;5;130;01m\\n\u001b[39;00m\u001b[38;5;124m[\u001b[39m\u001b[38;5;132;01m{}\u001b[39;00m\u001b[38;5;124m] Training started!\u001b[39m\u001b[38;5;124m\"\u001b[39m\u001b[38;5;241m.\u001b[39mformat(model\u001b[38;5;241m.\u001b[39mname))\n\u001b[0;32m    733\u001b[0m start \u001b[38;5;241m=\u001b[39m time\u001b[38;5;241m.\u001b[39mtime()\n\u001b[1;32m--> 734\u001b[0m \u001b[43mmodel\u001b[49m\u001b[38;5;241;43m.\u001b[39;49m\u001b[43mfit\u001b[49m\u001b[43m(\u001b[49m\u001b[38;5;28;43mself\u001b[39;49m\u001b[38;5;241;43m.\u001b[39;49m\u001b[43mtrain_set\u001b[49m\u001b[43m,\u001b[49m\u001b[43m \u001b[49m\u001b[38;5;28;43mself\u001b[39;49m\u001b[38;5;241;43m.\u001b[39;49m\u001b[43mval_set\u001b[49m\u001b[43m)\u001b[49m\n\u001b[0;32m    735\u001b[0m train_time \u001b[38;5;241m=\u001b[39m time\u001b[38;5;241m.\u001b[39mtime() \u001b[38;5;241m-\u001b[39m start\n\u001b[0;32m    737\u001b[0m \u001b[38;5;66;03m##############\u001b[39;00m\n\u001b[0;32m    738\u001b[0m \u001b[38;5;66;03m# EVALUATION #\u001b[39;00m\n\u001b[0;32m    739\u001b[0m \u001b[38;5;66;03m##############\u001b[39;00m\n",
      "File \u001b[1;32mcornac\\\\models\\\\bpr\\\\recom_bpr.pyx:191\u001b[0m, in \u001b[0;36mcornac.models.bpr.recom_bpr.BPR.fit\u001b[1;34m()\u001b[0m\n",
      "File \u001b[1;32mcornac\\\\models\\\\bpr\\\\recom_bpr.pyx:196\u001b[0m, in \u001b[0;36mcornac.models.bpr.recom_bpr.BPR.fit\u001b[1;34m()\u001b[0m\n",
      "File \u001b[1;32mc:\\Users\\dongh\\.conda\\envs\\llm-perf-bench\\Lib\\site-packages\\tqdm\\std.py:1402\u001b[0m, in \u001b[0;36mtqdm.set_postfix\u001b[1;34m(self, ordered_dict, refresh, **kwargs)\u001b[0m\n\u001b[0;32m   1399\u001b[0m     \u001b[38;5;28;01mif\u001b[39;00m refresh:\n\u001b[0;32m   1400\u001b[0m         \u001b[38;5;28mself\u001b[39m\u001b[38;5;241m.\u001b[39mrefresh()\n\u001b[1;32m-> 1402\u001b[0m \u001b[38;5;28;01mdef\u001b[39;00m \u001b[38;5;21mset_postfix\u001b[39m(\u001b[38;5;28mself\u001b[39m, ordered_dict\u001b[38;5;241m=\u001b[39m\u001b[38;5;28;01mNone\u001b[39;00m, refresh\u001b[38;5;241m=\u001b[39m\u001b[38;5;28;01mTrue\u001b[39;00m, \u001b[38;5;241m*\u001b[39m\u001b[38;5;241m*\u001b[39mkwargs):\n\u001b[0;32m   1403\u001b[0m \u001b[38;5;250m    \u001b[39m\u001b[38;5;124;03m\"\"\"\u001b[39;00m\n\u001b[0;32m   1404\u001b[0m \u001b[38;5;124;03m    Set/modify postfix (additional stats)\u001b[39;00m\n\u001b[0;32m   1405\u001b[0m \u001b[38;5;124;03m    with automatic formatting based on datatype.\u001b[39;00m\n\u001b[1;32m   (...)\u001b[0m\n\u001b[0;32m   1412\u001b[0m \u001b[38;5;124;03m    kwargs  : dict, optional\u001b[39;00m\n\u001b[0;32m   1413\u001b[0m \u001b[38;5;124;03m    \"\"\"\u001b[39;00m\n\u001b[0;32m   1414\u001b[0m     \u001b[38;5;66;03m# Sort in alphabetical order to be more deterministic\u001b[39;00m\n",
      "\u001b[1;31mKeyboardInterrupt\u001b[0m: "
     ]
    }
   ],
   "source": [
    "from cornac.models import BPR\n",
    "from cornac.eval_methods import RatioSplit\n",
    "import pandas as pd\n",
    "\n",
    "param_grid = {\n",
    "    \"num_factors\": [100, 200, 500, 1000],\n",
    "    \"learning_rate\": [0.001, 0.01, 0.1],\n",
    "    \"regularization\": [0.001, 0.01, 0.1, 1.0],\n",
    "    \"max_iter\": [100, 500, 1000, 2000],\n",
    "}\n",
    "\n",
    "models = []\n",
    "for K in param_grid[\"num_factors\"]:\n",
    "    for lr in param_grid[\"learning_rate\"]:\n",
    "        for reg in param_grid[\"regularization\"]:\n",
    "            for max_iter in param_grid[\"max_iter\"]:\n",
    "                bpr = BPR(\n",
    "                    k=K,\n",
    "                    max_iter=max_iter,\n",
    "                    learning_rate=lr,\n",
    "                    lambda_reg=reg,\n",
    "                    verbose=VERBOSE,\n",
    "                    seed=SEED,\n",
    "                    name=f\"BPR(K={K}, lr={lr}, reg={reg}, max_iter={max_iter})\",\n",
    "                )\n",
    "\n",
    "                models.append(bpr)\n",
    "\n",
    "eval_metrics = [\n",
    "    cornac.metrics.Recall(k=50),\n",
    "    cornac.metrics.NDCG(k=50),\n",
    "    cornac.metrics.NCRR(k=50),\n",
    "]\n",
    "\n",
    "df = pd.read_csv(\"./cs608_ip_train_v3.csv\")\n",
    "df1 = pd.read_csv(\"./cs608_ip_probe_v3.csv\")\n",
    "data_list = df.values.tolist()\n",
    "data_val = df1.values.tolist()\n",
    "\n",
    "rs = RatioSplit(data_list, test_size=0.1, seed=SEED, verbose=VERBOSE)\n",
    "\n",
    "experiment = cornac.Experiment(\n",
    "    eval_method=rs, models=models, metrics=eval_metrics, save_dir=\"./bpr_grid_search\"\n",
    ")\n",
    "\n",
    "experiment.run()"
   ]
  },
  {
   "cell_type": "code",
   "execution_count": 12,
   "id": "bd2a74f9",
   "metadata": {},
   "outputs": [
    {
     "data": {
      "text/plain": [
       "0.058804512494968306"
      ]
     },
     "execution_count": 12,
     "metadata": {},
     "output_type": "execute_result"
    }
   ],
   "source": [
    "experiment.result[0].metric_avg_results[\"Recall@50\"]"
   ]
  },
  {
   "cell_type": "code",
   "execution_count": 15,
   "id": "3f9c7493",
   "metadata": {},
   "outputs": [
    {
     "data": {
      "text/plain": [
       "OrderedDict([('NCRR@50', 0.008359017381415394),\n",
       "             ('NDCG@50', 0.018759980685427433),\n",
       "             ('Recall@50', 0.058804512494968306),\n",
       "             ('Train (s)', 6.8500635623931885),\n",
       "             ('Test (s)', 17.362431526184082)])"
      ]
     },
     "execution_count": 15,
     "metadata": {},
     "output_type": "execute_result"
    }
   ],
   "source": [
    "experiment.result[0].metric_avg_results"
   ]
  },
  {
   "cell_type": "code",
   "execution_count": 17,
   "id": "78d953d7",
   "metadata": {},
   "outputs": [
    {
     "name": "stdout",
     "output_type": "stream",
     "text": [
      "Best model: BPR(K=500, lr=0.1, reg=0.01, max_iter=1000)\n",
      "Best Recall@50: 0.13464792599259687\n"
     ]
    }
   ],
   "source": [
    "best_rec50 = 0\n",
    "best_model = None\n",
    "for r in experiment.result:\n",
    "    # print(r)\n",
    "    if r.metric_avg_results[\"Recall@50\"] > best_rec50:\n",
    "        best_rec50 = r.metric_avg_results[\"Recall@50\"]\n",
    "        best_model = r.model_name\n",
    "\n",
    "print(f\"Best model: {best_model}\")\n",
    "print(f\"Best Recall@50: {best_rec50}\")"
   ]
  }
 ],
 "metadata": {
  "kernelspec": {
   "display_name": "Python 3 (ipykernel)",
   "language": "python",
   "name": "python3"
  },
  "language_info": {
   "codemirror_mode": {
    "name": "ipython",
    "version": 3
   },
   "file_extension": ".py",
   "mimetype": "text/x-python",
   "name": "python",
   "nbconvert_exporter": "python",
   "pygments_lexer": "ipython3",
   "version": "3.11.9"
  }
 },
 "nbformat": 4,
 "nbformat_minor": 5
}

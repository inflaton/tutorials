{
 "cells": [
  {
   "cell_type": "code",
   "execution_count": 1,
   "id": "fac852af-bfc4-4c8d-9a78-3de0d4dcd96f",
   "metadata": {},
   "outputs": [
    {
     "name": "stdout",
     "output_type": "stream",
     "text": [
      "System version: 3.11.9 | packaged by Anaconda, Inc. | (main, Apr 19 2024, 16:40:41) [MSC v.1916 64 bit (AMD64)]\n",
      "Cornac version: 2.1\n",
      "Tensorflow version: 2.16.1\n"
     ]
    }
   ],
   "source": [
    "import sys\n",
    "import cornac\n",
    "import tensorflow as tf\n",
    "\n",
    "print(f\"System version: {sys.version}\")\n",
    "print(f\"Cornac version: {cornac.__version__}\")\n",
    "print(f\"Tensorflow version: {tf.__version__}\")\n",
    "\n",
    "SEED = 20240514\n",
    "VERBOSE = True"
   ]
  },
  {
   "cell_type": "code",
   "execution_count": 2,
   "id": "cb90e596",
   "metadata": {},
   "outputs": [
    {
     "name": "stdout",
     "output_type": "stream",
     "text": [
      "rating_threshold = 1.0\n",
      "exclude_unknowns = True\n",
      "---\n",
      "Training data:\n",
      "Number of users = 21124\n",
      "Number of items = 29665\n",
      "Number of ratings = 225055\n",
      "Max rating = 5.0\n",
      "Min rating = 1.0\n",
      "Global mean = 4.3\n",
      "---\n",
      "Test data:\n",
      "Number of users = 21124\n",
      "Number of items = 29665\n",
      "Number of ratings = 27175\n",
      "Number of unknown users = 0\n",
      "Number of unknown items = 0\n",
      "---\n",
      "Validation data:\n",
      "Number of users = 21124\n",
      "Number of items = 29665\n",
      "Number of ratings = 27216\n",
      "---\n",
      "Total users = 21124\n",
      "Total items = 29665\n"
     ]
    }
   ],
   "source": [
    "import cornac\n",
    "import pandas as pd\n",
    "from cornac.eval_methods import RatioSplit\n",
    "from cornac.models import BPR\n",
    "from cornac.metrics import Precision, Recall\n",
    "\n",
    "df = pd.read_csv(\"./cs608_ip_train_v3.csv\")\n",
    "df1 = pd.read_csv(\"./cs608_ip_probe_v3.csv\")\n",
    "data_train = df.values.tolist()\n",
    "data_val = df1.values.tolist()\n",
    "data = data_train + data_val\n",
    "\n",
    "# Split the data into training, validation and testing sets\n",
    "rs = RatioSplit(data=data, test_size=0.1, val_size=0.1, seed=SEED, verbose=VERBOSE)\n",
    "\n",
    "# Instantiate Recall@100 for evaluation\n",
    "rec50 = cornac.metrics.Recall(50)\n",
    "\n",
    "# Instantiate a matrix factorization model (e.g., BPR)\n",
    "bpr = BPR(\n",
    "    k=500, max_iter=1000, learning_rate=0.1, lambda_reg=0.01, seed=SEED, verbose=VERBOSE\n",
    ")"
   ]
  },
  {
   "cell_type": "code",
   "execution_count": 3,
   "id": "36a0418a",
   "metadata": {},
   "outputs": [
    {
     "data": {
      "text/plain": [
       "(281321, 188656, 92665)"
      ]
     },
     "execution_count": 3,
     "metadata": {},
     "output_type": "execute_result"
    }
   ],
   "source": [
    "len(data), len(data_train), len(data_val)"
   ]
  },
  {
   "cell_type": "code",
   "execution_count": 4,
   "id": "c5d7ed6d",
   "metadata": {},
   "outputs": [],
   "source": [
    "from cornac.hyperopt import Discrete, Continuous\n",
    "from cornac.hyperopt import GridSearch, RandomSearch\n",
    "\n",
    "# Grid Search\n",
    "gs_bpr = GridSearch(\n",
    "    model=bpr,\n",
    "    space=[\n",
    "        Discrete(name=\"max_iter\", values=[500, 1000, 1500, 2000]),\n",
    "    ],\n",
    "    metric=rec50,\n",
    "    eval_method=rs,\n",
    ")"
   ]
  },
  {
   "cell_type": "code",
   "execution_count": 5,
   "id": "217b78fa-7390-4287-8cb1-b407cf6ed5b6",
   "metadata": {},
   "outputs": [
    {
     "name": "stdout",
     "output_type": "stream",
     "text": [
      "\n",
      "[GridSearch_BPR] Training started!\n",
      "Evaluating: {'max_iter': 500}\n"
     ]
    },
    {
     "data": {
      "application/vnd.jupyter.widget-view+json": {
       "model_id": "215db77136b541199bdcaf0656e7597a",
       "version_major": 2,
       "version_minor": 0
      },
      "text/plain": [
       "  0%|          | 0/500 [00:00<?, ?it/s]"
      ]
     },
     "metadata": {},
     "output_type": "display_data"
    },
    {
     "name": "stdout",
     "output_type": "stream",
     "text": [
      "Optimization finished!\n",
      "Evaluating: {'max_iter': 1000}\n"
     ]
    },
    {
     "data": {
      "application/vnd.jupyter.widget-view+json": {
       "model_id": "23d4334ef4214d51858c575571f1ba49",
       "version_major": 2,
       "version_minor": 0
      },
      "text/plain": [
       "  0%|          | 0/1000 [00:00<?, ?it/s]"
      ]
     },
     "metadata": {},
     "output_type": "display_data"
    },
    {
     "name": "stdout",
     "output_type": "stream",
     "text": [
      "Optimization finished!\n",
      "Evaluating: {'max_iter': 1500}\n"
     ]
    },
    {
     "data": {
      "application/vnd.jupyter.widget-view+json": {
       "model_id": "fb9faf4c8c2f4ca3837ee1a94f27ed05",
       "version_major": 2,
       "version_minor": 0
      },
      "text/plain": [
       "  0%|          | 0/1500 [00:00<?, ?it/s]"
      ]
     },
     "metadata": {},
     "output_type": "display_data"
    },
    {
     "name": "stdout",
     "output_type": "stream",
     "text": [
      "Optimization finished!\n",
      "Evaluating: {'max_iter': 2000}\n"
     ]
    },
    {
     "data": {
      "application/vnd.jupyter.widget-view+json": {
       "model_id": "b67fea9ddc194094be0483687ef017ac",
       "version_major": 2,
       "version_minor": 0
      },
      "text/plain": [
       "  0%|          | 0/2000 [00:00<?, ?it/s]"
      ]
     },
     "metadata": {},
     "output_type": "display_data"
    },
    {
     "name": "stdout",
     "output_type": "stream",
     "text": [
      "Optimization finished!\n",
      "Best parameter settings: {'max_iter': 2000}\n",
      "Recall@50 = 0.1542\n",
      "\n",
      "[GridSearch_BPR] Evaluation started!\n"
     ]
    },
    {
     "data": {
      "application/vnd.jupyter.widget-view+json": {
       "model_id": "c45dab55dc8e427db8ba1e6db0573e4f",
       "version_major": 2,
       "version_minor": 0
      },
      "text/plain": [
       "Ranking:   0%|          | 0/14807 [00:00<?, ?it/s]"
      ]
     },
     "metadata": {},
     "output_type": "display_data"
    },
    {
     "data": {
      "application/vnd.jupyter.widget-view+json": {
       "model_id": "02a315b88f8648b3832c5c2559b13ae1",
       "version_major": 2,
       "version_minor": 0
      },
      "text/plain": [
       "Ranking:   0%|          | 0/14844 [00:00<?, ?it/s]"
      ]
     },
     "metadata": {},
     "output_type": "display_data"
    },
    {
     "name": "stdout",
     "output_type": "stream",
     "text": [
      "\n",
      "VALIDATION:\n",
      "...\n",
      "               | Recall@50 | Time (s)\n",
      "-------------- + --------- + --------\n",
      "GridSearch_BPR |    0.1542 |  30.3790\n",
      "\n",
      "TEST:\n",
      "...\n",
      "               | Recall@50 | Train (s) | Test (s)\n",
      "-------------- + --------- + --------- + --------\n",
      "GridSearch_BPR |    0.1509 | 1769.6880 |  31.1797\n",
      "\n",
      "{'max_iter': 2000}\n"
     ]
    }
   ],
   "source": [
    "# Define the experiment\n",
    "cornac.Experiment(\n",
    "    eval_method=rs,\n",
    "    models=[gs_bpr],\n",
    "    metrics=[rec50],\n",
    "    user_based=False,\n",
    ").run()\n",
    "\n",
    "# Obtain the best params\n",
    "print(gs_bpr.best_params)"
   ]
  },
  {
   "cell_type": "code",
   "execution_count": 6,
   "id": "d2e556b3",
   "metadata": {},
   "outputs": [
    {
     "name": "stdout",
     "output_type": "stream",
     "text": [
      "BPR model is saved to bpr_best_model\\BPR\\2024-05-17_21-44-36-533646.pkl\n"
     ]
    },
    {
     "data": {
      "text/plain": [
       "'bpr_best_model\\\\BPR\\\\2024-05-17_21-44-36-533646.pkl'"
      ]
     },
     "execution_count": 6,
     "metadata": {},
     "output_type": "execute_result"
    }
   ],
   "source": [
    "gs_bpr.best_model.save(\"bpr_best_model\")"
   ]
  },
  {
   "cell_type": "code",
   "execution_count": 7,
   "id": "267af5e3",
   "metadata": {},
   "outputs": [],
   "source": [
    "from tqdm.notebook import tqdm\n",
    "\n",
    "import zipfile\n",
    "\n",
    "\n",
    "def generate_submission(bpr):\n",
    "    print(f\"Generating recommendations using {bpr.name}...\")\n",
    "    df = pd.read_csv(\"./cs608_ip_train_v3.csv\")\n",
    "\n",
    "    # Sort the DataFrame by 'user_id' in ascending order\n",
    "    df_sorted = df.sort_values(by=\"user_id\")\n",
    "\n",
    "    # Extract unique user IDs sorted in ascending order\n",
    "    user_ids = df_sorted[\"user_id\"].unique()\n",
    "\n",
    "    # Generate recommendations for all users\n",
    "    top_k_recommendations = []\n",
    "    for user_id in tqdm(user_ids):\n",
    "        recs = bpr.recommend(user_id=user_id, k=50)\n",
    "        top_k_recommendations.append(recs)\n",
    "\n",
    "    with open(\"submission.txt\", \"w\") as file:\n",
    "        for user_recommendations in top_k_recommendations:\n",
    "            file.write(\" \".join(map(str, user_recommendations)) + \"\\n\")\n",
    "\n",
    "    # zip the submission file\n",
    "    with zipfile.ZipFile(\"submission.zip\", \"w\") as file:\n",
    "        file.write(\"submission.txt\")"
   ]
  },
  {
   "cell_type": "code",
   "execution_count": 8,
   "id": "157cbf8a",
   "metadata": {},
   "outputs": [
    {
     "name": "stdout",
     "output_type": "stream",
     "text": [
      "Generating recommendations using BPR...\n"
     ]
    },
    {
     "data": {
      "application/vnd.jupyter.widget-view+json": {
       "model_id": "93aba4f8a9cb4d758beb00ca9935d789",
       "version_major": 2,
       "version_minor": 0
      },
      "text/plain": [
       "  0%|          | 0/21124 [00:00<?, ?it/s]"
      ]
     },
     "metadata": {},
     "output_type": "display_data"
    }
   ],
   "source": [
    "generate_submission(gs_bpr.best_model)"
   ]
  }
 ],
 "metadata": {
  "kernelspec": {
   "display_name": "Python 3 (ipykernel)",
   "language": "python",
   "name": "python3"
  },
  "language_info": {
   "codemirror_mode": {
    "name": "ipython",
    "version": 3
   },
   "file_extension": ".py",
   "mimetype": "text/x-python",
   "name": "python",
   "nbconvert_exporter": "python",
   "pygments_lexer": "ipython3",
   "version": "3.11.9"
  }
 },
 "nbformat": 4,
 "nbformat_minor": 5
}

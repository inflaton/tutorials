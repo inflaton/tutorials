{
 "cells": [
  {
   "cell_type": "code",
   "execution_count": 1,
   "metadata": {},
   "outputs": [
    {
     "name": "stdout",
     "output_type": "stream",
     "text": [
      "System version: 3.11.9 | packaged by Anaconda, Inc. | (main, Apr 19 2024, 16:40:41) [MSC v.1916 64 bit (AMD64)]\n",
      "Cornac version: 2.1\n",
      "Tensorflow version: 2.16.1\n"
     ]
    }
   ],
   "source": [
    "import sys\n",
    "import cornac\n",
    "import tensorflow as tf\n",
    "\n",
    "print(f\"System version: {sys.version}\")\n",
    "print(f\"Cornac version: {cornac.__version__}\")\n",
    "print(f\"Tensorflow version: {tf.__version__}\")\n",
    "\n",
    "SEED = 20240516\n",
    "VERBOSE = True"
   ]
  },
  {
   "cell_type": "code",
   "execution_count": 2,
   "metadata": {},
   "outputs": [
    {
     "name": "stdout",
     "output_type": "stream",
     "text": [
      "rating_threshold = 1.0\n",
      "exclude_unknowns = True\n",
      "---\n",
      "Training data:\n",
      "Number of users = 21124\n",
      "Number of items = 29781\n",
      "Number of ratings = 225055\n",
      "Max rating = 5.0\n",
      "Min rating = 1.0\n",
      "Global mean = 4.3\n",
      "---\n",
      "Test data:\n",
      "Number of users = 21124\n",
      "Number of items = 29781\n",
      "Number of ratings = 27263\n",
      "Number of unknown users = 0\n",
      "Number of unknown items = 0\n",
      "---\n",
      "Validation data:\n",
      "Number of users = 21124\n",
      "Number of items = 29781\n",
      "Number of ratings = 27295\n",
      "---\n",
      "Total users = 21124\n",
      "Total items = 29781\n"
     ]
    }
   ],
   "source": [
    "import cornac\n",
    "import pandas as pd\n",
    "from cornac.eval_methods import RatioSplit\n",
    "from cornac.models import BPR\n",
    "from cornac.metrics import Precision, Recall\n",
    "\n",
    "df = pd.read_csv(\"./cs608_ip_train_v3.csv\")\n",
    "df1 = pd.read_csv(\"./cs608_ip_probe_v3.csv\")\n",
    "data_train = df.values.tolist()\n",
    "data_val = df1.values.tolist()\n",
    "data = data_train + data_val\n",
    "\n",
    "# Split the data into training, validation and testing sets\n",
    "rs = RatioSplit(data=data, test_size=0.1, val_size=0.1, seed=SEED, verbose=VERBOSE)\n",
    "\n",
    "# Instantiate Recall@100 for evaluation\n",
    "rec50 = cornac.metrics.Recall(50)\n",
    "\n",
    "# Instantiate a matrix factorization model (e.g., BPR)\n",
    "bpr = BPR(\n",
    "    k=1000, max_iter=3000, learning_rate=0.05, lambda_reg=0.01, seed=SEED, verbose=VERBOSE\n",
    ")"
   ]
  },
  {
   "cell_type": "code",
   "execution_count": 4,
   "metadata": {},
   "outputs": [],
   "source": [
    "from cornac.hyperopt import Discrete, Continuous\n",
    "from cornac.hyperopt import GridSearch, RandomSearch\n",
    "\n",
    "# Grid Search\n",
    "gs_bpr = GridSearch(\n",
    "    model=bpr,\n",
    "    space=[\n",
    "        Discrete(name=\"k\", values=[1000, 2000, 3000]),\n",
    "        Discrete(name=\"learning_rate\", values=[0.01, 0.05, 0.1]),\n",
    "        Discrete(name=\"lambda_reg\", values=[0.01]),\n",
    "        Discrete(name=\"max_iter\", values=[3000, 4000, 5000]),\n",
    "    ],\n",
    "    metric=rec50,\n",
    "    eval_method=rs,\n",
    ")"
   ]
  },
  {
   "cell_type": "code",
   "execution_count": 5,
   "metadata": {},
   "outputs": [
    {
     "name": "stdout",
     "output_type": "stream",
     "text": [
      "\n",
      "[GridSearch_BPR] Training started!\n",
      "Evaluating: {'k': 1000, 'lambda_reg': 0.01, 'learning_rate': 0.01, 'max_iter': 3000}\n"
     ]
    },
    {
     "data": {
      "application/vnd.jupyter.widget-view+json": {
       "model_id": "6596c7769c4d4e7da35f15068d5b9ff9",
       "version_major": 2,
       "version_minor": 0
      },
      "text/plain": [
       "  0%|          | 0/3000 [00:00<?, ?it/s]"
      ]
     },
     "metadata": {},
     "output_type": "display_data"
    },
    {
     "name": "stdout",
     "output_type": "stream",
     "text": [
      "Optimization finished!\n",
      "Evaluating: {'k': 1000, 'lambda_reg': 0.01, 'learning_rate': 0.01, 'max_iter': 4000}\n"
     ]
    },
    {
     "data": {
      "application/vnd.jupyter.widget-view+json": {
       "model_id": "4920dcfde50944b8941d7cdc7b1709e6",
       "version_major": 2,
       "version_minor": 0
      },
      "text/plain": [
       "  0%|          | 0/4000 [00:00<?, ?it/s]"
      ]
     },
     "metadata": {},
     "output_type": "display_data"
    },
    {
     "name": "stdout",
     "output_type": "stream",
     "text": [
      "Optimization finished!\n",
      "Evaluating: {'k': 1000, 'lambda_reg': 0.01, 'learning_rate': 0.01, 'max_iter': 5000}\n"
     ]
    },
    {
     "data": {
      "application/vnd.jupyter.widget-view+json": {
       "model_id": "d9e1b1bd9ecb4445a04c726391fbb415",
       "version_major": 2,
       "version_minor": 0
      },
      "text/plain": [
       "  0%|          | 0/5000 [00:00<?, ?it/s]"
      ]
     },
     "metadata": {},
     "output_type": "display_data"
    },
    {
     "name": "stdout",
     "output_type": "stream",
     "text": [
      "Optimization finished!\n",
      "Evaluating: {'k': 1000, 'lambda_reg': 0.01, 'learning_rate': 0.05, 'max_iter': 3000}\n"
     ]
    },
    {
     "data": {
      "application/vnd.jupyter.widget-view+json": {
       "model_id": "bd40934fb8fb4e7e9cefe1ff6c6b1263",
       "version_major": 2,
       "version_minor": 0
      },
      "text/plain": [
       "  0%|          | 0/3000 [00:00<?, ?it/s]"
      ]
     },
     "metadata": {},
     "output_type": "display_data"
    },
    {
     "name": "stdout",
     "output_type": "stream",
     "text": [
      "Optimization finished!\n",
      "Evaluating: {'k': 1000, 'lambda_reg': 0.01, 'learning_rate': 0.05, 'max_iter': 4000}\n"
     ]
    },
    {
     "data": {
      "application/vnd.jupyter.widget-view+json": {
       "model_id": "69d5e6909dad4ac3b13804f8019cfd65",
       "version_major": 2,
       "version_minor": 0
      },
      "text/plain": [
       "  0%|          | 0/4000 [00:00<?, ?it/s]"
      ]
     },
     "metadata": {},
     "output_type": "display_data"
    },
    {
     "name": "stdout",
     "output_type": "stream",
     "text": [
      "Optimization finished!\n",
      "Evaluating: {'k': 1000, 'lambda_reg': 0.01, 'learning_rate': 0.05, 'max_iter': 5000}\n"
     ]
    },
    {
     "data": {
      "application/vnd.jupyter.widget-view+json": {
       "model_id": "5edc733811994f43afe23992cf6917ae",
       "version_major": 2,
       "version_minor": 0
      },
      "text/plain": [
       "  0%|          | 0/5000 [00:00<?, ?it/s]"
      ]
     },
     "metadata": {},
     "output_type": "display_data"
    },
    {
     "name": "stdout",
     "output_type": "stream",
     "text": [
      "Optimization finished!\n",
      "Evaluating: {'k': 1000, 'lambda_reg': 0.01, 'learning_rate': 0.1, 'max_iter': 3000}\n"
     ]
    },
    {
     "data": {
      "application/vnd.jupyter.widget-view+json": {
       "model_id": "4afb9bdd63df45d7a9fe591e53bc4f41",
       "version_major": 2,
       "version_minor": 0
      },
      "text/plain": [
       "  0%|          | 0/3000 [00:00<?, ?it/s]"
      ]
     },
     "metadata": {},
     "output_type": "display_data"
    },
    {
     "name": "stdout",
     "output_type": "stream",
     "text": [
      "Optimization finished!\n",
      "Evaluating: {'k': 1000, 'lambda_reg': 0.01, 'learning_rate': 0.1, 'max_iter': 4000}\n"
     ]
    },
    {
     "data": {
      "application/vnd.jupyter.widget-view+json": {
       "model_id": "3f8b6ae614ba4582af3bef6bb9009526",
       "version_major": 2,
       "version_minor": 0
      },
      "text/plain": [
       "  0%|          | 0/4000 [00:00<?, ?it/s]"
      ]
     },
     "metadata": {},
     "output_type": "display_data"
    },
    {
     "name": "stdout",
     "output_type": "stream",
     "text": [
      "Optimization finished!\n",
      "Evaluating: {'k': 1000, 'lambda_reg': 0.01, 'learning_rate': 0.1, 'max_iter': 5000}\n"
     ]
    },
    {
     "data": {
      "application/vnd.jupyter.widget-view+json": {
       "model_id": "408e83ff3ec34eacafe4a0e4b5efb5a9",
       "version_major": 2,
       "version_minor": 0
      },
      "text/plain": [
       "  0%|          | 0/5000 [00:00<?, ?it/s]"
      ]
     },
     "metadata": {},
     "output_type": "display_data"
    },
    {
     "name": "stdout",
     "output_type": "stream",
     "text": [
      "Optimization finished!\n",
      "Evaluating: {'k': 2000, 'lambda_reg': 0.01, 'learning_rate': 0.01, 'max_iter': 3000}\n"
     ]
    },
    {
     "data": {
      "application/vnd.jupyter.widget-view+json": {
       "model_id": "c6563dcb43c243328d5ff95aa14124d2",
       "version_major": 2,
       "version_minor": 0
      },
      "text/plain": [
       "  0%|          | 0/3000 [00:00<?, ?it/s]"
      ]
     },
     "metadata": {},
     "output_type": "display_data"
    },
    {
     "name": "stdout",
     "output_type": "stream",
     "text": [
      "Optimization finished!\n",
      "Evaluating: {'k': 2000, 'lambda_reg': 0.01, 'learning_rate': 0.01, 'max_iter': 4000}\n"
     ]
    },
    {
     "data": {
      "application/vnd.jupyter.widget-view+json": {
       "model_id": "cdc2f3cd57d842179ad22ebd322cc38d",
       "version_major": 2,
       "version_minor": 0
      },
      "text/plain": [
       "  0%|          | 0/4000 [00:00<?, ?it/s]"
      ]
     },
     "metadata": {},
     "output_type": "display_data"
    },
    {
     "name": "stdout",
     "output_type": "stream",
     "text": [
      "Optimization finished!\n",
      "Evaluating: {'k': 2000, 'lambda_reg': 0.01, 'learning_rate': 0.01, 'max_iter': 5000}\n"
     ]
    },
    {
     "data": {
      "application/vnd.jupyter.widget-view+json": {
       "model_id": "aee866ec34a04a1b94cbadb9826aad9f",
       "version_major": 2,
       "version_minor": 0
      },
      "text/plain": [
       "  0%|          | 0/5000 [00:00<?, ?it/s]"
      ]
     },
     "metadata": {},
     "output_type": "display_data"
    },
    {
     "name": "stdout",
     "output_type": "stream",
     "text": [
      "Optimization finished!\n",
      "Evaluating: {'k': 2000, 'lambda_reg': 0.01, 'learning_rate': 0.05, 'max_iter': 3000}\n"
     ]
    },
    {
     "data": {
      "application/vnd.jupyter.widget-view+json": {
       "model_id": "2b2eab5aee504b01a73206d22a59fd0d",
       "version_major": 2,
       "version_minor": 0
      },
      "text/plain": [
       "  0%|          | 0/3000 [00:00<?, ?it/s]"
      ]
     },
     "metadata": {},
     "output_type": "display_data"
    },
    {
     "name": "stdout",
     "output_type": "stream",
     "text": [
      "Optimization finished!\n",
      "Evaluating: {'k': 2000, 'lambda_reg': 0.01, 'learning_rate': 0.05, 'max_iter': 4000}\n"
     ]
    },
    {
     "data": {
      "application/vnd.jupyter.widget-view+json": {
       "model_id": "1370e56dd4fa4cc28f95e07b6976eabd",
       "version_major": 2,
       "version_minor": 0
      },
      "text/plain": [
       "  0%|          | 0/4000 [00:00<?, ?it/s]"
      ]
     },
     "metadata": {},
     "output_type": "display_data"
    },
    {
     "name": "stdout",
     "output_type": "stream",
     "text": [
      "Optimization finished!\n",
      "Evaluating: {'k': 2000, 'lambda_reg': 0.01, 'learning_rate': 0.05, 'max_iter': 5000}\n"
     ]
    },
    {
     "data": {
      "application/vnd.jupyter.widget-view+json": {
       "model_id": "36d77bf0f6774143925239473c7f6e1c",
       "version_major": 2,
       "version_minor": 0
      },
      "text/plain": [
       "  0%|          | 0/5000 [00:00<?, ?it/s]"
      ]
     },
     "metadata": {},
     "output_type": "display_data"
    },
    {
     "name": "stdout",
     "output_type": "stream",
     "text": [
      "Optimization finished!\n",
      "Evaluating: {'k': 2000, 'lambda_reg': 0.01, 'learning_rate': 0.1, 'max_iter': 3000}\n"
     ]
    },
    {
     "data": {
      "application/vnd.jupyter.widget-view+json": {
       "model_id": "2ce6432a82814720a8347afebb8ddd8c",
       "version_major": 2,
       "version_minor": 0
      },
      "text/plain": [
       "  0%|          | 0/3000 [00:00<?, ?it/s]"
      ]
     },
     "metadata": {},
     "output_type": "display_data"
    },
    {
     "name": "stdout",
     "output_type": "stream",
     "text": [
      "Optimization finished!\n",
      "Evaluating: {'k': 2000, 'lambda_reg': 0.01, 'learning_rate': 0.1, 'max_iter': 4000}\n"
     ]
    },
    {
     "data": {
      "application/vnd.jupyter.widget-view+json": {
       "model_id": "93e0d2ceed9b4fa9b0fdc7d19545c2e5",
       "version_major": 2,
       "version_minor": 0
      },
      "text/plain": [
       "  0%|          | 0/4000 [00:00<?, ?it/s]"
      ]
     },
     "metadata": {},
     "output_type": "display_data"
    },
    {
     "name": "stdout",
     "output_type": "stream",
     "text": [
      "Optimization finished!\n",
      "Evaluating: {'k': 2000, 'lambda_reg': 0.01, 'learning_rate': 0.1, 'max_iter': 5000}\n"
     ]
    },
    {
     "data": {
      "application/vnd.jupyter.widget-view+json": {
       "model_id": "e273b87997084ec797d715169dad8014",
       "version_major": 2,
       "version_minor": 0
      },
      "text/plain": [
       "  0%|          | 0/5000 [00:00<?, ?it/s]"
      ]
     },
     "metadata": {},
     "output_type": "display_data"
    },
    {
     "name": "stdout",
     "output_type": "stream",
     "text": [
      "Optimization finished!\n",
      "Evaluating: {'k': 3000, 'lambda_reg': 0.01, 'learning_rate': 0.01, 'max_iter': 3000}\n"
     ]
    },
    {
     "data": {
      "application/vnd.jupyter.widget-view+json": {
       "model_id": "5f378b6745054c3e86166a37dbb243cc",
       "version_major": 2,
       "version_minor": 0
      },
      "text/plain": [
       "  0%|          | 0/3000 [00:00<?, ?it/s]"
      ]
     },
     "metadata": {},
     "output_type": "display_data"
    },
    {
     "name": "stdout",
     "output_type": "stream",
     "text": [
      "Optimization finished!\n",
      "Evaluating: {'k': 3000, 'lambda_reg': 0.01, 'learning_rate': 0.01, 'max_iter': 4000}\n"
     ]
    },
    {
     "data": {
      "application/vnd.jupyter.widget-view+json": {
       "model_id": "e5ea41f3d2234fe3a0bc4f581f04715b",
       "version_major": 2,
       "version_minor": 0
      },
      "text/plain": [
       "  0%|          | 0/4000 [00:00<?, ?it/s]"
      ]
     },
     "metadata": {},
     "output_type": "display_data"
    },
    {
     "name": "stdout",
     "output_type": "stream",
     "text": [
      "Optimization finished!\n",
      "Evaluating: {'k': 3000, 'lambda_reg': 0.01, 'learning_rate': 0.01, 'max_iter': 5000}\n"
     ]
    },
    {
     "data": {
      "application/vnd.jupyter.widget-view+json": {
       "model_id": "48811e1c3f1c4483a9c232e08cd2e4d1",
       "version_major": 2,
       "version_minor": 0
      },
      "text/plain": [
       "  0%|          | 0/5000 [00:00<?, ?it/s]"
      ]
     },
     "metadata": {},
     "output_type": "display_data"
    },
    {
     "name": "stdout",
     "output_type": "stream",
     "text": [
      "Optimization finished!\n",
      "Evaluating: {'k': 3000, 'lambda_reg': 0.01, 'learning_rate': 0.05, 'max_iter': 3000}\n"
     ]
    },
    {
     "data": {
      "application/vnd.jupyter.widget-view+json": {
       "model_id": "7efe5ac6cdb74a2d8c4f4a6fabfe54fe",
       "version_major": 2,
       "version_minor": 0
      },
      "text/plain": [
       "  0%|          | 0/3000 [00:00<?, ?it/s]"
      ]
     },
     "metadata": {},
     "output_type": "display_data"
    },
    {
     "name": "stdout",
     "output_type": "stream",
     "text": [
      "Optimization finished!\n",
      "Evaluating: {'k': 3000, 'lambda_reg': 0.01, 'learning_rate': 0.05, 'max_iter': 4000}\n"
     ]
    },
    {
     "data": {
      "application/vnd.jupyter.widget-view+json": {
       "model_id": "e51b9290bc4145178de1ad4413a0b92a",
       "version_major": 2,
       "version_minor": 0
      },
      "text/plain": [
       "  0%|          | 0/4000 [00:00<?, ?it/s]"
      ]
     },
     "metadata": {},
     "output_type": "display_data"
    },
    {
     "name": "stdout",
     "output_type": "stream",
     "text": [
      "Optimization finished!\n",
      "Evaluating: {'k': 3000, 'lambda_reg': 0.01, 'learning_rate': 0.05, 'max_iter': 5000}\n"
     ]
    },
    {
     "data": {
      "application/vnd.jupyter.widget-view+json": {
       "model_id": "9365e50399e444af91d04e1b3295f5f0",
       "version_major": 2,
       "version_minor": 0
      },
      "text/plain": [
       "  0%|          | 0/5000 [00:00<?, ?it/s]"
      ]
     },
     "metadata": {},
     "output_type": "display_data"
    },
    {
     "name": "stdout",
     "output_type": "stream",
     "text": [
      "Optimization finished!\n",
      "Evaluating: {'k': 3000, 'lambda_reg': 0.01, 'learning_rate': 0.1, 'max_iter': 3000}\n"
     ]
    },
    {
     "data": {
      "application/vnd.jupyter.widget-view+json": {
       "model_id": "968cdb3959fe4c0cafea15899f918024",
       "version_major": 2,
       "version_minor": 0
      },
      "text/plain": [
       "  0%|          | 0/3000 [00:00<?, ?it/s]"
      ]
     },
     "metadata": {},
     "output_type": "display_data"
    },
    {
     "name": "stdout",
     "output_type": "stream",
     "text": [
      "Optimization finished!\n",
      "Evaluating: {'k': 3000, 'lambda_reg': 0.01, 'learning_rate': 0.1, 'max_iter': 4000}\n"
     ]
    },
    {
     "data": {
      "application/vnd.jupyter.widget-view+json": {
       "model_id": "0c7db53e37e340a9a933dfd68f7617a4",
       "version_major": 2,
       "version_minor": 0
      },
      "text/plain": [
       "  0%|          | 0/4000 [00:00<?, ?it/s]"
      ]
     },
     "metadata": {},
     "output_type": "display_data"
    },
    {
     "name": "stdout",
     "output_type": "stream",
     "text": [
      "Optimization finished!\n",
      "Evaluating: {'k': 3000, 'lambda_reg': 0.01, 'learning_rate': 0.1, 'max_iter': 5000}\n"
     ]
    },
    {
     "data": {
      "application/vnd.jupyter.widget-view+json": {
       "model_id": "38e66b9a8a2c48c19ac3caeeaf2635c7",
       "version_major": 2,
       "version_minor": 0
      },
      "text/plain": [
       "  0%|          | 0/5000 [00:00<?, ?it/s]"
      ]
     },
     "metadata": {},
     "output_type": "display_data"
    },
    {
     "name": "stdout",
     "output_type": "stream",
     "text": [
      "Optimization finished!\n",
      "Best parameter settings: {'k': 2000, 'lambda_reg': 0.01, 'learning_rate': 0.05, 'max_iter': 4000}\n",
      "Recall@50 = 0.1558\n",
      "\n",
      "[GridSearch_BPR] Evaluation started!\n"
     ]
    },
    {
     "data": {
      "application/vnd.jupyter.widget-view+json": {
       "model_id": "27994f5d0eb74abeb0e85820065ea11a",
       "version_major": 2,
       "version_minor": 0
      },
      "text/plain": [
       "Ranking:   0%|          | 0/14835 [00:00<?, ?it/s]"
      ]
     },
     "metadata": {},
     "output_type": "display_data"
    },
    {
     "data": {
      "application/vnd.jupyter.widget-view+json": {
       "model_id": "edea4aff4c8b45d3bdf3129dbc922975",
       "version_major": 2,
       "version_minor": 0
      },
      "text/plain": [
       "Ranking:   0%|          | 0/14900 [00:00<?, ?it/s]"
      ]
     },
     "metadata": {},
     "output_type": "display_data"
    },
    {
     "name": "stdout",
     "output_type": "stream",
     "text": [
      "\n",
      "VALIDATION:\n",
      "...\n",
      "               | Recall@50 | Time (s)\n",
      "-------------- + --------- + --------\n",
      "GridSearch_BPR |    0.1558 |  80.3390\n",
      "\n",
      "TEST:\n",
      "...\n",
      "               | Recall@50 |   Train (s) | Test (s)\n",
      "-------------- + --------- + ----------- + --------\n",
      "GridSearch_BPR |    0.1550 | 112321.3334 |  80.3642\n",
      "\n",
      "{'k': 2000, 'lambda_reg': 0.01, 'learning_rate': 0.05, 'max_iter': 4000}\n",
      "CPU times: total: 1d 4h 57min 26s\n",
      "Wall time: 1d 7h 14min 42s\n"
     ]
    }
   ],
   "source": [
    "%%time\n",
    "# Define the experiment\n",
    "cornac.Experiment(\n",
    "    eval_method=rs,\n",
    "    models=[gs_bpr],\n",
    "    metrics=[rec50],\n",
    "    user_based=False,\n",
    ").run()\n",
    "\n",
    "# Obtain the best params\n",
    "print(gs_bpr.best_params)"
   ]
  },
  {
   "cell_type": "code",
   "execution_count": 6,
   "metadata": {},
   "outputs": [
    {
     "name": "stdout",
     "output_type": "stream",
     "text": [
      "BPR model is saved to bpr_best_model\\BPR\\2024-05-19_16-09-58-232150.pkl\n"
     ]
    },
    {
     "data": {
      "text/plain": [
       "'bpr_best_model\\\\BPR\\\\2024-05-19_16-09-58-232150.pkl'"
      ]
     },
     "execution_count": 6,
     "metadata": {},
     "output_type": "execute_result"
    }
   ],
   "source": [
    "gs_bpr.best_model.save(\"bpr_best_model\")"
   ]
  },
  {
   "cell_type": "code",
   "execution_count": 7,
   "metadata": {},
   "outputs": [
    {
     "name": "stdout",
     "output_type": "stream",
     "text": [
      "CPU times: total: 0 ns\n",
      "Wall time: 0 ns\n"
     ]
    }
   ],
   "source": [
    "%%time\n",
    "from tqdm.notebook import tqdm\n",
    "\n",
    "import zipfile\n",
    "\n",
    "def generate_submission(bpr):\n",
    "    print(f\"Generating recommendations using {bpr.name}...\")\n",
    "    df = pd.read_csv(\"./cs608_ip_train_v3.csv\")\n",
    "    \n",
    "    # Sort the DataFrame by 'user_id' in ascending order\n",
    "    df_sorted = df.sort_values(by='user_id')\n",
    "\n",
    "    # Extract unique user IDs sorted in ascending order\n",
    "    user_ids = df_sorted['user_id'].unique()\n",
    "\n",
    "    # Generate recommendations for all users\n",
    "    top_k_recommendations = []\n",
    "    for user_id in tqdm(user_ids):\n",
    "        recs = bpr.recommend(user_id=user_id, k=50)\n",
    "        top_k_recommendations.append(recs)\n",
    "\n",
    "    with open(\"submission.txt\", \"w\") as file:\n",
    "        for user_recommendations in top_k_recommendations:\n",
    "            file.write(\" \".join(map(str, user_recommendations)) + \"\\n\")\n",
    "\n",
    "    # zip the submission file\n",
    "    with zipfile.ZipFile('submission.zip', 'w') as file:\n",
    "        file.write('submission.txt')"
   ]
  },
  {
   "cell_type": "code",
   "execution_count": 8,
   "metadata": {},
   "outputs": [
    {
     "name": "stdout",
     "output_type": "stream",
     "text": [
      "Generating recommendations using BPR...\n"
     ]
    },
    {
     "data": {
      "application/vnd.jupyter.widget-view+json": {
       "model_id": "f749dc3ac89b4ac6bb4fb66a91df67f8",
       "version_major": 2,
       "version_minor": 0
      },
      "text/plain": [
       "  0%|          | 0/21124 [00:00<?, ?it/s]"
      ]
     },
     "metadata": {},
     "output_type": "display_data"
    }
   ],
   "source": [
    "generate_submission(gs_bpr.best_model)"
   ]
  }
 ],
 "metadata": {
  "kernelspec": {
   "display_name": "rag",
   "language": "python",
   "name": "python3"
  },
  "language_info": {
   "codemirror_mode": {
    "name": "ipython",
    "version": 3
   },
   "file_extension": ".py",
   "mimetype": "text/x-python",
   "name": "python",
   "nbconvert_exporter": "python",
   "pygments_lexer": "ipython3",
   "version": "3.11.9"
  }
 },
 "nbformat": 4,
 "nbformat_minor": 2
}

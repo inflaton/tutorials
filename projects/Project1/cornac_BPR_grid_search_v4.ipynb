{
 "cells": [
  {
   "cell_type": "code",
   "execution_count": 1,
   "metadata": {},
   "outputs": [
    {
     "name": "stdout",
     "output_type": "stream",
     "text": [
      "System version: 3.11.8 (main, Feb 26 2024, 15:36:12) [Clang 14.0.6 ]\n",
      "Cornac version: 2.1\n",
      "Tensorflow version: 2.16.1\n"
     ]
    }
   ],
   "source": [
    "import sys\n",
    "import cornac\n",
    "import tensorflow as tf\n",
    "\n",
    "print(f\"System version: {sys.version}\")\n",
    "print(f\"Cornac version: {cornac.__version__}\")\n",
    "print(f\"Tensorflow version: {tf.__version__}\")\n",
    "\n",
    "SEED = 20240516\n",
    "VERBOSE = True"
   ]
  },
  {
   "cell_type": "code",
   "execution_count": 2,
   "metadata": {},
   "outputs": [
    {
     "name": "stdout",
     "output_type": "stream",
     "text": [
      "rating_threshold = 1.0\n",
      "exclude_unknowns = True\n",
      "---\n",
      "Training data:\n",
      "Number of users = 21124\n",
      "Number of items = 29781\n",
      "Number of ratings = 225055\n",
      "Max rating = 5.0\n",
      "Min rating = 1.0\n",
      "Global mean = 4.3\n",
      "---\n",
      "Test data:\n",
      "Number of users = 21124\n",
      "Number of items = 29781\n",
      "Number of ratings = 27263\n",
      "Number of unknown users = 0\n",
      "Number of unknown items = 0\n",
      "---\n",
      "Validation data:\n",
      "Number of users = 21124\n",
      "Number of items = 29781\n",
      "Number of ratings = 27295\n",
      "---\n",
      "Total users = 21124\n",
      "Total items = 29781\n"
     ]
    }
   ],
   "source": [
    "import cornac\n",
    "import pandas as pd\n",
    "from cornac.eval_methods import RatioSplit\n",
    "from cornac.models import BPR\n",
    "from cornac.metrics import Precision, Recall\n",
    "\n",
    "df = pd.read_csv(\"./cs608_ip_train_v3.csv\")\n",
    "df1 = pd.read_csv(\"./cs608_ip_probe_v3.csv\")\n",
    "data_train = df.values.tolist()\n",
    "data_val = df1.values.tolist()\n",
    "data = data_train + data_val\n",
    "\n",
    "# Split the data into training, validation and testing sets\n",
    "rs = RatioSplit(data=data, test_size=0.1, val_size=0.1, seed=SEED, verbose=VERBOSE)\n",
    "\n",
    "# Instantiate Recall@100 for evaluation\n",
    "rec50 = cornac.metrics.Recall(50)\n",
    "\n",
    "# Instantiate a matrix factorization model (e.g., BPR)\n",
    "bpr = BPR(\n",
    "    k=500, max_iter=2000, learning_rate=0.1, lambda_reg=0.01, seed=SEED, verbose=VERBOSE\n",
    ")"
   ]
  },
  {
   "cell_type": "code",
   "execution_count": 5,
   "metadata": {},
   "outputs": [],
   "source": [
    "from cornac.hyperopt import Discrete, Continuous\n",
    "from cornac.hyperopt import GridSearch, RandomSearch\n",
    "\n",
    "# Grid Search\n",
    "gs_bpr = GridSearch(\n",
    "    model=bpr,\n",
    "    space=[\n",
    "        Discrete(name=\"k\", values=[500, 1000]),\n",
    "        Discrete(name=\"learning_rate\", values=[0.05, 0.1, 0.2]),\n",
    "        Discrete(name=\"lambda_reg\", values=[0.01]),\n",
    "        Discrete(name=\"max_iter\", values=[2000, 3000]),\n",
    "    ],\n",
    "    metric=rec50,\n",
    "    eval_method=rs,\n",
    ")"
   ]
  },
  {
   "cell_type": "code",
   "execution_count": 6,
   "metadata": {},
   "outputs": [
    {
     "name": "stdout",
     "output_type": "stream",
     "text": [
      "\n",
      "[GridSearch_BPR] Training started!\n",
      "Evaluating: {'k': 500, 'lambda_reg': 0.01, 'learning_rate': 0.05, 'max_iter': 2000}\n"
     ]
    },
    {
     "data": {
      "application/vnd.jupyter.widget-view+json": {
       "model_id": "448b340b2d8d4cc1a9422df3a57d4112",
       "version_major": 2,
       "version_minor": 0
      },
      "text/plain": [
       "  0%|          | 0/2000 [00:00<?, ?it/s]"
      ]
     },
     "metadata": {},
     "output_type": "display_data"
    },
    {
     "name": "stdout",
     "output_type": "stream",
     "text": [
      "Optimization finished!\n",
      "Evaluating: {'k': 500, 'lambda_reg': 0.01, 'learning_rate': 0.05, 'max_iter': 3000}\n"
     ]
    },
    {
     "data": {
      "application/vnd.jupyter.widget-view+json": {
       "model_id": "3a1340766eb04604a07b1c786231ea32",
       "version_major": 2,
       "version_minor": 0
      },
      "text/plain": [
       "  0%|          | 0/3000 [00:00<?, ?it/s]"
      ]
     },
     "metadata": {},
     "output_type": "display_data"
    },
    {
     "name": "stdout",
     "output_type": "stream",
     "text": [
      "Optimization finished!\n",
      "Evaluating: {'k': 500, 'lambda_reg': 0.01, 'learning_rate': 0.1, 'max_iter': 2000}\n"
     ]
    },
    {
     "data": {
      "application/vnd.jupyter.widget-view+json": {
       "model_id": "c6ab23017dd544c4a09057c129f82ce6",
       "version_major": 2,
       "version_minor": 0
      },
      "text/plain": [
       "  0%|          | 0/2000 [00:00<?, ?it/s]"
      ]
     },
     "metadata": {},
     "output_type": "display_data"
    },
    {
     "name": "stdout",
     "output_type": "stream",
     "text": [
      "Optimization finished!\n",
      "Evaluating: {'k': 500, 'lambda_reg': 0.01, 'learning_rate': 0.1, 'max_iter': 3000}\n"
     ]
    },
    {
     "data": {
      "application/vnd.jupyter.widget-view+json": {
       "model_id": "599d3efff19e478882b828948b732d74",
       "version_major": 2,
       "version_minor": 0
      },
      "text/plain": [
       "  0%|          | 0/3000 [00:00<?, ?it/s]"
      ]
     },
     "metadata": {},
     "output_type": "display_data"
    },
    {
     "name": "stdout",
     "output_type": "stream",
     "text": [
      "Optimization finished!\n",
      "Evaluating: {'k': 500, 'lambda_reg': 0.01, 'learning_rate': 0.2, 'max_iter': 2000}\n"
     ]
    },
    {
     "data": {
      "application/vnd.jupyter.widget-view+json": {
       "model_id": "1f7072b04e104eb98e28b15ae60c117f",
       "version_major": 2,
       "version_minor": 0
      },
      "text/plain": [
       "  0%|          | 0/2000 [00:00<?, ?it/s]"
      ]
     },
     "metadata": {},
     "output_type": "display_data"
    },
    {
     "name": "stdout",
     "output_type": "stream",
     "text": [
      "Optimization finished!\n",
      "Evaluating: {'k': 500, 'lambda_reg': 0.01, 'learning_rate': 0.2, 'max_iter': 3000}\n"
     ]
    },
    {
     "data": {
      "application/vnd.jupyter.widget-view+json": {
       "model_id": "2c8262ff20f545e286c8a871a52c0b88",
       "version_major": 2,
       "version_minor": 0
      },
      "text/plain": [
       "  0%|          | 0/3000 [00:00<?, ?it/s]"
      ]
     },
     "metadata": {},
     "output_type": "display_data"
    },
    {
     "name": "stdout",
     "output_type": "stream",
     "text": [
      "Optimization finished!\n",
      "Evaluating: {'k': 1000, 'lambda_reg': 0.01, 'learning_rate': 0.05, 'max_iter': 2000}\n"
     ]
    },
    {
     "data": {
      "application/vnd.jupyter.widget-view+json": {
       "model_id": "8eb260de4d734539b8c5c5ab0bc517dd",
       "version_major": 2,
       "version_minor": 0
      },
      "text/plain": [
       "  0%|          | 0/2000 [00:00<?, ?it/s]"
      ]
     },
     "metadata": {},
     "output_type": "display_data"
    },
    {
     "name": "stdout",
     "output_type": "stream",
     "text": [
      "Optimization finished!\n",
      "Evaluating: {'k': 1000, 'lambda_reg': 0.01, 'learning_rate': 0.05, 'max_iter': 3000}\n"
     ]
    },
    {
     "data": {
      "application/vnd.jupyter.widget-view+json": {
       "model_id": "c742cb38e2db40a3970f253d0d5a11a3",
       "version_major": 2,
       "version_minor": 0
      },
      "text/plain": [
       "  0%|          | 0/3000 [00:00<?, ?it/s]"
      ]
     },
     "metadata": {},
     "output_type": "display_data"
    },
    {
     "name": "stdout",
     "output_type": "stream",
     "text": [
      "Optimization finished!\n",
      "Evaluating: {'k': 1000, 'lambda_reg': 0.01, 'learning_rate': 0.1, 'max_iter': 2000}\n"
     ]
    },
    {
     "data": {
      "application/vnd.jupyter.widget-view+json": {
       "model_id": "93ed9c7740784ad586b6763aa059b459",
       "version_major": 2,
       "version_minor": 0
      },
      "text/plain": [
       "  0%|          | 0/2000 [00:00<?, ?it/s]"
      ]
     },
     "metadata": {},
     "output_type": "display_data"
    },
    {
     "name": "stdout",
     "output_type": "stream",
     "text": [
      "Optimization finished!\n",
      "Evaluating: {'k': 1000, 'lambda_reg': 0.01, 'learning_rate': 0.1, 'max_iter': 3000}\n"
     ]
    },
    {
     "data": {
      "application/vnd.jupyter.widget-view+json": {
       "model_id": "13c8e33a550346069701756f4895c349",
       "version_major": 2,
       "version_minor": 0
      },
      "text/plain": [
       "  0%|          | 0/3000 [00:00<?, ?it/s]"
      ]
     },
     "metadata": {},
     "output_type": "display_data"
    },
    {
     "name": "stdout",
     "output_type": "stream",
     "text": [
      "Optimization finished!\n",
      "Evaluating: {'k': 1000, 'lambda_reg': 0.01, 'learning_rate': 0.2, 'max_iter': 2000}\n"
     ]
    },
    {
     "data": {
      "application/vnd.jupyter.widget-view+json": {
       "model_id": "0e15b6b0a4d14ba3a8bfaea657c18791",
       "version_major": 2,
       "version_minor": 0
      },
      "text/plain": [
       "  0%|          | 0/2000 [00:00<?, ?it/s]"
      ]
     },
     "metadata": {},
     "output_type": "display_data"
    },
    {
     "name": "stdout",
     "output_type": "stream",
     "text": [
      "Optimization finished!\n",
      "Evaluating: {'k': 1000, 'lambda_reg': 0.01, 'learning_rate': 0.2, 'max_iter': 3000}\n"
     ]
    },
    {
     "data": {
      "application/vnd.jupyter.widget-view+json": {
       "model_id": "95c22a2164ec42708ec2e701a8a2f347",
       "version_major": 2,
       "version_minor": 0
      },
      "text/plain": [
       "  0%|          | 0/3000 [00:00<?, ?it/s]"
      ]
     },
     "metadata": {},
     "output_type": "display_data"
    },
    {
     "name": "stdout",
     "output_type": "stream",
     "text": [
      "Optimization finished!\n",
      "Best parameter settings: {'k': 1000, 'lambda_reg': 0.01, 'learning_rate': 0.05, 'max_iter': 3000}\n",
      "Recall@50 = 0.1549\n",
      "\n",
      "[GridSearch_BPR] Evaluation started!\n"
     ]
    },
    {
     "data": {
      "application/vnd.jupyter.widget-view+json": {
       "model_id": "fba4cb19d4f64d93b91a010b3900f0d2",
       "version_major": 2,
       "version_minor": 0
      },
      "text/plain": [
       "Ranking:   0%|          | 0/14835 [00:00<?, ?it/s]"
      ]
     },
     "metadata": {},
     "output_type": "display_data"
    },
    {
     "data": {
      "application/vnd.jupyter.widget-view+json": {
       "model_id": "e66031534b64498eaa291d7db3a37908",
       "version_major": 2,
       "version_minor": 0
      },
      "text/plain": [
       "Ranking:   0%|          | 0/14900 [00:00<?, ?it/s]"
      ]
     },
     "metadata": {},
     "output_type": "display_data"
    },
    {
     "name": "stdout",
     "output_type": "stream",
     "text": [
      "\n",
      "VALIDATION:\n",
      "...\n",
      "               | Recall@50 | Time (s)\n",
      "-------------- + --------- + --------\n",
      "GridSearch_BPR |    0.1549 |  34.3568\n",
      "\n",
      "TEST:\n",
      "...\n",
      "               | Recall@50 |  Train (s) | Test (s)\n",
      "-------------- + --------- + ---------- + --------\n",
      "GridSearch_BPR |    0.1551 | 21041.1894 | 263.3646\n",
      "\n",
      "{'k': 1000, 'lambda_reg': 0.01, 'learning_rate': 0.05, 'max_iter': 3000}\n",
      "CPU times: user 1h 18min 28s, sys: 12.1 s, total: 1h 18min 40s\n",
      "Wall time: 5h 55min 38s\n"
     ]
    }
   ],
   "source": [
    "%%time\n",
    "# Define the experiment\n",
    "cornac.Experiment(\n",
    "    eval_method=rs,\n",
    "    models=[gs_bpr],\n",
    "    metrics=[rec50],\n",
    "    user_based=False,\n",
    ").run()\n",
    "\n",
    "# Obtain the best params\n",
    "print(gs_bpr.best_params)"
   ]
  },
  {
   "cell_type": "code",
   "execution_count": 7,
   "metadata": {},
   "outputs": [
    {
     "name": "stdout",
     "output_type": "stream",
     "text": [
      "BPR model is saved to bpr_best_model/BPR/2024-05-18_06-06-00-370517.pkl\n"
     ]
    },
    {
     "data": {
      "text/plain": [
       "'bpr_best_model/BPR/2024-05-18_06-06-00-370517.pkl'"
      ]
     },
     "execution_count": 7,
     "metadata": {},
     "output_type": "execute_result"
    }
   ],
   "source": [
    "gs_bpr.best_model.save(\"bpr_best_model\")"
   ]
  },
  {
   "cell_type": "code",
   "execution_count": 8,
   "metadata": {},
   "outputs": [
    {
     "name": "stdout",
     "output_type": "stream",
     "text": [
      "CPU times: user 7 µs, sys: 321 µs, total: 328 µs\n",
      "Wall time: 333 µs\n"
     ]
    }
   ],
   "source": [
    "%%time\n",
    "from tqdm.notebook import tqdm\n",
    "\n",
    "import zipfile\n",
    "\n",
    "def generate_submission(bpr):\n",
    "    print(f\"Generating recommendations using {bpr.name}...\")\n",
    "    df = pd.read_csv(\"./cs608_ip_train_v3.csv\")\n",
    "    \n",
    "    # Sort the DataFrame by 'user_id' in ascending order\n",
    "    df_sorted = df.sort_values(by='user_id')\n",
    "\n",
    "    # Extract unique user IDs sorted in ascending order\n",
    "    user_ids = df_sorted['user_id'].unique()\n",
    "\n",
    "    # Generate recommendations for all users\n",
    "    top_k_recommendations = []\n",
    "    for user_id in tqdm(user_ids):\n",
    "        recs = bpr.recommend(user_id=user_id, k=50)\n",
    "        top_k_recommendations.append(recs)\n",
    "\n",
    "    with open(\"submission.txt\", \"w\") as file:\n",
    "        for user_recommendations in top_k_recommendations:\n",
    "            file.write(\" \".join(map(str, user_recommendations)) + \"\\n\")\n",
    "\n",
    "    # zip the submission file\n",
    "    with zipfile.ZipFile('submission.zip', 'w') as file:\n",
    "        file.write('submission.txt')"
   ]
  },
  {
   "cell_type": "code",
   "execution_count": 9,
   "metadata": {},
   "outputs": [
    {
     "name": "stdout",
     "output_type": "stream",
     "text": [
      "Generating recommendations using BPR...\n"
     ]
    },
    {
     "data": {
      "application/vnd.jupyter.widget-view+json": {
       "model_id": "e15965ea239a4ff2b75745e098f01df1",
       "version_major": 2,
       "version_minor": 0
      },
      "text/plain": [
       "  0%|          | 0/21124 [00:00<?, ?it/s]"
      ]
     },
     "metadata": {},
     "output_type": "display_data"
    }
   ],
   "source": [
    "generate_submission(gs_bpr.best_model)"
   ]
  }
 ],
 "metadata": {
  "kernelspec": {
   "display_name": "rag",
   "language": "python",
   "name": "python3"
  },
  "language_info": {
   "codemirror_mode": {
    "name": "ipython",
    "version": 3
   },
   "file_extension": ".py",
   "mimetype": "text/x-python",
   "name": "python",
   "nbconvert_exporter": "python",
   "pygments_lexer": "ipython3",
   "version": "3.11.8"
  }
 },
 "nbformat": 4,
 "nbformat_minor": 2
}
